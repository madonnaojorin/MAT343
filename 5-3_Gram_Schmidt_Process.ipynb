{
  "cells": [
    {
      "cell_type": "markdown",
      "metadata": {
        "id": "view-in-github",
        "colab_type": "text"
      },
      "source": [
        "<a href=\"https://colab.research.google.com/github/madonnaojorin/MAT343_Linear_Algebra/blob/main/5-3_Gram_Schmidt_Process.ipynb\" target=\"_parent\"><img src=\"https://colab.research.google.com/assets/colab-badge.svg\" alt=\"Open In Colab\"/></a>"
      ]
    },
    {
      "cell_type": "markdown",
      "source": [
        "#5.3. Orthonormal Bases: Gram-Schmidt Process"
      ],
      "metadata": {
        "id": "rB3w0ZVm1Mik"
      }
    },
    {
      "cell_type": "markdown",
      "source": [
        "##Definitions of Orthogonal and Orthonormal Sets\n",
        "A set $S$ of vectors in an inner product space $V$ is **orthogonal** when every pair of vectors in $S$ is orthogonal. If, in addition, each vector in the set is a unit vector, then $S$ is **orthonormal**."
      ],
      "metadata": {
        "id": "jrwepQwA1K7U"
      }
    },
    {
      "cell_type": "code",
      "source": [
        "#Show that the set is an orthonormal basis for R^3.\n",
        "\n",
        "v1 = c(1/sqrt(2),1/sqrt(2),0)\n",
        "v2 = c(-sqrt(2)/6,sqrt(2)/6,2*sqrt(2)/3)\n",
        "v3 = c(2/3,-2/3,1/3)\n",
        "\n",
        "# First show that the three vectors are mutually orthogonal.\n",
        "v1%*%v2\n",
        "v1%*%v3\n",
        "v2%*%v3\n",
        "\n",
        "# Now, show that each vector is of length 1\n",
        "norm(v1,type = \"2\")\n",
        "norm(v2,type = \"2\")\n",
        "norm(v3,type = \"2\")\n",
        "\n",
        "# Thus, S is an orthonormal set.\n",
        "# The three vectors do not lie in the same plane, so S span R^3. \n",
        "# By Theorem 4.12, they form a (nonstandard) orthonormal basis for R^3."
      ],
      "metadata": {
        "colab": {
          "base_uri": "https://localhost:8080/",
          "height": 475
        },
        "id": "TV2SNT7dJTOa",
        "outputId": "d8a64f65-6aec-4f46-f1ce-90aea6fc8da6"
      },
      "execution_count": null,
      "outputs": [
        {
          "output_type": "display_data",
          "data": {
            "text/html": [
              "<table class=\"dataframe\">\n",
              "<caption>A matrix: 1 × 1 of type dbl</caption>\n",
              "<tbody>\n",
              "\t<tr><td>0</td></tr>\n",
              "</tbody>\n",
              "</table>\n"
            ],
            "text/markdown": "\nA matrix: 1 × 1 of type dbl\n\n| 0 |\n\n",
            "text/latex": "A matrix: 1 × 1 of type dbl\n\\begin{tabular}{l}\n\t 0\\\\\n\\end{tabular}\n",
            "text/plain": [
              "     [,1]\n",
              "[1,] 0   "
            ]
          },
          "metadata": {}
        },
        {
          "output_type": "display_data",
          "data": {
            "text/html": [
              "<table class=\"dataframe\">\n",
              "<caption>A matrix: 1 × 1 of type dbl</caption>\n",
              "<tbody>\n",
              "\t<tr><td>0</td></tr>\n",
              "</tbody>\n",
              "</table>\n"
            ],
            "text/markdown": "\nA matrix: 1 × 1 of type dbl\n\n| 0 |\n\n",
            "text/latex": "A matrix: 1 × 1 of type dbl\n\\begin{tabular}{l}\n\t 0\\\\\n\\end{tabular}\n",
            "text/plain": [
              "     [,1]\n",
              "[1,] 0   "
            ]
          },
          "metadata": {}
        },
        {
          "output_type": "display_data",
          "data": {
            "text/html": [
              "<table class=\"dataframe\">\n",
              "<caption>A matrix: 1 × 1 of type dbl</caption>\n",
              "<tbody>\n",
              "\t<tr><td>0</td></tr>\n",
              "</tbody>\n",
              "</table>\n"
            ],
            "text/markdown": "\nA matrix: 1 × 1 of type dbl\n\n| 0 |\n\n",
            "text/latex": "A matrix: 1 × 1 of type dbl\n\\begin{tabular}{l}\n\t 0\\\\\n\\end{tabular}\n",
            "text/plain": [
              "     [,1]\n",
              "[1,] 0   "
            ]
          },
          "metadata": {}
        },
        {
          "output_type": "display_data",
          "data": {
            "text/html": [
              "1"
            ],
            "text/markdown": "1",
            "text/latex": "1",
            "text/plain": [
              "[1] 1"
            ]
          },
          "metadata": {}
        },
        {
          "output_type": "display_data",
          "data": {
            "text/html": [
              "1"
            ],
            "text/markdown": "1",
            "text/latex": "1",
            "text/plain": [
              "[1] 1"
            ]
          },
          "metadata": {}
        },
        {
          "output_type": "display_data",
          "data": {
            "text/html": [
              "1"
            ],
            "text/markdown": "1",
            "text/latex": "1",
            "text/plain": [
              "[1] 1"
            ]
          },
          "metadata": {}
        }
      ]
    },
    {
      "cell_type": "markdown",
      "source": [
        "###Theorem 5.10 Orthogonal Sets Are Linearly Independent\n",
        "If $S=\\{\\textbf{v}_1,\\textbf{v}_2,\\ldots,\\textbf{v}_n\\}$ is an orthogonal set of *nonzero* vectors in an inner product space $V$, then $S$ is linearly independent."
      ],
      "metadata": {
        "id": "0Hc8adFK1VPA"
      }
    },
    {
      "cell_type": "markdown",
      "source": [
        "###Theorem 5.10 Corollary\n",
        "If $V$ is an inner product space of dimension $n$, then any orthogonal set of $n$ nonzero vectors is a basis for $V$.\n"
      ],
      "metadata": {
        "id": "5_8-hPQl1d8R"
      }
    },
    {
      "cell_type": "code",
      "source": [
        "#Show that the set S below is a basis for R^4.\n",
        "\n",
        "v1 = c(2,3,2,-2)\n",
        "v2 = c(1,0,0,1)\n",
        "v3 = c(-1,0,2,1)\n",
        "v4 = c(-1,2,-1,1)\n",
        "\n",
        "# The set S has four nonzero vectors. By the corollary to Theorem 5.10,\n",
        "# we show that S is a basis for R^4 by showing that it is an orthogonal set.\n",
        "\n",
        "v1%*%v2\n",
        "v1%*%v3\n",
        "v1%*%v4\n",
        "v2%*%v3\n",
        "v2%*%v4\n",
        "v3%*%v4\n",
        "\n",
        "# Since all innner products are 0,S is orthogonal, \n",
        "# and by the corollary to Theorem 5.10, it is a basis for R^4."
      ],
      "metadata": {
        "colab": {
          "base_uri": "https://localhost:8080/",
          "height": 830
        },
        "id": "hTIgE8Wt6tmk",
        "outputId": "f9e9371f-d906-46df-a14a-947f0705510b"
      },
      "execution_count": null,
      "outputs": [
        {
          "output_type": "display_data",
          "data": {
            "text/html": [
              "<table class=\"dataframe\">\n",
              "<caption>A matrix: 1 × 1 of type dbl</caption>\n",
              "<tbody>\n",
              "\t<tr><td>0</td></tr>\n",
              "</tbody>\n",
              "</table>\n"
            ],
            "text/markdown": "\nA matrix: 1 × 1 of type dbl\n\n| 0 |\n\n",
            "text/latex": "A matrix: 1 × 1 of type dbl\n\\begin{tabular}{l}\n\t 0\\\\\n\\end{tabular}\n",
            "text/plain": [
              "     [,1]\n",
              "[1,] 0   "
            ]
          },
          "metadata": {}
        },
        {
          "output_type": "display_data",
          "data": {
            "text/html": [
              "<table class=\"dataframe\">\n",
              "<caption>A matrix: 1 × 1 of type dbl</caption>\n",
              "<tbody>\n",
              "\t<tr><td>0</td></tr>\n",
              "</tbody>\n",
              "</table>\n"
            ],
            "text/markdown": "\nA matrix: 1 × 1 of type dbl\n\n| 0 |\n\n",
            "text/latex": "A matrix: 1 × 1 of type dbl\n\\begin{tabular}{l}\n\t 0\\\\\n\\end{tabular}\n",
            "text/plain": [
              "     [,1]\n",
              "[1,] 0   "
            ]
          },
          "metadata": {}
        },
        {
          "output_type": "display_data",
          "data": {
            "text/html": [
              "<table class=\"dataframe\">\n",
              "<caption>A matrix: 1 × 1 of type dbl</caption>\n",
              "<tbody>\n",
              "\t<tr><td>0</td></tr>\n",
              "</tbody>\n",
              "</table>\n"
            ],
            "text/markdown": "\nA matrix: 1 × 1 of type dbl\n\n| 0 |\n\n",
            "text/latex": "A matrix: 1 × 1 of type dbl\n\\begin{tabular}{l}\n\t 0\\\\\n\\end{tabular}\n",
            "text/plain": [
              "     [,1]\n",
              "[1,] 0   "
            ]
          },
          "metadata": {}
        },
        {
          "output_type": "display_data",
          "data": {
            "text/html": [
              "<table class=\"dataframe\">\n",
              "<caption>A matrix: 1 × 1 of type dbl</caption>\n",
              "<tbody>\n",
              "\t<tr><td>0</td></tr>\n",
              "</tbody>\n",
              "</table>\n"
            ],
            "text/markdown": "\nA matrix: 1 × 1 of type dbl\n\n| 0 |\n\n",
            "text/latex": "A matrix: 1 × 1 of type dbl\n\\begin{tabular}{l}\n\t 0\\\\\n\\end{tabular}\n",
            "text/plain": [
              "     [,1]\n",
              "[1,] 0   "
            ]
          },
          "metadata": {}
        },
        {
          "output_type": "display_data",
          "data": {
            "text/html": [
              "<table class=\"dataframe\">\n",
              "<caption>A matrix: 1 × 1 of type dbl</caption>\n",
              "<tbody>\n",
              "\t<tr><td>0</td></tr>\n",
              "</tbody>\n",
              "</table>\n"
            ],
            "text/markdown": "\nA matrix: 1 × 1 of type dbl\n\n| 0 |\n\n",
            "text/latex": "A matrix: 1 × 1 of type dbl\n\\begin{tabular}{l}\n\t 0\\\\\n\\end{tabular}\n",
            "text/plain": [
              "     [,1]\n",
              "[1,] 0   "
            ]
          },
          "metadata": {}
        },
        {
          "output_type": "display_data",
          "data": {
            "text/html": [
              "<table class=\"dataframe\">\n",
              "<caption>A matrix: 1 × 1 of type dbl</caption>\n",
              "<tbody>\n",
              "\t<tr><td>0</td></tr>\n",
              "</tbody>\n",
              "</table>\n"
            ],
            "text/markdown": "\nA matrix: 1 × 1 of type dbl\n\n| 0 |\n\n",
            "text/latex": "A matrix: 1 × 1 of type dbl\n\\begin{tabular}{l}\n\t 0\\\\\n\\end{tabular}\n",
            "text/plain": [
              "     [,1]\n",
              "[1,] 0   "
            ]
          },
          "metadata": {}
        }
      ]
    },
    {
      "cell_type": "markdown",
      "source": [
        "###Theorem 5.11 Coordinates Relative to an Orthonormal Basis\n",
        "If $B=\\{\\textbf{v}_1,\\textbf{v}_2,\\ldots,\\textbf{v}_n\\}$ is an orthonormal basis for an inner product space $V$, then the coordinate representation of a vector $\\textbf{w}$ relative to $B$ is\n",
        "$$\\textbf{w}=\\langle \\textbf{w},\\textbf{v}_1\\rangle \\textbf{v}_1+\\langle \\textbf{w},\\textbf{v}_2\\rangle \\textbf{v}_2+\\cdots+\\langle \\textbf{w},\\textbf{v}_n\\rangle \\textbf{v}_n.$$"
      ],
      "metadata": {
        "id": "oPVtCJB81iAX"
      }
    },
    {
      "cell_type": "markdown",
      "source": [
        "###Theorem 5.12 Gram-Schmidt Orthonormalization Process\n",
        "1. Let $B=\\{\\textbf{v}_1,\\textbf{v}_2,\\ldots,\\textbf{v}_n\\}$ be a basis for an inner product space $V$.\n",
        "2. Let $B'=\\{\\textbf{w}_1,\\textbf{w}_2,\\ldots,\\textbf{w}_n\\}$, where\n",
        "\\begin{align*}\n",
        "    \\textbf{w}_1&=\\textbf{v}_1\\\\\n",
        "    \\textbf{w}_2&=\\textbf{v}_2-\\frac{\\langle \\textbf{v}_2,\\textbf{w}_1\\rangle}{\\langle \\textbf{w}_1,\\textbf{w}_1\\rangle} \\textbf{w}_1\\\\\n",
        "    \\textbf{w}_3&=\\textbf{v}_3-\\frac{\\langle \\textbf{v}_3,\\textbf{w}_1\\rangle}{\\langle \\textbf{w}_1,\\textbf{w}_1\\rangle} \\textbf{w}_1-\\frac{\\langle \\textbf{v}_3,\\textbf{w}_2\\rangle}{\\langle \\textbf{w}_2,\\textbf{w}_2\\rangle} \\textbf{w}_2\\\\\n",
        "    \\vdots\\\\\n",
        "    \\textbf{w}_n&=\\textbf{v}_n-\\frac{\\langle \\textbf{v}_n,\\textbf{w}_1\\rangle}{\\langle \\textbf{w}_1,\\textbf{w}_1\\rangle} \\textbf{w}_1-\\frac{\\langle \\textbf{v}_n,\\textbf{w}_2\\rangle}{\\langle \\textbf{w}_2,\\textbf{w}_2\\rangle} \\textbf{w}_2-\\cdots-\\frac{\\langle \\textbf{v}_n,\\textbf{w}_{n-1}\\rangle}{\\langle \\textbf{w}_{n-1},\\textbf{w}_{n-1}\\rangle} \\textbf{w}_{n-1}\\\\\n",
        "\\end{align*}\n",
        "Then $B'$ is an *orthogonal* basis for $V$.\n",
        "3. Let $\\textbf{u}_i=\\frac{\\textbf{w}_i}{||\\textbf{w}_i||}$. Then $B''=\\{\\textbf{u}_1,\\textbf{u}_2,\\ldots,\\textbf{u}_n\\}$ is an *orthonormal* basis for $V$.\n",
        "Also, $\\text{span}\\{\\textbf{v}_1,\\textbf{v}_2,\\ldots,\\textbf{v}_k\\}=\\text{span}\\{\\textbf{u}_1,\\textbf{u}_2,\\ldots,\\textbf{u}_k\\}$ for $k=1,2,\\ldots,n$.\n"
      ],
      "metadata": {
        "id": "BkGCvv072VRf"
      }
    },
    {
      "cell_type": "code",
      "source": [
        "gramschmidt <- function(x) {\n",
        "  # Get the number of rows and columns of the matrix\n",
        "  n <- ncol(x)\n",
        "  m <- nrow(x)\n",
        "  \n",
        "  # Initialize the Q and R matrices\n",
        "  Q <- matrix(0, m, n)\n",
        "  R <- matrix(0, n, n)\n",
        "  \n",
        "  for (j in 1:n) {\n",
        "    v = x[,j] # Step 1 of the Gram-Schmidt process v1 = a1\n",
        "    # Skip the first column\n",
        "    if (j > 1) {\n",
        "      for (i in 1:(j-1)) {\n",
        "        R[i,j] <- t(Q[,i]) %*% x[,j] # Find the inner product (noted to be q^T a earlier)\n",
        "        # Subtract the projection from v which causes v to become perpendicular to all columns of Q\n",
        "        v <- v - R[i,j] * Q[,i] \n",
        "      }      \n",
        "    }\n",
        "    # Find the L2 norm of the jth diagonal of R\n",
        "    R[j,j] <- sqrt(v%*%v)\n",
        "    # The orthogonalized result is found and stored in the ith column of Q.\n",
        "    Q[,j] <- v / R[j,j]\n",
        "  }\n",
        "  return(Q)\n",
        "}"
      ],
      "metadata": {
        "id": "3JOliAulUjvB"
      },
      "execution_count": 2,
      "outputs": []
    },
    {
      "cell_type": "code",
      "source": [
        "# Find the basis B\n",
        "v1 = c(1,1)\n",
        "v2 = c(0,1)\n",
        "A <- matrix(c(v1,v2), 2, length(v1), byrow = FALSE)\n",
        "\n",
        "(Q = gramschmidt(A))"
      ],
      "metadata": {
        "colab": {
          "base_uri": "https://localhost:8080/",
          "height": 97
        },
        "id": "SUyctQigUocD",
        "outputId": "ac676b29-d0e6-4172-e236-ddd449fee359"
      },
      "execution_count": null,
      "outputs": [
        {
          "output_type": "display_data",
          "data": {
            "text/html": [
              "<table class=\"dataframe\">\n",
              "<caption>A matrix: 2 × 2 of type dbl</caption>\n",
              "<tbody>\n",
              "\t<tr><td>0.7071068</td><td>-0.7071068</td></tr>\n",
              "\t<tr><td>0.7071068</td><td> 0.7071068</td></tr>\n",
              "</tbody>\n",
              "</table>\n"
            ],
            "text/markdown": "\nA matrix: 2 × 2 of type dbl\n\n| 0.7071068 | -0.7071068 |\n| 0.7071068 |  0.7071068 |\n\n",
            "text/latex": "A matrix: 2 × 2 of type dbl\n\\begin{tabular}{ll}\n\t 0.7071068 & -0.7071068\\\\\n\t 0.7071068 &  0.7071068\\\\\n\\end{tabular}\n",
            "text/plain": [
              "     [,1]      [,2]      \n",
              "[1,] 0.7071068 -0.7071068\n",
              "[2,] 0.7071068  0.7071068"
            ]
          },
          "metadata": {}
        }
      ]
    },
    {
      "cell_type": "markdown",
      "source": [
        "For a square matrix $A$ the QR Decomposition converts $A$ into the product of an orthogonal matrix $Q$ (i.e. $Q^TQ=I$)\n",
        " and an upper triangular matrix $R$. Hence:\n",
        " $$A=QR$$\n",
        "\n",
        "where column $i$ of the $m\\times m$ matrix $R$ contains the coefficients of the linear combination of $\\textbf{q}_j$’s that produces $\\textbf{a}_i$. $Q$ is a $\\mathbb{R}^{n\\times m}$ matrix with $Q^TQ = I_{m\\times m}$.\n",
        "By the proof of Gram-Schmidt, $\\textbf{a}_i \\in span(\\textbf{q}_1, \\cdots,\\textbf{q}_i)$. So column $i$ of $R$ has\n",
        "only zeros below the diagonal. Hence $R$ has a special structure: it is upper triangular."
      ],
      "metadata": {
        "id": "mLY3pWlZFNIf"
      }
    },
    {
      "cell_type": "code",
      "source": [
        "R = t(Q)%*%A\n",
        "\n",
        "(QR = Q %*% R)"
      ],
      "metadata": {
        "colab": {
          "base_uri": "https://localhost:8080/",
          "height": 114
        },
        "id": "-pF1m0ErEiin",
        "outputId": "d9da8614-b727-4a17-9593-45a01f1b3f66"
      },
      "execution_count": null,
      "outputs": [
        {
          "output_type": "display_data",
          "data": {
            "text/html": [
              "<table class=\"dataframe\">\n",
              "<caption>A matrix: 2 × 2 of type dbl</caption>\n",
              "<tbody>\n",
              "\t<tr><td>1</td><td>-1.008758e-16</td></tr>\n",
              "\t<tr><td>1</td><td> 1.000000e+00</td></tr>\n",
              "</tbody>\n",
              "</table>\n"
            ],
            "text/markdown": "\nA matrix: 2 × 2 of type dbl\n\n| 1 | -1.008758e-16 |\n| 1 |  1.000000e+00 |\n\n",
            "text/latex": "A matrix: 2 × 2 of type dbl\n\\begin{tabular}{ll}\n\t 1 & -1.008758e-16\\\\\n\t 1 &  1.000000e+00\\\\\n\\end{tabular}\n",
            "text/plain": [
              "     [,1] [,2]         \n",
              "[1,] 1    -1.008758e-16\n",
              "[2,] 1     1.000000e+00"
            ]
          },
          "metadata": {}
        }
      ]
    },
    {
      "cell_type": "code",
      "source": [
        "# Apply the Gram-Schmidt orthonormalization process to the basis B for R^3 below.\n",
        "v1 = c(1,1,0)\n",
        "v2 = c(1,2,0)\n",
        "v3 = c(0,1,2)\n",
        "A <- matrix(c(v1,v2,v3), 3, length(v1), byrow = FALSE)\n",
        "\n",
        "(Q = gramschmidt(A))"
      ],
      "metadata": {
        "colab": {
          "base_uri": "https://localhost:8080/",
          "height": 128
        },
        "id": "6rjD--4mF2U0",
        "outputId": "e7ebb815-9721-42cb-d003-6bc2abb4fd2b"
      },
      "execution_count": null,
      "outputs": [
        {
          "output_type": "display_data",
          "data": {
            "text/html": [
              "<table class=\"dataframe\">\n",
              "<caption>A matrix: 3 × 3 of type dbl</caption>\n",
              "<tbody>\n",
              "\t<tr><td>0.7071068</td><td>-0.7071068</td><td> 0.000000e+00</td></tr>\n",
              "\t<tr><td>0.7071068</td><td> 0.7071068</td><td>-1.110223e-16</td></tr>\n",
              "\t<tr><td>0.0000000</td><td> 0.0000000</td><td> 1.000000e+00</td></tr>\n",
              "</tbody>\n",
              "</table>\n"
            ],
            "text/markdown": "\nA matrix: 3 × 3 of type dbl\n\n| 0.7071068 | -0.7071068 |  0.000000e+00 |\n| 0.7071068 |  0.7071068 | -1.110223e-16 |\n| 0.0000000 |  0.0000000 |  1.000000e+00 |\n\n",
            "text/latex": "A matrix: 3 × 3 of type dbl\n\\begin{tabular}{lll}\n\t 0.7071068 & -0.7071068 &  0.000000e+00\\\\\n\t 0.7071068 &  0.7071068 & -1.110223e-16\\\\\n\t 0.0000000 &  0.0000000 &  1.000000e+00\\\\\n\\end{tabular}\n",
            "text/plain": [
              "     [,1]      [,2]       [,3]         \n",
              "[1,] 0.7071068 -0.7071068  0.000000e+00\n",
              "[2,] 0.7071068  0.7071068 -1.110223e-16\n",
              "[3,] 0.0000000  0.0000000  1.000000e+00"
            ]
          },
          "metadata": {}
        }
      ]
    },
    {
      "cell_type": "code",
      "source": [
        "# 6 column vectors in 4D, only 3 are independent\n",
        "v1 = c(1, 1, 2, 0, 1, 1)\n",
        "v2 = c(0, 0, 0, 1, 2, 1)\n",
        "v3 = c(1, 2, 3, 1, 3, 2)\n",
        "v4 = c(1, 0, 1, 0, 1, 1)\n",
        "A <- matrix(c(v1,v2,v3,v4), 4, length(v1), byrow = FALSE)\n",
        "\n",
        "(Q = gramschmidt(A))"
      ],
      "metadata": {
        "colab": {
          "base_uri": "https://localhost:8080/",
          "height": 160
        },
        "id": "BND2j4szGr-y",
        "outputId": "18185f85-a93a-4593-b115-721237415ac7"
      },
      "execution_count": 3,
      "outputs": [
        {
          "output_type": "display_data",
          "data": {
            "text/html": [
              "<table class=\"dataframe\">\n",
              "<caption>A matrix: 4 × 6 of type dbl</caption>\n",
              "<tbody>\n",
              "\t<tr><td>0.4082483</td><td> 0.5773503</td><td>-4.082483e-01</td><td>-0.1163470</td><td> 0.4434659</td><td> 0.574815807</td></tr>\n",
              "\t<tr><td>0.4082483</td><td> 0.5773503</td><td> 4.082483e-01</td><td> 0.6592995</td><td>-0.8570907</td><td>-0.560766589</td></tr>\n",
              "\t<tr><td>0.8164966</td><td>-0.5773503</td><td>-5.892206e-16</td><td>-0.2539081</td><td> 0.1934288</td><td>-0.006570022</td></tr>\n",
              "\t<tr><td>0.0000000</td><td> 0.0000000</td><td> 8.164966e-01</td><td> 0.6980818</td><td>-0.1769713</td><td> 0.595889634</td></tr>\n",
              "</tbody>\n",
              "</table>\n"
            ],
            "text/markdown": "\nA matrix: 4 × 6 of type dbl\n\n| 0.4082483 |  0.5773503 | -4.082483e-01 | -0.1163470 |  0.4434659 |  0.574815807 |\n| 0.4082483 |  0.5773503 |  4.082483e-01 |  0.6592995 | -0.8570907 | -0.560766589 |\n| 0.8164966 | -0.5773503 | -5.892206e-16 | -0.2539081 |  0.1934288 | -0.006570022 |\n| 0.0000000 |  0.0000000 |  8.164966e-01 |  0.6980818 | -0.1769713 |  0.595889634 |\n\n",
            "text/latex": "A matrix: 4 × 6 of type dbl\n\\begin{tabular}{llllll}\n\t 0.4082483 &  0.5773503 & -4.082483e-01 & -0.1163470 &  0.4434659 &  0.574815807\\\\\n\t 0.4082483 &  0.5773503 &  4.082483e-01 &  0.6592995 & -0.8570907 & -0.560766589\\\\\n\t 0.8164966 & -0.5773503 & -5.892206e-16 & -0.2539081 &  0.1934288 & -0.006570022\\\\\n\t 0.0000000 &  0.0000000 &  8.164966e-01 &  0.6980818 & -0.1769713 &  0.595889634\\\\\n\\end{tabular}\n",
            "text/plain": [
              "     [,1]      [,2]       [,3]          [,4]       [,5]       [,6]        \n",
              "[1,] 0.4082483  0.5773503 -4.082483e-01 -0.1163470  0.4434659  0.574815807\n",
              "[2,] 0.4082483  0.5773503  4.082483e-01  0.6592995 -0.8570907 -0.560766589\n",
              "[3,] 0.8164966 -0.5773503 -5.892206e-16 -0.2539081  0.1934288 -0.006570022\n",
              "[4,] 0.0000000  0.0000000  8.164966e-01  0.6980818 -0.1769713  0.595889634"
            ]
          },
          "metadata": {}
        }
      ]
    }
  ],
  "metadata": {
    "kernelspec": {
      "display_name": "R",
      "language": "R",
      "name": "ir"
    },
    "language_info": {
      "codemirror_mode": "r",
      "file_extension": ".r",
      "mimetype": "text/x-r-source",
      "name": "R",
      "pygments_lexer": "r",
      "version": "3.6.1"
    },
    "colab": {
      "name": "5-3_Gram-Schmidt Process.ipynb",
      "provenance": [],
      "collapsed_sections": [],
      "include_colab_link": true
    }
  },
  "nbformat": 4,
  "nbformat_minor": 0
}