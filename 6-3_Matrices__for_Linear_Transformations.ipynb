{
  "cells": [
    {
      "cell_type": "markdown",
      "metadata": {
        "id": "view-in-github",
        "colab_type": "text"
      },
      "source": [
        "<a href=\"https://colab.research.google.com/github/madonnaojorin/MAT343_Linear_Algebra/blob/main/6-3_Matrices__for_Linear_Transformations.ipynb\" target=\"_parent\"><img src=\"https://colab.research.google.com/assets/colab-badge.svg\" alt=\"Open In Colab\"/></a>"
      ]
    },
    {
      "cell_type": "markdown",
      "source": [
        "#6.3. Matrices for Linear Transformations\n",
        "\n"
      ],
      "metadata": {
        "id": "jewn5v5rxlrJ"
      }
    },
    {
      "cell_type": "markdown",
      "source": [
        "###Theorem 6.10: Standard Matrix for a Linear Transformation\n",
        "\n",
        "Let $T:\\mathbb{R}^n\\to \\mathbb{R}^m$ be a linear transformation such that, for the standard basis vectors $e_i$ of $\\mathbb{R}^n$,\n",
        "$$T(\\textbf{e}_1)=\\begin{bmatrix}a_{11}\\\\a_{21}\\\\\\vdots\\\\a_{m1}\\end{bmatrix},T(\\textbf{e}_2)=\\begin{bmatrix}a_{12}\\\\a_{22}\\\\\\vdots\\\\a_{m2}\\end{bmatrix},\\cdots,T(\\textbf{e}_n)=\\begin{bmatrix}a_{1n}\\\\a_{2n}\\\\\\vdots\\\\a_{mn}\\end{bmatrix}.$$\n",
        "\n",
        "Then the $m\\times n$ matrix whose $n$ columns correspond to $T(\\textbf{e}_i)$\n",
        "$$A=\\begin{bmatrix}\n",
        "a_{11}&a_{12}&\\cdots& a_{1n}\\\\\n",
        "a_{21}&a_{22}&\\cdots& a_{2n}\\\\\n",
        "\\vdots&\\vdots&&\\vdots\\\\\n",
        "a_{m1}&a_{m2}&\\cdots& a_{mn}\\\\\n",
        "\\end{bmatrix}$$\n",
        "\n",
        "is such that $T(\\textbf{v})=A\\textbf{v}$ for every $\\textbf{v}$ in $\\mathbb{R}^n$. $A$ is called the **standard matrix** for $T$.\n"
      ],
      "metadata": {
        "id": "YeZv9_rfxor_"
      }
    },
    {
      "cell_type": "markdown",
      "source": [
        "####$\\star$Example\n",
        "Find the standard matrix for the linear transformation $T:\\mathbb{R}^3\\to\\mathbb{R}^2$ defined by\n",
        "$$T(\\langle x,y,z\\rangle)=\\langle x-2y,2x+y\\rangle.$$\n",
        "\n",
        "**Solution**\n",
        "Begin by finding the images of $\\textbf{e}_1$, $\\textbf{e}_2$, and $\\textbf{e}_3$.\n",
        "\n",
        "\\begin{align*}\n",
        "\\textbf{e}_1&=T(\\langle 1,0,0\\rangle)=\\langle 1,2\\rangle\\\\\n",
        "\\textbf{e}_2&=T(\\langle 0,1,0\\rangle)=\\langle -2,1\\rangle\\\\\n",
        "\\textbf{e}_3&=T(\\langle 0,0,1\\rangle)=\\langle 0,0\\rangle\\\\\n",
        "\\end{align*}\n",
        "\n",
        "By Theorem 6.10, the columns of  consist of $\\textbf{e}_1$, $\\textbf{e}_2$, and $\\textbf{e}_3$, and we get\n",
        "$$A=[T(\\textbf{e}_1)\\:\\:\\:T(\\textbf{e}_2)\\:\\:\\:T(\\textbf{e}_3)]=\\begin{bmatrix}1&-2&0\\\\2&1&0\\end{bmatrix}$$.\n",
        "\n",
        "\n",
        "\n",
        "\n"
      ],
      "metadata": {
        "id": "7-DBiOYwbltN"
      }
    },
    {
      "cell_type": "markdown",
      "source": [
        "###Theorem 6.11: Composition of Linear Transformations\n",
        "\n",
        "Let $T_1:\\mathbb{R}^n\\to\\mathbb{R}^m$ and $T_1:\\mathbb{R}^m\\to\\mathbb{R}^p$ be linear transformations with standard matrices $A_1$ and $A_2$, respectively. The composition $T_1:\\mathbb{R}^n\\to\\mathbb{R}^p$, defined by $T(\\textbf{v})=T_2(T_1(\\textbf{v}))$, is a linear transformation. Moreover, the standard matrix $A$ for $T$ is the matrix product\n",
        "$$A=A_2A_1.$$\n"
      ],
      "metadata": {
        "id": "jV86jxwox0dG"
      }
    },
    {
      "cell_type": "markdown",
      "source": [
        "####$\\star$Example\n",
        "Let $T_1$ and $T_2$ be linear transformations from $\\mathbb{R}^3$ into $\\mathbb{R}^3$ such that \n",
        "$$T_1(\\langle x,y,z\\rangle)=\\langle 2x+y,0,x+z \\rangle.$$\n",
        "and\n",
        "$$T_2(\\langle x,y,z\\rangle)=\\langle x-z,z,y \\rangle.$$\n",
        "Find the standard matrices for the compositions $T=T_2\\circ T_1$ and $T'=T_1\\circ T_2$.\n",
        "\n",
        "**Solution**\n",
        "\n",
        "The standard matrices for $T_1$ and $T_2$ are\n",
        "$$A_1=\\begin{bmatrix}2&1&0\\\\0&0&0\\\\1&0&1\\end{bmatrix}$$\n",
        "and\n",
        "$$A_2=\\begin{bmatrix}1&-1&0\\\\0&0&1\\\\0&1&0\\end{bmatrix}$$\n",
        "\n",
        "By Theorem 6.11, the standard matrix for $T$ is\n",
        "\\begin{align*}\n",
        "A&=A_2A_1\\\\\n",
        "&= \\begin{bmatrix}1&-1&0\\\\0&0&1\\\\0&1&0\\end{bmatrix} \\begin{bmatrix}2&1&0\\\\0&0&0\\\\1&0&1\\end{bmatrix}\\\\\n",
        "&=\\begin{bmatrix}2&1&0\\\\1&0&1\\\\0&0&0\\end{bmatrix}\n",
        "\\end{align*}\n",
        "and the standard matrix for $T'$ is\n",
        "\n",
        "\\begin{align*}\n",
        "A'&=A_1A_2\\\\\n",
        "&=  \\begin{bmatrix}2&1&0\\\\0&0&0\\\\1&0&1\\end{bmatrix}\\begin{bmatrix}1&-1&0\\\\0&0&1\\\\0&1&0\\end{bmatrix}\\\\\n",
        "&=\\begin{bmatrix}2&-2&1\\\\0&0&0\\\\1&0&0\\end{bmatrix}\n",
        "\\end{align*}\n",
        "\n",
        "\n",
        "\n",
        "\n",
        "\n",
        "\n"
      ],
      "metadata": {
        "id": "5siFj_6-d-Un"
      }
    },
    {
      "cell_type": "markdown",
      "source": [
        "##Definition: Inverse Linear Transformation\n",
        "\n",
        "If $T_1:\\mathbb{R}^n\\to\\mathbb{R}^m$ and $T_1:\\mathbb{R}^m\\to\\mathbb{R}^p$ are linear transformations such that for every $\\textbf{v}$ in $\\mathbb{R}^n$,\n",
        "$$T_2(T_1(\\textbf{v}))=\\textbf{v}$$\n",
        "and\n",
        "$$T_1(T_2(\\textbf{v}))=\\textbf{v}$$\n",
        "then $T_2$ is the **inverse** of $T_1$, and $T_1$ is said to be **invertible**."
      ],
      "metadata": {
        "id": "8ncqt0lAx0Ya"
      }
    },
    {
      "cell_type": "markdown",
      "source": [
        "###Theorem 6.12: Existence of an Inverse Transformation\n",
        "Let $T_1:\\mathbb{R}^n\\to\\mathbb{R}^n$ be a linear transformation with standard matrix $A$. Then the conditions listed below are equivalent.\n",
        "* $T$ is invertible.\n",
        "* $T$ is an isomorphism.\n",
        "* $A$ is invertible.\n",
        "\n",
        "If $T$ is invertible with standard matrix $A$, then the standard matrix for $T^{-1}$ is $A^{-1}$."
      ],
      "metadata": {
        "id": "UeOQvph1yKfQ"
      }
    },
    {
      "cell_type": "markdown",
      "source": [
        "###Transformation Matrix for Nonstandard Bases\n",
        "\n",
        "Let $V$ and $W$ be finite-dimensional vector spaces with bases $B$ and $B'$, respectively, where\n",
        "$$B=\\{\\textbf{v}_1,\\textbf{v}_2,\\ldots,\\textbf{v}_n\\}.$$\n",
        "If $T:V\\to W$ is a linear transformation such that\n",
        "$$[T(\\textbf{v}_1)]_{B'}=\\begin{bmatrix}a_{11}\\\\a_{21}\\\\ \\vdots\\\\ a_{m1}\\end{bmatrix},[T(\\textbf{v}_2)]_{B'}=\\begin{bmatrix}a_{12}\\\\a_{22}\\\\ \\vdots\\\\ a_{m2}\\end{bmatrix},\\cdots,[T(\\textbf{v}_n)]_{B'}=\\begin{bmatrix}a_{1n}\\\\a_{2n}\\\\ \\vdots\\\\ a_{mn}\\end{bmatrix}$$\n",
        "then the $m\\times n$ matrix whose $n$ columns correspond to $[T(\\textbf{v}_i)]_{B'}$\n",
        "$$A=\\begin{bmatrix}a_{11}&a_{12}&\\cdots&a_{1n}\\\\\n",
        "a_{21}&a_{22}&\\cdots&a_{2n}\\\\\n",
        "\\vdots&\\vdots&&\\vdots\\\\\n",
        "a_{m1}&a_{m2}&\\cdots&a_{mn}\\\\\\end{bmatrix}$$\n",
        "is such that $[T(\\textbf{v})]_{B'}=A[\\textbf{v}]_B$ for every $\\textbf{v}$ in $V$.\n"
      ],
      "metadata": {
        "id": "RTUN2FUd-zfi"
      }
    },
    {
      "cell_type": "markdown",
      "source": [
        "####$\\star$Example\n",
        "Let $T:\\mathbb{R}^2\\to\\mathbb{R}^2$ be a linear transformation defined by \n",
        "$$T(\\langle x_1,x_2\\rangle)=\\langle x_1+x_2,2x_1-x_2 \\rangle.$$\n",
        "Find the matrix for $T$ relative to the bases\n",
        "$$B=\\{\\langle1,2\\rangle,\\langle-1,1\\rangle\\}=\\{\\textbf{v}_1,\\textbf{v}_2\\}$$\n",
        "and\n",
        "$$B'=\\{\\langle1,0\\rangle,\\langle0,1\\rangle\\}=\\{\\textbf{w}_1,\\textbf{w}_2\\}$$\n",
        "\n",
        "\n",
        "**Solution**\n",
        "By the definition of $T$, \n",
        "$$T(\\textbf{v}_1)=T(\\langle1,2\\rangle)=\\langle3,0\\rangle=3\\textbf{w}_1$$\n",
        "$$T(\\textbf{v}_2)=T(\\langle-1,1\\rangle)=\\langle0,-3\\rangle=-3\\textbf{w}_2$$\n",
        "\n",
        "The coordinate matrices for $T(\\textbf{v}_1)$ and $T(\\textbf{v}_2)$ relative to $B'$ are\n",
        "$$[T(\\textbf{v}_1)]_{B'}=\\begin{bmatrix}3\\\\0\\end{bmatrix}$$ and\n",
        "$$[T(\\textbf{v}_2)]_{B'}=\\begin{bmatrix}0\\\\-3\\end{bmatrix}$$\n",
        "\n",
        "Form the matrix for $T$ relative to $B$ and $B'$ by using these coordinate matrices as columns to produce\n",
        "$$A=\\begin{bmatrix}3&0\\\\0&-3\\end{bmatrix}$$\n"
      ],
      "metadata": {
        "id": "OUum6D6_jcFH"
      }
    },
    {
      "cell_type": "markdown",
      "source": [
        "####$\\star$Example\n",
        "For the linear transformation $T:\\mathbb{R}^2\\to\\mathbb{R}^2$, use the matrix $A$ to find $T(\\textbf{v})$, where $\\textbf{v}=\\langle 2,1\\rangle$.\n",
        "\n",
        "**Solution**\n",
        "\n",
        "Using $$B=\\{\\langle1,2\\rangle,\\langle-1,1\\rangle\\}=\\{\\textbf{v}_1,\\textbf{v}_2\\}$$, we find that $\\textbf{v}=\\langle2,1=1\\langle1,2\\rangle-1\\langle-1,1\\rangle$, which implies\n",
        "$$[\\textbf{v}]_{B}=\\begin{bmatrix}1\\:\\:\\:-1\\end{bmatrix}^T$$\n",
        "\n",
        "So, $[T(\\textbf{v})]_{B'}$ is\n",
        "$$A[\\textbf{v}]_{B}=\\begin{bmatrix}3&0\\\\0&-3\\end{bmatrix}\\begin{bmatrix}1\\\\-1\\end{bmatrix}=\\begin{bmatrix}3\\\\3\\end{bmatrix}$$\n",
        "\n",
        "Finally, $B'=\\{\\langle1,0\\rangle,\\langle0,1\\rangle\\}$, so it follows that\n",
        " $$T(\\textbf{v})=3\\langle1,0\\rangle+3\\langle0,1\\rangle=\\langle3,3\\rangle$$\n",
        "Check this result by directly calculating $T(\\textbf{v})$ using the definition of $T$ in Example 5: $$T(\\langle 2,1\\rangle)=\\langle 2+1,2(2)-1 \\rangle=\\langle3,3\\rangle.$$\n",
        "\n"
      ],
      "metadata": {
        "id": "izu2pcl9GnLG"
      }
    },
    {
      "cell_type": "code",
      "source": [
        ""
      ],
      "metadata": {
        "id": "CEAOpS8AGKMl"
      },
      "execution_count": null,
      "outputs": []
    }
  ],
  "metadata": {
    "kernelspec": {
      "display_name": "R",
      "language": "R",
      "name": "ir"
    },
    "language_info": {
      "codemirror_mode": "r",
      "file_extension": ".r",
      "mimetype": "text/x-r-source",
      "name": "R",
      "pygments_lexer": "r",
      "version": "3.6.1"
    },
    "colab": {
      "name": "6-3_Matrices _for_Linear_Transformations.ipynb",
      "provenance": [],
      "collapsed_sections": [],
      "include_colab_link": true
    }
  },
  "nbformat": 4,
  "nbformat_minor": 0
}