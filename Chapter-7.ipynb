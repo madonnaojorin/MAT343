{
  "cells": [
    {
      "cell_type": "markdown",
      "metadata": {
        "id": "view-in-github",
        "colab_type": "text"
      },
      "source": [
        "<a href=\"https://colab.research.google.com/github/madonnaojorin/MAT343_Linear_Algebra/blob/main/Chapter-7.ipynb\" target=\"_parent\"><img src=\"https://colab.research.google.com/assets/colab-badge.svg\" alt=\"Open In Colab\"/></a>"
      ]
    },
    {
      "cell_type": "markdown",
      "source": [
        "#7.1. Eigenvalues and Eigenvectors"
      ],
      "metadata": {
        "id": "lSV1ZbNbMpxq"
      }
    },
    {
      "cell_type": "code",
      "source": [
        "install.packages(\"pracma\")\n",
        "library(pracma)\n",
        "install.packages(\"MASS\")\n",
        "library(MASS)"
      ],
      "metadata": {
        "id": "LOh0_9_z_M1Y",
        "colab": {
          "base_uri": "https://localhost:8080/"
        },
        "outputId": "8eeaf98e-1086-4cf0-ddc7-aa77a0eceaf9"
      },
      "execution_count": 3,
      "outputs": [
        {
          "output_type": "stream",
          "name": "stderr",
          "text": [
            "Installing package into ‘/usr/local/lib/R/site-library’\n",
            "(as ‘lib’ is unspecified)\n",
            "\n",
            "Installing package into ‘/usr/local/lib/R/site-library’\n",
            "(as ‘lib’ is unspecified)\n",
            "\n"
          ]
        }
      ]
    },
    {
      "cell_type": "markdown",
      "source": [
        "##Definitions: Eigenvalue and Eigenvector\n",
        "Let $A$ be an $n\\times n$ matrix. The scalar $\\lambda$ is an **eigenvalue** of $A$ when there is a nonzero vector $\\textbf{x}$ such that $A\\textbf{x}=\\lambda \\textbf{x}$. The vector $\\textbf{x}$  is an **eigenvector** of $A$ corresponding to $\\lambda$."
      ],
      "metadata": {
        "id": "_M9nTSSnMujq"
      }
    },
    {
      "cell_type": "markdown",
      "source": [
        "####$\\star$Example\n",
        "For the matrix \n",
        "$$A=\\begin{bmatrix}2&0\\\\0&-1\\end{bmatrix}$$\n",
        "verify that $\\textbf{x}_1=\\langle 1,0\\rangle$ is an eigenvector of $A$ corresponding to the eigenvalue $\\lambda_1=2$, and that $\\textbf{x}_2=\\langle 0,1\\rangle$  is an eigenvector of $A$ corresponding to the eigenvalue  $\\lambda_2=-1$.\n",
        "\n"
      ],
      "metadata": {
        "id": "XdJGjclefa-b"
      }
    },
    {
      "cell_type": "code",
      "source": [
        "A = matrix(c(2,0,0,-1),2,2)\n",
        "x1=c(1,0)\n",
        "lambda1=2\n",
        "(LHS=A%*%x1)\n",
        "(RHS=lambda1%*%x1)"
      ],
      "metadata": {
        "colab": {
          "base_uri": "https://localhost:8080/",
          "height": 297
        },
        "id": "bW91wC_Wf9XL",
        "outputId": "d0bd719f-0f56-4873-b076-b98b281ecc0a"
      },
      "execution_count": null,
      "outputs": [
        {
          "output_type": "display_data",
          "data": {
            "text/html": [
              "<table class=\"dataframe\">\n",
              "<caption>A matrix: 2 × 1 of type dbl</caption>\n",
              "<tbody>\n",
              "\t<tr><td>2</td></tr>\n",
              "\t<tr><td>0</td></tr>\n",
              "</tbody>\n",
              "</table>\n"
            ],
            "text/markdown": "\nA matrix: 2 × 1 of type dbl\n\n| 2 |\n| 0 |\n\n",
            "text/latex": "A matrix: 2 × 1 of type dbl\n\\begin{tabular}{l}\n\t 2\\\\\n\t 0\\\\\n\\end{tabular}\n",
            "text/plain": [
              "     [,1]\n",
              "[1,] 2   \n",
              "[2,] 0   "
            ]
          },
          "metadata": {}
        },
        {
          "output_type": "display_data",
          "data": {
            "text/html": [
              "<table class=\"dataframe\">\n",
              "<caption>A matrix: 1 × 2 of type dbl</caption>\n",
              "<tbody>\n",
              "\t<tr><td>2</td><td>0</td></tr>\n",
              "</tbody>\n",
              "</table>\n"
            ],
            "text/markdown": "\nA matrix: 1 × 2 of type dbl\n\n| 2 | 0 |\n\n",
            "text/latex": "A matrix: 1 × 2 of type dbl\n\\begin{tabular}{ll}\n\t 2 & 0\\\\\n\\end{tabular}\n",
            "text/plain": [
              "     [,1] [,2]\n",
              "[1,] 2    0   "
            ]
          },
          "metadata": {}
        }
      ]
    },
    {
      "cell_type": "code",
      "source": [
        "A = matrix(c(2,0,0,-1),2,2)\n",
        "x2=c(0,1)\n",
        "lambda2=-1\n",
        "(LHS=A%*%x2)\n",
        "(RHS=lambda2%*%x2)"
      ],
      "metadata": {
        "colab": {
          "base_uri": "https://localhost:8080/",
          "height": 297
        },
        "id": "3R1wa2x5glO4",
        "outputId": "66d52454-a277-456e-ddc1-17633105d12a"
      },
      "execution_count": null,
      "outputs": [
        {
          "output_type": "display_data",
          "data": {
            "text/html": [
              "<table class=\"dataframe\">\n",
              "<caption>A matrix: 2 × 1 of type dbl</caption>\n",
              "<tbody>\n",
              "\t<tr><td> 0</td></tr>\n",
              "\t<tr><td>-1</td></tr>\n",
              "</tbody>\n",
              "</table>\n"
            ],
            "text/markdown": "\nA matrix: 2 × 1 of type dbl\n\n|  0 |\n| -1 |\n\n",
            "text/latex": "A matrix: 2 × 1 of type dbl\n\\begin{tabular}{l}\n\t  0\\\\\n\t -1\\\\\n\\end{tabular}\n",
            "text/plain": [
              "     [,1]\n",
              "[1,]  0  \n",
              "[2,] -1  "
            ]
          },
          "metadata": {}
        },
        {
          "output_type": "display_data",
          "data": {
            "text/html": [
              "<table class=\"dataframe\">\n",
              "<caption>A matrix: 1 × 2 of type dbl</caption>\n",
              "<tbody>\n",
              "\t<tr><td>0</td><td>-1</td></tr>\n",
              "</tbody>\n",
              "</table>\n"
            ],
            "text/markdown": "\nA matrix: 1 × 2 of type dbl\n\n| 0 | -1 |\n\n",
            "text/latex": "A matrix: 1 × 2 of type dbl\n\\begin{tabular}{ll}\n\t 0 & -1\\\\\n\\end{tabular}\n",
            "text/plain": [
              "     [,1] [,2]\n",
              "[1,] 0    -1  "
            ]
          },
          "metadata": {}
        }
      ]
    },
    {
      "cell_type": "markdown",
      "source": [
        "####$\\star$Example\n",
        "For the matrix \n",
        "$$A=\\begin{bmatrix}1&-2&1\\\\0&0&0\\\\0&1&1\\end{bmatrix}$$\n",
        "verify that $\\textbf{x}_1=\\langle -3,-1,1\\rangle$ and that $\\textbf{x}_2=\\langle 1,0,0\\rangle$ are eigenvectors of $A$ and find their corresponding eigenvalues.\n"
      ],
      "metadata": {
        "id": "wmCj_43Ygwtx"
      }
    },
    {
      "cell_type": "code",
      "source": [
        "A = matrix(c(1,-2,1,0,0,0,0,1,1),3,3,byrow = T)\n",
        "x1=c(-3,-1,1)\n",
        "(LHS=A%*%x1)"
      ],
      "metadata": {
        "colab": {
          "base_uri": "https://localhost:8080/",
          "height": 212
        },
        "id": "spW5rvQOgwbi",
        "outputId": "fd67d901-3da8-4caf-8419-b20dfaccc3cb"
      },
      "execution_count": null,
      "outputs": [
        {
          "output_type": "display_data",
          "data": {
            "text/html": [
              "<table class=\"dataframe\">\n",
              "<caption>A matrix: 3 × 1 of type dbl</caption>\n",
              "<tbody>\n",
              "\t<tr><td>0</td></tr>\n",
              "\t<tr><td>0</td></tr>\n",
              "\t<tr><td>0</td></tr>\n",
              "</tbody>\n",
              "</table>\n"
            ],
            "text/markdown": "\nA matrix: 3 × 1 of type dbl\n\n| 0 |\n| 0 |\n| 0 |\n\n",
            "text/latex": "A matrix: 3 × 1 of type dbl\n\\begin{tabular}{l}\n\t 0\\\\\n\t 0\\\\\n\t 0\\\\\n\\end{tabular}\n",
            "text/plain": [
              "     [,1]\n",
              "[1,] 0   \n",
              "[2,] 0   \n",
              "[3,] 0   "
            ]
          },
          "metadata": {}
        }
      ]
    },
    {
      "cell_type": "markdown",
      "source": [
        "So, $\\textbf{x}_1=\\langle -3,-1,1\\rangle$ is an eigenvector of $A$ corresponding to the eigenvalue $\\lambda_1=0$.\n",
        "\n"
      ],
      "metadata": {
        "id": "Bng4LCaFhlCM"
      }
    },
    {
      "cell_type": "code",
      "source": [
        "x2=c(1,0,0)\n",
        "(LHS=A%*%x2)"
      ],
      "metadata": {
        "colab": {
          "base_uri": "https://localhost:8080/",
          "height": 212
        },
        "id": "88Qn-ukhhf1A",
        "outputId": "8775bf7b-dd37-44a4-9aee-c376544ee6a9"
      },
      "execution_count": null,
      "outputs": [
        {
          "output_type": "display_data",
          "data": {
            "text/html": [
              "<table class=\"dataframe\">\n",
              "<caption>A matrix: 3 × 1 of type dbl</caption>\n",
              "<tbody>\n",
              "\t<tr><td>1</td></tr>\n",
              "\t<tr><td>0</td></tr>\n",
              "\t<tr><td>0</td></tr>\n",
              "</tbody>\n",
              "</table>\n"
            ],
            "text/markdown": "\nA matrix: 3 × 1 of type dbl\n\n| 1 |\n| 0 |\n| 0 |\n\n",
            "text/latex": "A matrix: 3 × 1 of type dbl\n\\begin{tabular}{l}\n\t 1\\\\\n\t 0\\\\\n\t 0\\\\\n\\end{tabular}\n",
            "text/plain": [
              "     [,1]\n",
              "[1,] 1   \n",
              "[2,] 0   \n",
              "[3,] 0   "
            ]
          },
          "metadata": {}
        }
      ]
    },
    {
      "cell_type": "markdown",
      "source": [
        "So, $\\textbf{x}_2=\\langle 1,0,0\\rangle$ is an eigenvector of $A$ corresponding to the eigenvalue $\\lambda_2=1$.\n"
      ],
      "metadata": {
        "id": "udqH9M92h7mY"
      }
    },
    {
      "cell_type": "markdown",
      "source": [
        "###Theorem 7.1: Eigenvectors of $\\lambda$ Form a Subspace\n",
        "If $A$ is an $n\\times n$ matrix with an eigenvalue $\\lambda$, then the set of all eigenvectors of $\\lambda$, together with the zero vector\n",
        "$$\\{\\textbf{x}:\\textbf{x} \\text{ is an eigenvector of } \\lambda\\}\\cup\\{\\textbf{0}\\}$$\n",
        "is a subspace of $\\mathbb{R}^n$. This subspace is the **eigenspace** of $\\lambda$."
      ],
      "metadata": {
        "id": "E1VlaTXfM54p"
      }
    },
    {
      "cell_type": "code",
      "source": [
        "# Find the eigenvalues and corresponding eigenspaces of \n",
        "A = matrix(c(-1,0,0,1),2,2,byrow = T)\n",
        "eigen(A)"
      ],
      "metadata": {
        "colab": {
          "base_uri": "https://localhost:8080/",
          "height": 153
        },
        "id": "7KEgjMjFiG_w",
        "outputId": "08d0cc4b-60a9-4286-e70b-144cf2ec27ef"
      },
      "execution_count": null,
      "outputs": [
        {
          "output_type": "display_data",
          "data": {
            "text/plain": [
              "eigen() decomposition\n",
              "$values\n",
              "[1]  1 -1\n",
              "\n",
              "$vectors\n",
              "     [,1] [,2]\n",
              "[1,]    0   -1\n",
              "[2,]    1    0\n"
            ]
          },
          "metadata": {}
        }
      ]
    },
    {
      "cell_type": "markdown",
      "source": [
        "###Theorem 7.2: Eigenvalues and Eigenvectors of a Matrix\n",
        "Let $A$ be an $n\\times n$  matrix.\n",
        "1. An eigenvalue of $A$ is a scalar $\\lambda$ such that $\\det(\\lambda I-A)=0$.\n",
        "2. The eigenvectors of $A$  corresponding to $\\lambda$ are the nonzero solutions of $(\\lambda I-A)\\textbf{x}=\\textbf{0}$."
      ],
      "metadata": {
        "id": "n5Ztg_HMND_D"
      }
    },
    {
      "cell_type": "markdown",
      "source": [
        "####$\\star$Example\n",
        "Find the eigenvalues and corresponding eigenvectors of\n",
        "$$A=\\begin{bmatrix}2&-12\\\\1&-5\\end{bmatrix}.$$\n",
        "\n",
        "**Solution**\n",
        "The characteristic polynomial of   is\n",
        "$$|\\lambda I-A|=\\begin{vmatrix}\\lambda -2&12\\\\-1&\\lambda +5\\end{vmatrix}=\\lambda^2+3\\lambda-10+12=(\\lambda+1)(\\lambda+2).$$\n",
        "\n",
        "So, the characteristic equation is $(\\lambda+1)(\\lambda+2)=0$ , which gives $\\lambda_1=-1$ and $\\lambda_2=-2$ as the eigenvalues of $A$. To find the corresponding eigenvectors, solve the homogeneous linear system represented by $(\\lambda I-A)\\textbf{x}=0$ twice: first for $\\lambda_1=-1$ and then for $\\lambda_2=-2$.\n",
        "\n",
        "For  $\\lambda_1=-1$, the coefficient matrix is\n",
        "$$(-1)I-A=\\begin{bmatrix}-1-2&12\\\\-1&-1+5\\end{bmatrix}=\\begin{bmatrix}-3&12\\\\-1&4\\end{bmatrix}$$\n",
        "\n",
        "Thus, $x_1-4x_2=0$, letting $x_2=t$, \n",
        "$$x_1=t\\begin{bmatrix}4\\\\1\\end{bmatrix}, t\\neq 0$$\n",
        "\n",
        "For $\\lambda_2=-2$, \n",
        "\n",
        "$$x_2=t\\begin{bmatrix}3\\\\1\\end{bmatrix}, t\\neq 0$$\n",
        "\n"
      ],
      "metadata": {
        "id": "aE0mc6S2inEd"
      }
    },
    {
      "cell_type": "code",
      "source": [
        "# Check \n",
        "A = matrix(c(2,-12,1,-5),2,2,byrow = T)\n",
        "eigen(A)"
      ],
      "metadata": {
        "colab": {
          "base_uri": "https://localhost:8080/",
          "height": 153
        },
        "id": "XjWjJ8xkkgvu",
        "outputId": "c5a0b09d-cf1a-4e45-fffc-65b6183db60f"
      },
      "execution_count": null,
      "outputs": [
        {
          "output_type": "display_data",
          "data": {
            "text/plain": [
              "eigen() decomposition\n",
              "$values\n",
              "[1] -2 -1\n",
              "\n",
              "$vectors\n",
              "          [,1]      [,2]\n",
              "[1,] 0.9486833 0.9701425\n",
              "[2,] 0.3162278 0.2425356\n"
            ]
          },
          "metadata": {}
        }
      ]
    },
    {
      "cell_type": "markdown",
      "source": [
        "###Finding Eigenvalues and Eigenvectors\n",
        "Let $A$ be an $n\\times n$ matrix.\n",
        "1. Form the characteristic equation $\\det(\\lambda I-A)=0$. It will be a polynomial equation of degree $n$ in the variable $\\lambda$.\n",
        "2. Find the real roots of the characteristic equation. These are the eigenvalues of $A$.\n",
        "3. For each eigenvalue $\\lambda_i$, find the eigenvectors corresponding to $\\lambda_i$ by solving the homogeneous system $(\\lambda I-A)\\textbf{x}=\\textbf{0}$. This can require row reducing an $n\\times n$ matrix. The reduced row-echelon form must have at least one row of zeros."
      ],
      "metadata": {
        "id": "Z4gdbzRxNMFk"
      }
    },
    {
      "cell_type": "markdown",
      "source": [
        "###Theorem 7.3: Eigenvalues of Triangular Matrices\n",
        "If $A$ is an $n\\times n$  triangular matrix, then its eigenvalues are the entries on its main diagonal."
      ],
      "metadata": {
        "id": "ISZdDnygNVJ9"
      }
    },
    {
      "cell_type": "markdown",
      "source": [
        "#7.2. Diagonalization"
      ],
      "metadata": {
        "id": "uK94B2BTNZFF"
      }
    },
    {
      "cell_type": "markdown",
      "source": [
        "##Definition of a Diagonalizable Matrix\n",
        "An $n\\times n$  matrix $A$ is **diagonalizable** when $A$ is similar to a diagonal matrix. That is, $A$ is diagonalizable when there exists an invertible matrix $P$ such that $P^{-1}AP$ is a diagonal matrix.\n"
      ],
      "metadata": {
        "id": "ErMU5RPQNa85"
      }
    },
    {
      "cell_type": "markdown",
      "source": [
        "###Theorem 7.4: Similar Matrices Have the Same Eigenvalues\n",
        "If $A$ and $B$ are similar $n\\times n$ matrices, then they have the same eigenvalues."
      ],
      "metadata": {
        "id": "hOem0qpFNgvS"
      }
    },
    {
      "cell_type": "markdown",
      "source": [
        "###Theorem 7.5: Condition for Diagonalization\n",
        "An $n\\times n$ matrix $A$ is diagonalizable if and only if it has $n$ linearly independent eigenvectors."
      ],
      "metadata": {
        "id": "YhItRNZaNkCO"
      }
    },
    {
      "cell_type": "markdown",
      "source": [
        "###Steps for Diagonalizing a Square Matrix\n",
        "Let $A$ be an $n\\times n$ matrix.\n",
        "1. Find $n$ linearly independent eigenvectors $\\textbf{p}_1,\\textbf{p}_2,\\ldots,\\textbf{p}_n$ for $A$ (if possible) with corresponding eigenvalues $\\lambda_1,\\lambda_2,\\ldots,\\lambda_n$. If $n$ linearly independent eigenvectors do not exist, then $A$ is not diagonalizable.\n",
        "2. Let $P$ be the $n\\times n$ matrix whose columns consist of these eigenvectors. That is, $P=[\\textbf{p}_1\\:\\:\\:\\textbf{p}_2\\:\\:\\:\\ldots\\:\\:\\:\\textbf{p}_n]$.\n",
        "3. The diagonal matrix $D=P^{-1}AP$ will have the eigenvalues $\\lambda_1,\\lambda_2,\\ldots,\\lambda_n$  on its main diagonal. Note that the order of the eigenvectors used to form $P$ will determine the order in which the eigenvalues appear on the main diagonal of $D$."
      ],
      "metadata": {
        "id": "bSzlBDZwNnqL"
      }
    },
    {
      "cell_type": "markdown",
      "source": [
        "####$\\star$Example\n",
        "Show that the matrix $A$ is diagonalizable.\n",
        "\n",
        "$$A=\\begin{bmatrix}1&-1&-1\\\\1&3&1\\\\-3&1&-1\\end{bmatrix}.$$"
      ],
      "metadata": {
        "id": "s64KaaWbm63O"
      }
    },
    {
      "cell_type": "code",
      "source": [
        "(A = matrix(c(1,-1,-1,1,3,1,-3,1,-1),3,3,byrow = T))\n",
        "P = eigen(A)$vectors\n",
        "(P_1 = ginv(P))\n",
        "\n",
        "round(P_1 %*% A %*% P)"
      ],
      "metadata": {
        "colab": {
          "base_uri": "https://localhost:8080/",
          "height": 398
        },
        "id": "tb5d7cQnnGf3",
        "outputId": "870c545c-5af6-4d8f-8f53-b3b38ed80f6b"
      },
      "execution_count": 7,
      "outputs": [
        {
          "output_type": "display_data",
          "data": {
            "text/html": [
              "<table class=\"dataframe\">\n",
              "<caption>A matrix: 3 × 3 of type dbl</caption>\n",
              "<tbody>\n",
              "\t<tr><td> 1</td><td>-1</td><td>-1</td></tr>\n",
              "\t<tr><td> 1</td><td> 3</td><td> 1</td></tr>\n",
              "\t<tr><td>-3</td><td> 1</td><td>-1</td></tr>\n",
              "</tbody>\n",
              "</table>\n"
            ],
            "text/markdown": "\nA matrix: 3 × 3 of type dbl\n\n|  1 | -1 | -1 |\n|  1 |  3 |  1 |\n| -3 |  1 | -1 |\n\n",
            "text/latex": "A matrix: 3 × 3 of type dbl\n\\begin{tabular}{lll}\n\t  1 & -1 & -1\\\\\n\t  1 &  3 &  1\\\\\n\t -3 &  1 & -1\\\\\n\\end{tabular}\n",
            "text/plain": [
              "     [,1] [,2] [,3]\n",
              "[1,]  1   -1   -1  \n",
              "[2,]  1    3    1  \n",
              "[3,] -3    1   -1  "
            ]
          },
          "metadata": {}
        },
        {
          "output_type": "display_data",
          "data": {
            "text/html": [
              "<table class=\"dataframe\">\n",
              "<caption>A matrix: 3 × 3 of type dbl</caption>\n",
              "<tbody>\n",
              "\t<tr><td> 0.3464102</td><td> 1.732051e+00</td><td> 3.464102e-01</td></tr>\n",
              "\t<tr><td>-1.4142136</td><td>-1.414214e+00</td><td>-1.095749e-15</td></tr>\n",
              "\t<tr><td> 0.8485281</td><td>-2.437802e-16</td><td> 8.485281e-01</td></tr>\n",
              "</tbody>\n",
              "</table>\n"
            ],
            "text/markdown": "\nA matrix: 3 × 3 of type dbl\n\n|  0.3464102 |  1.732051e+00 |  3.464102e-01 |\n| -1.4142136 | -1.414214e+00 | -1.095749e-15 |\n|  0.8485281 | -2.437802e-16 |  8.485281e-01 |\n\n",
            "text/latex": "A matrix: 3 × 3 of type dbl\n\\begin{tabular}{lll}\n\t  0.3464102 &  1.732051e+00 &  3.464102e-01\\\\\n\t -1.4142136 & -1.414214e+00 & -1.095749e-15\\\\\n\t  0.8485281 & -2.437802e-16 &  8.485281e-01\\\\\n\\end{tabular}\n",
            "text/plain": [
              "     [,1]       [,2]          [,3]         \n",
              "[1,]  0.3464102  1.732051e+00  3.464102e-01\n",
              "[2,] -1.4142136 -1.414214e+00 -1.095749e-15\n",
              "[3,]  0.8485281 -2.437802e-16  8.485281e-01"
            ]
          },
          "metadata": {}
        },
        {
          "output_type": "display_data",
          "data": {
            "text/html": [
              "<table class=\"dataframe\">\n",
              "<caption>A matrix: 3 × 3 of type dbl</caption>\n",
              "<tbody>\n",
              "\t<tr><td>3</td><td>0</td><td> 0</td></tr>\n",
              "\t<tr><td>0</td><td>2</td><td> 0</td></tr>\n",
              "\t<tr><td>0</td><td>0</td><td>-2</td></tr>\n",
              "</tbody>\n",
              "</table>\n"
            ],
            "text/markdown": "\nA matrix: 3 × 3 of type dbl\n\n| 3 | 0 |  0 |\n| 0 | 2 |  0 |\n| 0 | 0 | -2 |\n\n",
            "text/latex": "A matrix: 3 × 3 of type dbl\n\\begin{tabular}{lll}\n\t 3 & 0 &  0\\\\\n\t 0 & 2 &  0\\\\\n\t 0 & 0 & -2\\\\\n\\end{tabular}\n",
            "text/plain": [
              "     [,1] [,2] [,3]\n",
              "[1,] 3    0     0  \n",
              "[2,] 0    2     0  \n",
              "[3,] 0    0    -2  "
            ]
          },
          "metadata": {}
        }
      ]
    },
    {
      "cell_type": "markdown",
      "source": [
        "###Theorem 7.6: Sufficient Condition for Diagonalization\n",
        "If an $n\\times n$ matrix $A$ has $n$ distinct eigenvalues, then the corresponding eigenvectors are linearly independent and $A$ is diagonalizable.\n",
        "\n",
        "\n",
        "\n"
      ],
      "metadata": {
        "id": "RTUN2FUd-zfi"
      }
    }
  ],
  "metadata": {
    "kernelspec": {
      "display_name": "R",
      "language": "R",
      "name": "ir"
    },
    "language_info": {
      "codemirror_mode": "r",
      "file_extension": ".r",
      "mimetype": "text/x-r-source",
      "name": "R",
      "pygments_lexer": "r",
      "version": "3.6.1"
    },
    "colab": {
      "name": "Chapter 7.ipynb",
      "provenance": [],
      "collapsed_sections": [],
      "include_colab_link": true
    }
  },
  "nbformat": 4,
  "nbformat_minor": 0
}