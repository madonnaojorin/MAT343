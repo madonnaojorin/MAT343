{
  "nbformat": 4,
  "nbformat_minor": 0,
  "metadata": {
    "colab": {
      "name": "Gaussian Elimination.ipynb",
      "provenance": [],
      "collapsed_sections": [],
      "authorship_tag": "ABX9TyPFCo8L4fDrzEXthluJ6Dli",
      "include_colab_link": true
    },
    "kernelspec": {
      "name": "ir",
      "display_name": "R"
    },
    "language_info": {
      "name": "R"
    }
  },
  "cells": [
    {
      "cell_type": "markdown",
      "metadata": {
        "id": "view-in-github",
        "colab_type": "text"
      },
      "source": [
        "<a href=\"https://colab.research.google.com/github/madonnaojorin/MAT343/blob/main/Gaussian_Elimination.ipynb\" target=\"_parent\"><img src=\"https://colab.research.google.com/assets/colab-badge.svg\" alt=\"Open In Colab\"/></a>"
      ]
    },
    {
      "cell_type": "markdown",
      "source": [
        "#Row-Echelon Form and Reduced Row-Echelon Form\n",
        "A matrix in **row-schelon form** has the properties below.\n",
        "\n",
        "\n",
        "1.   Any rows consisting entirely of zeros occur at the bottom of the matrix.\n",
        "2.   For each row that does not consist entirely of zeros, the first nonzero entry is 1 (called a leading 1).\n",
        "3.   For two successive (nonzero) rows, the leading 1 in the higher row is farther to the left than the leading 1 in the lower row.\n",
        "\n",
        "A matrix in row-echelon form is in **reduced row-schelon form** when every column that has a leading 1 has zeros in every position above and below its leading 1. \n",
        "\n"
      ],
      "metadata": {
        "id": "GKw4kQfcguiE"
      }
    },
    {
      "cell_type": "markdown",
      "source": [
        "#Elementary Row Operations\n",
        "\n",
        "\n",
        "1.   Interchange two rows.\n",
        "2.   Multiply a row by a nonzero constant.\n",
        "3.   Add a multiple of a row to another row.\n",
        "\n"
      ],
      "metadata": {
        "id": "aCx_d8DwgUIz"
      }
    },
    {
      "cell_type": "markdown",
      "source": [
        "#Gaussian Elimination \n",
        "Gaussian elimination is a method for solving systems of equations in matrix form.<br>\n",
        "**Goal**: turn matrix into row-echelon form \n",
        "  $$\\begin{bmatrix}\n",
        "   1 & a & b & d \\\\\n",
        "   0 & 1 & c & e \\\\\n",
        "   0 & 0 & 1 & f \\\\\n",
        "\\end{bmatrix}$$\n",
        "Once in this form, we can say that $z=f$ and use back substitution to solve for $y$ and $x$.<br>\n",
        "Use the elementary row operations and follow these steps:\n",
        " \n",
        "\n",
        "1.   Get a 1 in the i-th column, i-th row\n",
        "2.   Use the 1 to get 0’s in the remainder of the i-th column\n",
        "3.   Repest the same steps for i+1-th"
      ],
      "metadata": {
        "id": "-ijPKM_Vhrg1"
      }
    },
    {
      "cell_type": "markdown",
      "source": [
        "#Gauss-Jordan Elimination \n",
        "Gauss-Jordan elimination is another method for solving systems of equations in matrix form. It is really a continuation of Gaussian elimination.<br>\n",
        "**Goal**: turn matrix into reduced row-echelon form \n",
        "  $$\\begin{bmatrix}\n",
        "   1 & 0 & 0 & a \\\\\n",
        "   0 & 1 & 0 & b \\\\\n",
        "   0 & 0 & 1 & c \\\\\n",
        "\\end{bmatrix}$$\n",
        "Once in this form, we can say that $x=a, y=b, z=c$ (no need to do back-substitution).<br>\n",
        "Use the elementary row operations as before."
      ],
      "metadata": {
        "id": "3GaP5WiXycDH"
      }
    },
    {
      "cell_type": "markdown",
      "source": [
        "#Implementing in R\n",
        "Let's sole the following system using Gauss-Jordan elimination.\n",
        "\\begin{eqnarray}\n",
        "2x-5y+5z&=&17\\\\\n",
        "x-2y+3z&=&9\\\\\n",
        "-x+3y\\hspace{11mm}&=&-4\n",
        "\\end{eqnarray}"
      ],
      "metadata": {
        "id": "2uYdYax4wQ11"
      }
    },
    {
      "cell_type": "code",
      "source": [
        "# Set a matrix that you want to solve\n",
        "(a <- matrix (c(2,-5,5,17,1,-2,3,9,-1,3,0,-4), 3, 4, byrow = T))"
      ],
      "metadata": {
        "colab": {
          "base_uri": "https://localhost:8080/",
          "height": 146
        },
        "id": "NOVzqa9-qALx",
        "outputId": "44d675ea-b1de-42fa-abc2-5232df1f2346"
      },
      "execution_count": null,
      "outputs": [
        {
          "output_type": "display_data",
          "data": {
            "text/plain": [
              "     [,1] [,2] [,3] [,4]\n",
              "[1,]  2   -5   5    17  \n",
              "[2,]  1   -2   3     9  \n",
              "[3,] -1    3   0    -4  "
            ],
            "text/latex": "A matrix: 3 × 4 of type dbl\n\\begin{tabular}{llll}\n\t  2 & -5 & 5 & 17\\\\\n\t  1 & -2 & 3 &  9\\\\\n\t -1 &  3 & 0 & -4\\\\\n\\end{tabular}\n",
            "text/markdown": "\nA matrix: 3 × 4 of type dbl\n\n|  2 | -5 | 5 | 17 |\n|  1 | -2 | 3 |  9 |\n| -1 |  3 | 0 | -4 |\n\n",
            "text/html": [
              "<table class=\"dataframe\">\n",
              "<caption>A matrix: 3 × 4 of type dbl</caption>\n",
              "<tbody>\n",
              "\t<tr><td> 2</td><td>-5</td><td>5</td><td>17</td></tr>\n",
              "\t<tr><td> 1</td><td>-2</td><td>3</td><td> 9</td></tr>\n",
              "\t<tr><td>-1</td><td> 3</td><td>0</td><td>-4</td></tr>\n",
              "</tbody>\n",
              "</table>\n"
            ]
          },
          "metadata": {}
        }
      ]
    },
    {
      "cell_type": "markdown",
      "source": [
        "####Implementing Elementary Operations\n",
        "\n",
        "1.   Op_multiply <br>\n",
        "Multiply a row by a nonzero constant.\n",
        "2.   Op_add <br>\n",
        "Add a multiple of a row to another row.<br>\n",
        "\n",
        "Applying an elementary row operation to a matrix is equivalent to premultiplying the matrix by an elementary matrix, which are computed in R by\n",
        "\n"
      ],
      "metadata": {
        "id": "i1fpn3fVl8Uc"
      }
    },
    {
      "cell_type": "code",
      "execution_count": null,
      "metadata": {
        "id": "rOv-qnsYfDgV"
      },
      "outputs": [],
      "source": [
        "Op_multiply <- function (n, i, x) {\n",
        "  s <- diag (n)\n",
        "  s [i, i] <- x\n",
        "  return (s)\n",
        "}\n",
        "\n",
        "Op_add <- function (n, i, j, x) {\n",
        "  t <- diag (n)\n",
        "  t [i, j] <- x\n",
        "  return (t)    \n",
        "}"
      ]
    },
    {
      "cell_type": "code",
      "source": [
        "# Identity matrix of size n=3\n",
        "diag (3)"
      ],
      "metadata": {
        "colab": {
          "base_uri": "https://localhost:8080/",
          "height": 163
        },
        "id": "GZpmwPHQs1zk",
        "outputId": "4f115517-b020-4ab5-96ba-6d09f19313e1"
      },
      "execution_count": null,
      "outputs": [
        {
          "output_type": "display_data",
          "data": {
            "text/plain": [
              "     [,1] [,2] [,3]\n",
              "[1,] 1    0    0   \n",
              "[2,] 0    1    0   \n",
              "[3,] 0    0    1   "
            ],
            "text/latex": "A matrix: 3 × 3 of type dbl\n\\begin{tabular}{lll}\n\t 1 & 0 & 0\\\\\n\t 0 & 1 & 0\\\\\n\t 0 & 0 & 1\\\\\n\\end{tabular}\n",
            "text/markdown": "\nA matrix: 3 × 3 of type dbl\n\n| 1 | 0 | 0 |\n| 0 | 1 | 0 |\n| 0 | 0 | 1 |\n\n",
            "text/html": [
              "<table class=\"dataframe\">\n",
              "<caption>A matrix: 3 × 3 of type dbl</caption>\n",
              "<tbody>\n",
              "\t<tr><td>1</td><td>0</td><td>0</td></tr>\n",
              "\t<tr><td>0</td><td>1</td><td>0</td></tr>\n",
              "\t<tr><td>0</td><td>0</td><td>1</td></tr>\n",
              "</tbody>\n",
              "</table>\n"
            ]
          },
          "metadata": {}
        }
      ]
    },
    {
      "cell_type": "code",
      "source": [
        "Op_multiply (3, 1, 1 / a[1, 1])"
      ],
      "metadata": {
        "colab": {
          "base_uri": "https://localhost:8080/",
          "height": 163
        },
        "id": "n3GN9qOp3vV9",
        "outputId": "7d62272e-495c-4c51-96a0-f0bc3739c7b8"
      },
      "execution_count": null,
      "outputs": [
        {
          "output_type": "display_data",
          "data": {
            "text/plain": [
              "     [,1] [,2] [,3]\n",
              "[1,] 0.5  0    0   \n",
              "[2,] 0.0  1    0   \n",
              "[3,] 0.0  0    1   "
            ],
            "text/latex": "A matrix: 3 × 3 of type dbl\n\\begin{tabular}{lll}\n\t 0.5 & 0 & 0\\\\\n\t 0.0 & 1 & 0\\\\\n\t 0.0 & 0 & 1\\\\\n\\end{tabular}\n",
            "text/markdown": "\nA matrix: 3 × 3 of type dbl\n\n| 0.5 | 0 | 0 |\n| 0.0 | 1 | 0 |\n| 0.0 | 0 | 1 |\n\n",
            "text/html": [
              "<table class=\"dataframe\">\n",
              "<caption>A matrix: 3 × 3 of type dbl</caption>\n",
              "<tbody>\n",
              "\t<tr><td>0.5</td><td>0</td><td>0</td></tr>\n",
              "\t<tr><td>0.0</td><td>1</td><td>0</td></tr>\n",
              "\t<tr><td>0.0</td><td>0</td><td>1</td></tr>\n",
              "</tbody>\n",
              "</table>\n"
            ]
          },
          "metadata": {}
        }
      ]
    },
    {
      "cell_type": "code",
      "source": [
        "# Get a 1 in the first column, first row\n",
        "(a <- Op_multiply (3, 1, 1 / a[1, 1]) %*% a)"
      ],
      "metadata": {
        "colab": {
          "base_uri": "https://localhost:8080/",
          "height": 146
        },
        "id": "LT5ZTE02qJ9v",
        "outputId": "252bc0e6-a0af-41cc-c212-31358d2040f4"
      },
      "execution_count": null,
      "outputs": [
        {
          "output_type": "display_data",
          "data": {
            "text/plain": [
              "     [,1] [,2] [,3] [,4]\n",
              "[1,]  1   -2.5 2.5   8.5\n",
              "[2,]  1   -2.0 3.0   9.0\n",
              "[3,] -1    3.0 0.0  -4.0"
            ],
            "text/latex": "A matrix: 3 × 4 of type dbl\n\\begin{tabular}{llll}\n\t  1 & -2.5 & 2.5 &  8.5\\\\\n\t  1 & -2.0 & 3.0 &  9.0\\\\\n\t -1 &  3.0 & 0.0 & -4.0\\\\\n\\end{tabular}\n",
            "text/markdown": "\nA matrix: 3 × 4 of type dbl\n\n|  1 | -2.5 | 2.5 |  8.5 |\n|  1 | -2.0 | 3.0 |  9.0 |\n| -1 |  3.0 | 0.0 | -4.0 |\n\n",
            "text/html": [
              "<table class=\"dataframe\">\n",
              "<caption>A matrix: 3 × 4 of type dbl</caption>\n",
              "<tbody>\n",
              "\t<tr><td> 1</td><td>-2.5</td><td>2.5</td><td> 8.5</td></tr>\n",
              "\t<tr><td> 1</td><td>-2.0</td><td>3.0</td><td> 9.0</td></tr>\n",
              "\t<tr><td>-1</td><td> 3.0</td><td>0.0</td><td>-4.0</td></tr>\n",
              "</tbody>\n",
              "</table>\n"
            ]
          },
          "metadata": {}
        }
      ]
    },
    {
      "cell_type": "code",
      "source": [
        "gaussMatrixForward <- function (a) {\n",
        "  n <- nrow (a)\n",
        "    for (i in 1 : n) {\n",
        "        a <- Op_multiply (n, i, 1 / a[i, i]) %*% a\n",
        "       if (i == n) {\n",
        "            break ()\n",
        "        }\n",
        "        for (j in (i + 1) : n) {\n",
        "            a <- Op_add (n, j, i, - a[j, i]) %*% a\n",
        "            print(a)\n",
        "        }\n",
        "    }\n",
        "    print(a)\n",
        "    return (a)\n",
        "}"
      ],
      "metadata": {
        "id": "D_0OZEtecx5E"
      },
      "execution_count": null,
      "outputs": []
    },
    {
      "cell_type": "code",
      "source": [
        "row_echelon <- gaussMatrixForward (cbind(a,diag(3)))"
      ],
      "metadata": {
        "colab": {
          "base_uri": "https://localhost:8080/"
        },
        "id": "tPIti1IFvjM_",
        "outputId": "d9ff7716-7d65-45aa-d64c-1ab3850b3c7b"
      },
      "execution_count": null,
      "outputs": [
        {
          "output_type": "stream",
          "name": "stdout",
          "text": [
            "     [,1] [,2] [,3] [,4] [,5] [,6] [,7]\n",
            "[1,]    1 -2.5  2.5  8.5  0.5    0    0\n",
            "[2,]    0  0.5  0.5  0.5 -0.5    1    0\n",
            "[3,]   -1  3.0  0.0 -4.0  0.0    0    1\n",
            "     [,1] [,2] [,3] [,4] [,5] [,6] [,7]\n",
            "[1,]    1 -2.5  2.5  8.5  0.5    0    0\n",
            "[2,]    0  0.5  0.5  0.5 -0.5    1    0\n",
            "[3,]    0  0.5  2.5  4.5  0.5    0    1\n",
            "     [,1] [,2] [,3] [,4] [,5] [,6] [,7]\n",
            "[1,]    1 -2.5  2.5  8.5  0.5    0    0\n",
            "[2,]    0  1.0  1.0  1.0 -1.0    2    0\n",
            "[3,]    0  0.0  2.0  4.0  1.0   -1    1\n",
            "     [,1] [,2] [,3] [,4] [,5] [,6] [,7]\n",
            "[1,]    1 -2.5  2.5  8.5  0.5  0.0  0.0\n",
            "[2,]    0  1.0  1.0  1.0 -1.0  2.0  0.0\n",
            "[3,]    0  0.0  1.0  2.0  0.5 -0.5  0.5\n"
          ]
        }
      ]
    },
    {
      "cell_type": "code",
      "source": [
        "gaussMatrixBackward <- function (a) {\n",
        "  n <- nrow (a)\n",
        "    for (i in n : 2) {\n",
        "        for (j in (i - 1) : 1) {\n",
        "            a <- Op_add (n, j, i, - a[j, i]) %*% a\n",
        "            print(a)\n",
        "        }\n",
        "    }\n",
        "    return (a)\n",
        "}"
      ],
      "metadata": {
        "id": "iW6knCqWvs9u"
      },
      "execution_count": null,
      "outputs": []
    },
    {
      "cell_type": "code",
      "source": [
        "reduced_row_echelon <- gaussMatrixBackward (row_echelon)"
      ],
      "metadata": {
        "colab": {
          "base_uri": "https://localhost:8080/"
        },
        "id": "m0A2OBbNvusO",
        "outputId": "a9a20702-8ddb-403e-c5d4-7e311f912caf"
      },
      "execution_count": null,
      "outputs": [
        {
          "output_type": "stream",
          "name": "stdout",
          "text": [
            "     [,1] [,2] [,3] [,4] [,5] [,6] [,7]\n",
            "[1,]    1 -2.5  2.5  8.5  0.5  0.0  0.0\n",
            "[2,]    0  1.0  0.0 -1.0 -1.5  2.5 -0.5\n",
            "[3,]    0  0.0  1.0  2.0  0.5 -0.5  0.5\n",
            "     [,1] [,2] [,3] [,4]  [,5]  [,6]  [,7]\n",
            "[1,]    1 -2.5    0  3.5 -0.75  1.25 -1.25\n",
            "[2,]    0  1.0    0 -1.0 -1.50  2.50 -0.50\n",
            "[3,]    0  0.0    1  2.0  0.50 -0.50  0.50\n",
            "     [,1] [,2] [,3] [,4] [,5] [,6] [,7]\n",
            "[1,]    1    0    0    1 -4.5  7.5 -2.5\n",
            "[2,]    0    1    0   -1 -1.5  2.5 -0.5\n",
            "[3,]    0    0    1    2  0.5 -0.5  0.5\n"
          ]
        }
      ]
    },
    {
      "cell_type": "markdown",
      "source": [
        "#Summary of the code"
      ],
      "metadata": {
        "id": "_RxEFdFsdusD"
      }
    },
    {
      "cell_type": "code",
      "source": [
        "# Set a matrix that you want to solve\n",
        "M = 3 # number of rows\n",
        "N = 4 # number of columns\n",
        "a <- matrix (c(2,-5,5,17,1,-2,3,9,-1,3,0,-4), M, N, byrow = T)\n",
        "\n",
        "Op_multiply <- function (n, i, x) {\n",
        "  s <- diag (n)\n",
        "  s [i, i] <- x\n",
        "  return (s)\n",
        "}\n",
        "\n",
        "Op_add <- function (n, i, j, x) {\n",
        "  t <- diag (n)\n",
        "  t [i, j] <- x\n",
        "  return (t)    \n",
        "}\n",
        "\n",
        "gaussMatrixForward <- function (a) {\n",
        "  n <- nrow (a)\n",
        "    for (i in 1 : n) {\n",
        "        a <- Op_multiply (n, i, 1 / a[i, i]) %*% a\n",
        "       if (i == n) {\n",
        "            break ()\n",
        "        }\n",
        "        for (j in (i + 1) : n) {\n",
        "            a <- Op_add (n, j, i, - a[j, i]) %*% a\n",
        "            print(a)\n",
        "        }\n",
        "    }\n",
        "    print(a)\n",
        "    return (a)\n",
        "}\n",
        "\n",
        "row_echelon <- gaussMatrixForward (cbind(a,diag(3)))\n",
        "\n",
        "gaussMatrixBackward <- function (a) {\n",
        "  n <- nrow (a)\n",
        "    for (i in n : 2) {\n",
        "        for (j in (i - 1) : 1) {\n",
        "            a <- Op_add (n, j, i, - a[j, i]) %*% a\n",
        "            print(a)\n",
        "        }\n",
        "    }\n",
        "    return (a)\n",
        "}\n",
        "\n",
        "reduced_row_echelon <- gaussMatrixBackward (row_echelon)\n",
        "print(reduced_row_echelon[,N])"
      ],
      "metadata": {
        "id": "G66CJ40YvyI0",
        "colab": {
          "base_uri": "https://localhost:8080/"
        },
        "outputId": "e67673c7-0a81-4dcd-9c48-ba2f7a6675fc"
      },
      "execution_count": null,
      "outputs": [
        {
          "output_type": "stream",
          "name": "stdout",
          "text": [
            "     [,1] [,2] [,3] [,4] [,5] [,6] [,7]\n",
            "[1,]    1 -2.5  2.5  8.5  0.5    0    0\n",
            "[2,]    0  0.5  0.5  0.5 -0.5    1    0\n",
            "[3,]   -1  3.0  0.0 -4.0  0.0    0    1\n",
            "     [,1] [,2] [,3] [,4] [,5] [,6] [,7]\n",
            "[1,]    1 -2.5  2.5  8.5  0.5    0    0\n",
            "[2,]    0  0.5  0.5  0.5 -0.5    1    0\n",
            "[3,]    0  0.5  2.5  4.5  0.5    0    1\n",
            "     [,1] [,2] [,3] [,4] [,5] [,6] [,7]\n",
            "[1,]    1 -2.5  2.5  8.5  0.5    0    0\n",
            "[2,]    0  1.0  1.0  1.0 -1.0    2    0\n",
            "[3,]    0  0.0  2.0  4.0  1.0   -1    1\n",
            "     [,1] [,2] [,3] [,4] [,5] [,6] [,7]\n",
            "[1,]    1 -2.5  2.5  8.5  0.5  0.0  0.0\n",
            "[2,]    0  1.0  1.0  1.0 -1.0  2.0  0.0\n",
            "[3,]    0  0.0  1.0  2.0  0.5 -0.5  0.5\n",
            "     [,1] [,2] [,3] [,4] [,5] [,6] [,7]\n",
            "[1,]    1 -2.5  2.5  8.5  0.5  0.0  0.0\n",
            "[2,]    0  1.0  0.0 -1.0 -1.5  2.5 -0.5\n",
            "[3,]    0  0.0  1.0  2.0  0.5 -0.5  0.5\n",
            "     [,1] [,2] [,3] [,4]  [,5]  [,6]  [,7]\n",
            "[1,]    1 -2.5    0  3.5 -0.75  1.25 -1.25\n",
            "[2,]    0  1.0    0 -1.0 -1.50  2.50 -0.50\n",
            "[3,]    0  0.0    1  2.0  0.50 -0.50  0.50\n",
            "     [,1] [,2] [,3] [,4] [,5] [,6] [,7]\n",
            "[1,]    1    0    0    1 -4.5  7.5 -2.5\n",
            "[2,]    0    1    0   -1 -1.5  2.5 -0.5\n",
            "[3,]    0    0    1    2  0.5 -0.5  0.5\n",
            "[1]  1 -1  2\n"
          ]
        }
      ]
    }
  ]
}
