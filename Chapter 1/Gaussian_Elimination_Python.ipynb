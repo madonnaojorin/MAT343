{
  "nbformat": 4,
  "nbformat_minor": 0,
  "metadata": {
    "colab": {
      "name": "Gaussian_Elimination_Python.ipynb",
      "provenance": [],
      "collapsed_sections": [],
      "include_colab_link": true
    },
    "kernelspec": {
      "name": "python3",
      "display_name": "Python 3"
    },
    "language_info": {
      "name": "python"
    }
  },
  "cells": [
    {
      "cell_type": "markdown",
      "metadata": {
        "id": "view-in-github",
        "colab_type": "text"
      },
      "source": [
        "<a href=\"https://colab.research.google.com/github/madonnaojorin/MAT343/blob/main/Gaussian_Elimination_Python.ipynb\" target=\"_parent\"><img src=\"https://colab.research.google.com/assets/colab-badge.svg\" alt=\"Open In Colab\"/></a>"
      ]
    },
    {
      "cell_type": "markdown",
      "source": [
        "#Row-Echelon Form and Reduced Row-Echelon Form\n",
        "A matrix in **row-schelon form** has the properties below.\n",
        "\n",
        "\n",
        "1.   Any rows consisting entirely of zeros occur at the bottom of the matrix.\n",
        "2.   For each row that does not consist entirely of zeros, the first nonzero entry is 1 (called a leading 1).\n",
        "3.   For two successive (nonzero) rows, the leading 1 in the higher row is farther to the left than the leading 1 in the lower row.\n",
        "\n",
        "A matrix in row-echelon form is in **reduced row-schelon form** when every column that has a leading 1 has zeros in every position above and below its leading 1. "
      ],
      "metadata": {
        "id": "mqMktAp3QVU4"
      }
    },
    {
      "cell_type": "markdown",
      "source": [
        "#Elementary Row Operations\n",
        "\n",
        "\n",
        "1.   Interchange two rows.\n",
        "2.   Multiply a row by a nonzero constant.\n",
        "3.   Add a multiple of a row to another row."
      ],
      "metadata": {
        "id": "xM2kFw8IQXwV"
      }
    },
    {
      "cell_type": "markdown",
      "source": [
        "#Gaussian Elimination \n",
        "Gaussian elimination is a method for solving systems of equations in matrix form.<br>\n",
        "**Goal**: turn matrix into row-echelon form \n",
        "  $$\\begin{bmatrix}\n",
        "   1 & a & b & d \\\\\n",
        "   0 & 1 & c & e \\\\\n",
        "   0 & 0 & 1 & f \\\\\n",
        "\\end{bmatrix}$$\n",
        "Once in this form, we can say that $z=f$ and use back substitution to solve for $y$ and $x$.<br>\n",
        "Use the elementary row operations and follow these steps:\n",
        " \n",
        "\n",
        "1.   Get a 1 in the i-th column, i-th row\n",
        "2.   Use the 1 to get 0’s in the remainder of the i-th column\n",
        "3.   Repest the same steps for i+1-th"
      ],
      "metadata": {
        "id": "bVLjjCBaQXrI"
      }
    },
    {
      "cell_type": "markdown",
      "source": [
        "#Gauss-Jordan Elimination \n",
        "Gauss-Jordan elimination is another method for solving systems of equations in matrix form. It is really a continuation of Gaussian elimination.<br>\n",
        "**Goal**: turn matrix into reduced row-echelon form \n",
        "  $$\\begin{bmatrix}\n",
        "   1 & 0 & 0 & a \\\\\n",
        "   0 & 1 & 0 & b \\\\\n",
        "   0 & 0 & 1 & c \\\\\n",
        "\\end{bmatrix}$$\n",
        "Once in this form, we can say that $x=a, y=b, z=c$ (no need to do back-substitution).<br>\n",
        "Use the elementary row operations as before."
      ],
      "metadata": {
        "id": "LNoGYB8nQXnF"
      }
    },
    {
      "cell_type": "markdown",
      "source": [
        "#Implementing in Python\n",
        "Let's sole the following system using Gauss-Jordan elimination.\n",
        "\\begin{eqnarray}\n",
        "2x-5y+5z&=&17\\\\\n",
        "x-2y+3z&=&9\\\\\n",
        "-x+3y\\hspace{11mm}&=&-4\n",
        "\\end{eqnarray}"
      ],
      "metadata": {
        "id": "bczVgvcDQXdx"
      }
    },
    {
      "cell_type": "code",
      "source": [
        "import numpy as np\n",
        "import pandas as pd"
      ],
      "metadata": {
        "id": "OHSjW4jIcM86"
      },
      "execution_count": null,
      "outputs": []
    },
    {
      "cell_type": "code",
      "source": [
        "# Set a matrix that you want to solve\n",
        "a = np.array([[2,-5,5,17],\n",
        "              [1,-2,3,9],\n",
        "              [-1,3,0,-4]])\n",
        "M = 3\n",
        "N = 4"
      ],
      "metadata": {
        "id": "Peq6kWJ2bXLo"
      },
      "execution_count": null,
      "outputs": []
    },
    {
      "cell_type": "markdown",
      "source": [
        "####Implementing Elementary Operations\n",
        "\n",
        "1.   Op_multiply <br>\n",
        "Multiply a row by a nonzero constant.\n",
        "2.   Op_add <br>\n",
        "Add a multiple of a row to another row.<br>\n",
        "\n",
        "Applying an elementary row operation to a matrix is equivalent to premultiplying the matrix by an elementary matrix, which are computed in Python by"
      ],
      "metadata": {
        "id": "8-5KbGDKQwDR"
      }
    },
    {
      "cell_type": "code",
      "source": [
        "def Op_multiply(n,i,x):\n",
        "  s = np.identity(n)\n",
        "  s[i][i]=x\n",
        "  return s\n",
        "\n",
        "def Op_add(n,i,j,x):\n",
        "  t = np.identity(n)\n",
        "  t[i][j]=x\n",
        "  return t"
      ],
      "metadata": {
        "id": "BmV6WfjUb2B0"
      },
      "execution_count": null,
      "outputs": []
    },
    {
      "cell_type": "code",
      "source": [
        "# Identity matrix of size n=3\n",
        "np.identity(M)"
      ],
      "metadata": {
        "colab": {
          "base_uri": "https://localhost:8080/"
        },
        "id": "Y7_DguVjQ9bX",
        "outputId": "db0c157f-df22-4497-f8cf-932767be19c0"
      },
      "execution_count": null,
      "outputs": [
        {
          "output_type": "execute_result",
          "data": {
            "text/plain": [
              "array([[1., 0., 0.],\n",
              "       [0., 1., 0.],\n",
              "       [0., 0., 1.]])"
            ]
          },
          "metadata": {},
          "execution_count": 6
        }
      ]
    },
    {
      "cell_type": "code",
      "source": [
        "Op_multiply (3, 0, 1/a[0,0])"
      ],
      "metadata": {
        "colab": {
          "base_uri": "https://localhost:8080/"
        },
        "id": "gpkGMotHuXNL",
        "outputId": "a60bf330-5470-4b60-ca93-f78146bdf065"
      },
      "execution_count": null,
      "outputs": [
        {
          "output_type": "execute_result",
          "data": {
            "text/plain": [
              "array([[0.5, 0. , 0. ],\n",
              "       [0. , 1. , 0. ],\n",
              "       [0. , 0. , 1. ]])"
            ]
          },
          "metadata": {},
          "execution_count": 9
        }
      ]
    },
    {
      "cell_type": "code",
      "source": [
        "# Get a 1 in the first column, first row\n",
        "a = np.matmul(Op_multiply (3, 0, 1 / a[0, 0]), a)"
      ],
      "metadata": {
        "id": "E_68jfp4dkB1"
      },
      "execution_count": null,
      "outputs": []
    },
    {
      "cell_type": "code",
      "source": [
        "np.matmul(Op_multiply(3, 0, 1 / a[0][0]), a) "
      ],
      "metadata": {
        "colab": {
          "base_uri": "https://localhost:8080/"
        },
        "id": "SI8mpzj8zEvy",
        "outputId": "6c007b0d-aaf1-4f18-ab21-c698558bfff1"
      },
      "execution_count": null,
      "outputs": [
        {
          "output_type": "execute_result",
          "data": {
            "text/plain": [
              "array([[ 1. , -2.5,  2.5,  8.5],\n",
              "       [ 1. , -2. ,  3. ,  9. ],\n",
              "       [-1. ,  3. ,  0. , -4. ]])"
            ]
          },
          "metadata": {},
          "execution_count": 11
        }
      ]
    },
    {
      "cell_type": "code",
      "source": [
        "def gaussMatrixForward(a):\n",
        "  n = len(a)\n",
        "  for i in range(n):\n",
        "      a = np.matmul(Op_multiply(n, i, 1 / a[i][i]), a) \n",
        "      if i == (n-1):\n",
        "        break\n",
        "      else:\n",
        "        for j in range(i+1,n):\n",
        "          a = np.matmul(Op_add(n, j, i, -a[j][i]), a)\n",
        "          print(a)\n",
        "  print(a)        \n",
        "  return a"
      ],
      "metadata": {
        "id": "ovH2MaesdQug"
      },
      "execution_count": null,
      "outputs": []
    },
    {
      "cell_type": "code",
      "source": [
        "row_echelon = gaussMatrixForward (a)"
      ],
      "metadata": {
        "colab": {
          "base_uri": "https://localhost:8080/"
        },
        "id": "-lfZhoJCrXnR",
        "outputId": "ae88cabb-200c-492f-e3d7-1278cb88eaad"
      },
      "execution_count": null,
      "outputs": [
        {
          "output_type": "stream",
          "name": "stdout",
          "text": [
            "[[ 1.  -2.5  2.5  8.5]\n",
            " [ 0.   0.5  0.5  0.5]\n",
            " [-1.   3.   0.  -4. ]]\n",
            "[[ 1.  -2.5  2.5  8.5]\n",
            " [ 0.   0.5  0.5  0.5]\n",
            " [ 0.   0.5  2.5  4.5]]\n",
            "[[ 1.  -2.5  2.5  8.5]\n",
            " [ 0.   1.   1.   1. ]\n",
            " [ 0.   0.   2.   4. ]]\n",
            "[[ 1.  -2.5  2.5  8.5]\n",
            " [ 0.   1.   1.   1. ]\n",
            " [ 0.   0.   1.   2. ]]\n"
          ]
        }
      ]
    },
    {
      "cell_type": "code",
      "execution_count": null,
      "metadata": {
        "id": "kiWQCY0za9AV"
      },
      "outputs": [],
      "source": [
        "def gaussMatrixBackward(a):\n",
        "  n = len(a)\n",
        "  for i in range(n-1,0,-1):\n",
        "        for j in range(i-1,-1, -1):\n",
        "            a = np.matmul(Op_add(n, j, i, -a[j][i]), a) \n",
        "            print(a)\n",
        "  return a"
      ]
    },
    {
      "cell_type": "code",
      "source": [
        "reduced_row_echelon = gaussMatrixBackward(row_echelon)"
      ],
      "metadata": {
        "colab": {
          "base_uri": "https://localhost:8080/"
        },
        "id": "_RlNLzlpswH3",
        "outputId": "5ddd9b9c-8e5d-4605-848a-26c3bdc5d9ad"
      },
      "execution_count": null,
      "outputs": [
        {
          "output_type": "stream",
          "name": "stdout",
          "text": [
            "[[ 1.  -2.5  2.5  8.5]\n",
            " [ 0.   1.   0.  -1. ]\n",
            " [ 0.   0.   1.   2. ]]\n",
            "[[ 1.  -2.5  0.   3.5]\n",
            " [ 0.   1.   0.  -1. ]\n",
            " [ 0.   0.   1.   2. ]]\n",
            "[[ 1.  0.  0.  1.]\n",
            " [ 0.  1.  0. -1.]\n",
            " [ 0.  0.  1.  2.]]\n"
          ]
        }
      ]
    },
    {
      "cell_type": "markdown",
      "source": [
        "#Summary of the code"
      ],
      "metadata": {
        "id": "f8kmQBaDdrAf"
      }
    },
    {
      "cell_type": "code",
      "source": [
        "import numpy as np\n",
        "import pandas as pd\n",
        "\n",
        "# Set a matrix that you want to solve\n",
        "M = 3\n",
        "N = 4\n",
        "a = np.array([[2,-5,5,17],\n",
        "              [1,-2,3,9],\n",
        "              [-1,3,0,-4]])\n",
        "\n",
        "def Op_multiply(n,i,x):\n",
        "  s = np.identity(n)\n",
        "  s[i][i]=x\n",
        "  return s\n",
        "\n",
        "def Op_add(n,i,j,x):\n",
        "  t = np.identity(n)\n",
        "  t[i][j]=x\n",
        "  return t\n",
        "\n",
        "def gaussMatrixForward(a):\n",
        "  n = len(a)\n",
        "  for i in range(n):\n",
        "      a = np.matmul(Op_multiply(n, i, 1 / a[i][i]), a) \n",
        "      if i == (n-1):\n",
        "        break\n",
        "      else:\n",
        "        for j in range(i+1,n):\n",
        "          a = np.matmul(Op_add(n, j, i, -a[j][i]), a)\n",
        "          print(a)\n",
        "  print(a)        \n",
        "  return a\n",
        "\n",
        "row_echelon = gaussMatrixForward (a)\n",
        "\n",
        "def gaussMatrixBackward(a):\n",
        "  n = len(a)\n",
        "  for i in range(n-1,0,-1):\n",
        "        for j in range(i-1,-1, -1):\n",
        "            a = np.matmul(Op_add(n, j, i, -a[j][i]), a) \n",
        "            print(a)\n",
        "  return a\n",
        "  \n",
        "reduced_row_echelon = gaussMatrixBackward(row_echelon)"
      ],
      "metadata": {
        "id": "YB_o_6iqcHlG"
      },
      "execution_count": null,
      "outputs": []
    }
  ]
}
