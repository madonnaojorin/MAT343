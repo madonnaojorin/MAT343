{
  "cells": [
    {
      "cell_type": "markdown",
      "metadata": {
        "id": "view-in-github",
        "colab_type": "text"
      },
      "source": [
        "<a href=\"https://colab.research.google.com/github/madonnaojorin/MAT343_Linear_Algebra/blob/main/4_2_3_Vector_Spaces_Subspaces.ipynb\" target=\"_parent\"><img src=\"https://colab.research.google.com/assets/colab-badge.svg\" alt=\"Open In Colab\"/></a>"
      ]
    },
    {
      "cell_type": "markdown",
      "source": [
        "#4.2. Vector Spaces"
      ],
      "metadata": {
        "id": "-BYL0vIqPBx6"
      }
    },
    {
      "cell_type": "markdown",
      "source": [
        "##Definition of a Vector Space\n",
        "Let $V$ be a set on which two operations (**vector addition** and **scalar multiplication**) are defined. If the listed axioms are satisfied for every $\\textbf{u}$, $\\textbf{v}$, and $\\textbf{w}$ in $V$ and every scalar (real number) $c$ and $d$, then $V$ is a **vector space**.<br>\n",
        "\n",
        "Addition:\n",
        "1. $\\textbf{u}+\\textbf{v}$ is in $V$\n",
        "2. $\\textbf{u}+\\textbf{v}=\\textbf{v}+\\textbf{u}$ \n",
        "3. $\\textbf{u}+(\\textbf{v}+\\textbf{w})=(\\textbf{u}+\\textbf{v})+\\textbf{w}$ \n",
        "4. $V$ has a zero vector $\\textbf{0}$ such that for every $\\textbf{u}$ in $V$, $\\textbf{u}+\\textbf{0}=\\textbf{u}$\n",
        "5. For every $\\textbf{u}$ in $V$, there is a vector in $V$ denoted by $-\\textbf{u}$ such that $\\textbf{u}+(-\\textbf{u})=\\textbf{0}$<br>\n",
        "\n",
        "Scalar Multiplication:<br>\n",
        "1. $c\\textbf{u}$ is in $V$\n",
        "2. $c(\\textbf{u}+\\textbf{v})=c\\textbf{u}+c\\textbf{v}$\n",
        "3. $(c+d)\\textbf{u}=c\\textbf{u}+d\\textbf{u}$\n",
        "4. If $c(d\\textbf{u})=(cd)\\textbf{u}$\n",
        "5. $1(\\textbf{u})=\\textbf{u}$"
      ],
      "metadata": {
        "id": "Xt0ybgdqPBsS"
      }
    },
    {
      "cell_type": "markdown",
      "source": [
        "###Summary of Important Vector Spaces\n",
        "\n",
        "* $\\mathbb{R} = $ set of all real numbers\n",
        "* $\\mathbb{R}^2 = $ set of all ordered pairs\n",
        "* $\\mathbb{R}^3 = $ set of all ordered triples\n",
        "* $\\mathbb{R}^n = $ set of all continuous functions defined on the real number line\n",
        "* $P_n = $ set of all polynomials of degree $\\leq n$\n",
        "* $M_{m,n} = $ set of all $m\\times n$ matrices\n",
        "* $M_{n,n} = $ set of all $n\\times n$ square matrices\n"
      ],
      "metadata": {
        "id": "HeRSRMTMPBmI"
      }
    },
    {
      "cell_type": "markdown",
      "source": [
        "####$\\star$Example \n",
        "Let $V$ be the set of all positive real numbers. Determine whether $V$ is a vector space with the following operations.\n",
        "* $x + y\t = \txy$ (Addition)\n",
        "* $cx\t = \tx^c$\t\t(Scalar multiplication)\n",
        "\n",
        "If it is, then verify each vector space axiom; if it is not, then state all \n",
        "vector space axioms that fail.\n",
        "\n",
        "**-Hint-**\n",
        "\n",
        "The notation can be confusing.\n",
        "\n",
        "Let's think of the new definition (rule) of \"addition\" is to multiply two positive real numbers (positive real numbers because in $V$, there are only positive real numbers.), and the new \"scalar multiplication\"is to take the power of the scalar $c$ (i.e., $x^c$).\n",
        "\n",
        "That is,\n",
        "* Addition: $xy$\n",
        "* Scalar multiplication: $x^c$\n",
        "\n",
        "So, when we say \"closed under vector addition\", what it means is \"closed under $xy$\", and \"closed under scalar multiplication\" means \"closed under $x^c$\". Other 8 axioms are translated in the same way.\\\\\n",
        "Keep in mind that the set $V$ is the set of positive real numbers, that means that $0$ is not in the set. \\\\\n",
        "\n",
        "Why was this confusing to you? It simply has to do with common notational conventions in mathematics. We often write 0 for the neutral element in an commutative group, especially for the underlying group of a vector space.This example is extreme in the sense that the actual neutral element 0 is given by 1. (x+0=0+x in standard operation but now \"addition\"is really \"multiplication\", x*1=1*x, so 1 is 0 of the standard operation.)\n",
        "\n",
        "**-Solution-**\n",
        "\n",
        "Let $\\textbf{u} = u$ be a positive real number and $\\textbf{v} = v$ be a positive real number.\n",
        "\n",
        "STEP 1:\tCheck each of the 10 axioms.\n",
        "1. $\\textbf{u}+\\textbf{v}$ is a vector in $\\mathbb{R}^n$.\n",
        "\n",
        "    $\\textbf{u}+\\textbf{v}=uv$ is in $V$ because $uv$ is a positive real number.\n",
        "    $\\Rightarrow$ Closed under vector addition.\n",
        "\n",
        "    This axiom holds.\n",
        "2. $\\textbf{u}+\\textbf{v}=\\textbf{v}+\\textbf{u}$\n",
        "\n",
        "    $\\textbf{u}+\\textbf{v}=uv=vu=\\textbf{v}+\\textbf{u}$\n",
        "    ($uv=vu$, because of the commutative property of multiplication in $\\mathbb{R}$.)\n",
        "\n",
        "    This axiom holds.\n",
        "3. $(\\textbf{u}+\\textbf{v})+\\textbf{w}=\\textbf{u}+(\\textbf{v}+\\textbf{w})$\n",
        "$(\\textbf{u}+\\textbf{v})+\\textbf{w}=(uv)w=uvw=u(vw)=\\textbf{u}+(\\textbf{v}+\\textbf{w})$\n",
        "\n",
        "    This axiom holds.\n",
        "4. $V$ has a zero vector $0$ such that for every $\\textbf{u}$ in $V$, $\\textbf{u}+\\textbf{0}=\\textbf{u}$\n",
        "\n",
        "    $\\textbf{u}+\\textbf{0}=u*1=u=\\textbf{u}$\n",
        "    (So, in this space with new definitions/rules, neutral element, \"zero vector\" is 1.)\n",
        "\n",
        "    This axiom holds.\n",
        "5. For every $\\textbf{u}$ in $V$, there is a vector in $V$ denoted by $-\\textbf{u}$ such that $\\textbf{u}+(-\\textbf{u})=\\textbf{0}$.\n",
        "\n",
        "     $\\textbf{u}+(-\\textbf{u})=u(\\frac{1}{u})=1=\\textbf{0}$\n",
        "     (Because our \"zero vector\" is 1.)\n",
        "\n",
        "    This axiom holds.\n",
        "6. $c\\textbf{u}$ is a vector in $\\mathbb{R}^n$.\n",
        "\n",
        "    $c\\textbf{u}=u^c$ is in $V$ because $u^c$ is a positive real number.     $\\Rightarrow$ Closed under scalar multiplication.\n",
        "\n",
        "    This axiom holds.\n",
        "7. $c(\\textbf{u}+\\textbf{v})=c\\textbf{u}+c\\textbf{v}$\n",
        "\n",
        "    $c(\\textbf{u}+\\textbf{v})=(uv)^c=u^cv^c=\\textbf{u}^c+\\textbf{v}^c=c\\textbf{u}+c\\textbf{v}$\n",
        "\n",
        "    This axiom holds.\n",
        "8. $(c+d)\\textbf{u}=c\\textbf{u}+d\\textbf{u}$\n",
        "\n",
        "    $(c+d)\\textbf{u}=u^{(c+d)}=u^cu^d=\\textbf{u}^c+\\textbf{u}^d=c\\textbf{u}+d\\textbf{u}$\n",
        "\n",
        "    This axiom holds.\n",
        "9. $c(d\\textbf{u})=(cd)\\textbf{u}$ \n",
        "\n",
        "     $c(d\\textbf{u})=cd\\textbf{u}=u^{cd}=(cd)\\textbf{u}$\n",
        "\n",
        "    This axiom holds.\n",
        "10. $1(\\textbf{u})=\\textbf{u}$\n",
        "\n",
        "    $1(\\textbf{u})=u^1=u=\\textbf{u}$\n",
        "\n",
        "    This axiom holds.\n",
        "\n",
        "STEP 2:\tUse your results from Step 1 to decide whether $V$ is a vector space.\n",
        "\n",
        "Since all the axioms are satisfied, $V$ is a vector space.\n",
        " "
      ],
      "metadata": {
        "id": "VlVIoruvAJWB"
      }
    },
    {
      "cell_type": "markdown",
      "source": [
        "#4.3. Subspaces of Vector Spaces"
      ],
      "metadata": {
        "id": "2KHiUOlZQclu"
      }
    },
    {
      "cell_type": "markdown",
      "source": [
        "##Definition of a Subspace of a Vector Space\n",
        "A nonempty subset  $W$  of a vector space $V$ is a **subspace** of $V$ when $W$ is a vector space under the operations of addition and scalar multiplication defined in $V$."
      ],
      "metadata": {
        "id": "A_fUxgpSQfgP"
      }
    },
    {
      "cell_type": "markdown",
      "source": [
        "###Theorem 4.5: Test for a Subspace\n",
        "If $W$ is a nonempty subset of a vector space $V$, then $W$ is a subspace of $V$ if and only if the two closure conditions listed below hold.\n",
        "1. If $\\textbf{u}$ and $\\textbf{v}$  are in $W$, then $\\textbf{u}+\\textbf{v}$ is in $W$.\n",
        "2. If $\\textbf{u}$ is in $W$ and $c$ is any scalar, then $c\\textbf{u}$ is in $W$."
      ],
      "metadata": {
        "id": "jXPjtUzEQhFi"
      }
    }
  ],
  "metadata": {
    "kernelspec": {
      "display_name": "R",
      "language": "R",
      "name": "ir"
    },
    "language_info": {
      "codemirror_mode": "r",
      "file_extension": ".r",
      "mimetype": "text/x-r-source",
      "name": "R",
      "pygments_lexer": "r",
      "version": "3.6.1"
    },
    "colab": {
      "name": "4-2:3_Vector_Spaces-Subspaces.ipynb",
      "provenance": [],
      "collapsed_sections": [],
      "include_colab_link": true
    }
  },
  "nbformat": 4,
  "nbformat_minor": 0
}