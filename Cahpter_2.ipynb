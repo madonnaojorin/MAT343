{
  "cells": [
    {
      "cell_type": "markdown",
      "metadata": {
        "id": "view-in-github",
        "colab_type": "text"
      },
      "source": [
        "<a href=\"https://colab.research.google.com/github/madonnaojorin/MAT343_Linear_Algebra/blob/main/Cahpter_2.ipynb\" target=\"_parent\"><img src=\"https://colab.research.google.com/assets/colab-badge.svg\" alt=\"Open In Colab\"/></a>"
      ]
    },
    {
      "cell_type": "markdown",
      "source": [
        "#2.1. Operations with Matrices"
      ],
      "metadata": {
        "id": "ZUHN2oIN_g9f"
      }
    },
    {
      "cell_type": "markdown",
      "source": [
        "##Definition of Equality of Matrices\n",
        "Two matrices $A=[a_{ij}]$ and $B=[b_{ij}]$ are **equal** when they have the same size ($m\\times n$) and $a_{ij}=b_{ij}$ for $1\\leq i\\leq m$ and $1\\leq j\\leq n$."
      ],
      "metadata": {
        "id": "wuGt1KVP_rHb"
      }
    },
    {
      "cell_type": "markdown",
      "source": [
        "##Definition of Matrix Addition\n",
        "If $A=[a_{ij}]$ and $B=[b_{ij}]$ are matrices of size $m\\times n$, then their **sum** is the $m\\times n$ matrix $A+B=[a_{ij}+b_{ij}]$.\n",
        "\n",
        "The sum of two matrices of different sizes is undefined."
      ],
      "metadata": {
        "id": "odRTfDbX_vZx"
      }
    },
    {
      "cell_type": "markdown",
      "source": [
        "##Definition of Scalar Multiplication\n",
        "If $A=[a_{ij}]$ is an $m\\times n$ and $c$ is a scalar,  then the **scalar multiple** of $A$ by $c$ is the $m\\times n$ matrix $cA=[ca_{ij}]$."
      ],
      "metadata": {
        "id": "KppSUZEhAQCe"
      }
    },
    {
      "cell_type": "markdown",
      "source": [
        "##Definition of Matrix Multiplication\n",
        "If $A=[a_{ij}]$ is an $m\\times n$ matrix and $B=[b_{ij}]$ is an $n\\times p$ matrix, then the **product** AB is an $m\\times p$ matrix $$AB=[c_{ij}]$$\n",
        "where \n",
        "\n",
        "\\begin{align*}\n",
        "c_{ij} &=\\sum_{k=1}^n a_{ik}k_{kj}\\\\\n",
        "&= a_{i1}b_{1j}+a_{i2}b_{2j}+a_{i3}b_{3j}+\\cdots+a_{in}b_{nj}\n",
        "\\end{align*}"
      ],
      "metadata": {
        "id": "XKCmQJqBAYn5"
      }
    },
    {
      "cell_type": "markdown",
      "source": [
        "##Systems of Linear Equations\n",
        "\\begin{align*}A=\\begin{bmatrix}\n",
        "a_{11} & a_{12} & \\cdots & a_{1n} \\\\\n",
        "a_{21} & a_{22} & \\cdots & a_{2n} \\\\\n",
        "\\vdots & \\vdots &  & \\vdots \\\\\n",
        "a_{m1} & a_{m2} & \\cdots & a_{mn}\n",
        "\\end{bmatrix}  , \\hspace{5mm} \\textbf{x}=\\begin{bmatrix}\n",
        "x_1 \\\\\n",
        "x_2 \\\\\n",
        "\\vdots \\\\\n",
        "x_n \n",
        "\\end{bmatrix}  , \\hspace{5mm} \\textbf{b}=\\begin{bmatrix}\n",
        "b_1 \\\\\n",
        "b_2 \\\\\n",
        "\\vdots \\\\\n",
        "b_m \n",
        "\\end{bmatrix}  \n",
        "\\end{align*}\n",
        "\n",
        "A: Coefficient matrix, $\\textbf{x}$: the column matrix of unknowns, $\\textbf{b}$: the column matrix of $\\textbf{b}$.\n",
        "\n"
      ],
      "metadata": {
        "id": "KoGVqd6ZAspy"
      }
    },
    {
      "cell_type": "markdown",
      "source": [
        "##Linear Combinations of Column Vectors\n",
        "The matrix product $Ax$ is a linear combination of the column vectors $a_1, a_2, \\cdots, a_n$ that form the coefficient matrix $A$.\n",
        "$$\\begin{bmatrix}\n",
        "a_{11} & a_{12} & \\cdots & a_{1n} \\\\\n",
        "a_{21} & a_{22} & \\cdots & a_{2n} \\\\\n",
        "\\vdots & \\vdots &  & \\vdots \\\\\n",
        "a_{m1} & a_{m2} & \\cdots & a_{mn}\n",
        "\\end{bmatrix}  \\begin{bmatrix}\n",
        "x_1 \\\\\n",
        "x_2 \\\\\n",
        "\\vdots \\\\\n",
        "x_n \n",
        "\\end{bmatrix}=x_1\\begin{bmatrix}\n",
        "a_{11} \\\\\n",
        "a_{21} \\\\\n",
        "\\vdots \\\\\n",
        "a_{m1}\n",
        "\\end{bmatrix}+x_2\\begin{bmatrix}\n",
        "a_{12} \\\\\n",
        "a_{22} \\\\\n",
        "\\vdots \\\\\n",
        "a_{m2}\n",
        "\\end{bmatrix}+\\cdots+x_n\\begin{bmatrix}\n",
        "a_{1n} \\\\\n",
        "a_{2n} \\\\\n",
        "\\vdots \\\\\n",
        "a_{mn}\n",
        "\\end{bmatrix}$$\n",
        "Furthermore, the system\n",
        "$$A\\textbf{x}=\\textbf{b}$$\n",
        "is consistent if and only if $\\textbf{b}$ can be expressed as such a linear combination, where the coefficients of the linear combination are a solution of the system."
      ],
      "metadata": {
        "id": "Obt6NgsdCHnQ"
      }
    },
    {
      "cell_type": "markdown",
      "source": [
        "#2.2. Properties of Matrix Operations"
      ],
      "metadata": {
        "id": "RGmR425OCRlt"
      }
    },
    {
      "cell_type": "markdown",
      "source": [
        "###Theorem 2.1: Properties of Matrix Addition and Scalar Multiplication\n",
        "If $A$, $B$, and $C$ are $m\\times n$ matrices, and $c$ and $d$ are scalars, then the properties below are true.\n",
        "1. $A+B=B+A$\n",
        "2. $A+(B+C)=(A+B)+C$\n",
        "3. $(cd)A=c(dA)$\n",
        "4. $1A=A$\n",
        "5. $c(A+B)=cA+cB$\n",
        "6. $(c+d)A=cA+dA$"
      ],
      "metadata": {
        "id": "toRaHghqCUyK"
      }
    },
    {
      "cell_type": "markdown",
      "source": [
        "###Theorem 2.2: Properties of Zero Matrices\n",
        "If $A$ is an $m\\times n$ matrix $c$ is a scalar, then the properties below are true. ($0_{mn}$ is a **zero matrix**.)\n",
        "1. $A+0_{mn}=A$\n",
        "2. $A+(aA)=0_{mn}$\n",
        "3. If $cA=0_{mn}$, then $c=0$, or $A=0_{mn}$"
      ],
      "metadata": {
        "id": "MWbej6uzCit4"
      }
    },
    {
      "cell_type": "markdown",
      "source": [
        "###Theorem 2.3: Properties of Matrix Multiplication\n",
        "If $A$, $B$, and $C$ are matrices (with sizes such that the matrix products are defined), and $c$ is a scalar, then the properties below are true.\n",
        "1. $A(BC)=(AB)C$\n",
        "2. $A(B+C)=AB+AC$\n",
        "3. $(A+B)C=AC+BC$\n",
        "4. $c(AB)=(cA)B=A(cB)$"
      ],
      "metadata": {
        "id": "tLKk-GYqCuYg"
      }
    },
    {
      "cell_type": "markdown",
      "source": [
        "##Definition: Identity Matrix\n",
        "The $n\\times n$ identity matrix, denoted $I_n$ (or simply $I$), is a matrix with $n$ rows and $n$ columns. The entries on the diagonal from the upper left to the bottom right are all 1's, and all other entries are 0.\n"
      ],
      "metadata": {
        "id": "8gJ18_HcC25-"
      }
    },
    {
      "cell_type": "markdown",
      "source": [
        "###Theorem 2.4: Properties of the Identity Matrix\n",
        "If $A$ is a matrix of size $m\\times n$, then the properties below are true.\n",
        "1. $AI_n=A$\n",
        "2. $I_mA=A$"
      ],
      "metadata": {
        "id": "vzGV_vGXC88H"
      }
    },
    {
      "cell_type": "markdown",
      "source": [
        "##Definition: The Transpose of a Matrix\n",
        "The **transpose** of an $m \\times n$ matrix $A$ is the $n \\times m$ matrix $A^T$ obtained by interchanging rows and columns of $A$,\n",
        "$$\\text{i.e., } (A^T)_{ij}=A_{ji}\\hspace{5mm}\\forall i,j.$$"
      ],
      "metadata": {
        "id": "Ltey2lg1DEF3"
      }
    },
    {
      "cell_type": "markdown",
      "source": [
        "##Definition: Symmetry\n",
        "A square matrix $A$ is symmetric if $A^T = A$."
      ],
      "metadata": {
        "id": "YRlKyGSJDLsB"
      }
    },
    {
      "cell_type": "markdown",
      "source": [
        "###Theorem 2.6: Properties of Transposes\n",
        "If $A$ and $B$ are matrices (with sizes such that the matrix operations are defined) and $c$ is a scalar, then the properties below are true.\n",
        "1. $(A^T)^T=A$\n",
        "2. $(A+B)^T=A^T+B^T$\n",
        "3. $(cA)^T=c(A^T)$\n",
        "4. $(AB)^T=B^TA^T$"
      ],
      "metadata": {
        "id": "jIYwXD9RDPmm"
      }
    },
    {
      "cell_type": "markdown",
      "source": [
        "#2.3. The Inverse of a Matrix"
      ],
      "metadata": {
        "id": "KUuIi6q5DXxW"
      }
    },
    {
      "cell_type": "markdown",
      "source": [
        "##Definition of the Inverse of a Matrix\n",
        "An $n\\times n$ matrix $A$ is **invertible** (or **nonsingular**) when there exists an  matrix  such that\n",
        "$$AB=BA=I_n$$\n",
        "where $I_n$ is the identity matrix of order $n$. The matrix $B$ is the (multiplicative) **inverse** of $A$. A matrix that does not have an inverse is **noninvertible** (or **singular**)."
      ],
      "metadata": {
        "id": "mVBwfu8kDbWX"
      }
    },
    {
      "cell_type": "markdown",
      "source": [
        "###Theorem 2.7: Uniqueness of an Inverse Matrix\n",
        "If $A$ is an invertible matrix, then its inverse is unique. The inverse of $A$ is denoted by $A^{-1}$."
      ],
      "metadata": {
        "id": "uq3-2PCFDp7z"
      }
    },
    {
      "cell_type": "markdown",
      "source": [
        "###Finding the Inverse of a Matrix by Gauss-Jordan Elimination\n",
        "Let $A$ be a square matrix of order $n$.\n",
        "1. Write the $n\\times 2n$ matrix that consists of  $A$ on the left and the $n\\times n$ identity matrix $I$ on the right to obtain $[A\\hspace{1mm}I]$. This process is called **adjoining** matrix $I$ to matrix $A$.\n",
        "2. If possible, row reduce $A$ to $I$ using elementary row operations on the entire matrix $[A\\hspace{1mm} I]$. The result will be the matrix $[I\\hspace{1mm} A^{-1}]$. If this is not possible, then $A$ is noninvertible (or singular).\n",
        "3. Check your work by multiplying to see that $AA^{-1}=I=A^{-1}A$."
      ],
      "metadata": {
        "id": "ed1TsG1iDvRM"
      }
    },
    {
      "cell_type": "markdown",
      "source": [
        "###Theorem 2.8: Properties of Inverse Matrices\n",
        "If $A$ is an invertible matrix, $k$ is a positive integer, and $c$ is a nonzero scalar, then $A^{-1}$, $A^{k}$, $cA$, and $A^{T}$ are invertible and the statements below are true.\n",
        "1. $(A^{-1})^{-1}=A$\n",
        "2. $(A^{k})^{-1}=A^{-1}A^{-1}\\cdots A^{-1}=(A^{-1})^k$\n",
        "3. $(cA)^{-1}=\\frac{1}{c}A^{-1}$\n",
        "4. $(A^{T})^{-1}=(A^{-1})^T$"
      ],
      "metadata": {
        "id": "fV6hpwi7D6ZU"
      }
    },
    {
      "cell_type": "markdown",
      "source": [
        "###Theorem 2.9: The Inverse of a Product\n",
        "If $A$ and $B$ are invertible matrices of order $n$, then $AB$ is invertible and\n",
        "$$(AB)^{-1}=B^{-1}A^{-1}$$\n"
      ],
      "metadata": {
        "id": "loDvolihED60"
      }
    },
    {
      "cell_type": "markdown",
      "source": [
        "###Theorem 2.10: Cancellation Properties\n",
        "If $C$ is an invertible matrix, then the properties below are true.\n",
        "1. If $AC=BC$, then $A=B$.\n",
        "2. If $CA=CB$, then $A=B$.\n"
      ],
      "metadata": {
        "id": "8ewl4QhgEII-"
      }
    },
    {
      "cell_type": "markdown",
      "source": [
        "###Theorem 2.11: Systems of Equations with Unique Solutions\n",
        "If $A$ is an invertible matrix, then the system of linear equations $A\\textbf{x}=\\textbf{b}$ has a unique solution $\\textbf{x}=A^{-1}\\textbf{b}$."
      ],
      "metadata": {
        "id": "GoJ7R4gjEOUi"
      }
    },
    {
      "cell_type": "markdown",
      "source": [
        "#2.4. Elementary Matrices\n"
      ],
      "metadata": {
        "id": "7LDFFrA6ESXE"
      }
    },
    {
      "cell_type": "markdown",
      "source": [
        "##Definition of an Elementary Matrix\n",
        "An $n\\times n$ matrix is an **elementary matrix** when it can be obtained from the identity matrix $I_n$ by a single elementary row operation."
      ],
      "metadata": {
        "id": "RVq6y6F_EV4o"
      }
    },
    {
      "cell_type": "markdown",
      "source": [
        "###Theorem 2.12: Representing Elementary Row Operations\n",
        "Let $E$ be the elementary matrix obtained by performing an elementary row operation on $I_m$. If that same elementary row operation is performed on an $m\\times n$ matrix $A$, then the resulting matrix is the product $EA$."
      ],
      "metadata": {
        "id": "auhAMaL0Ebwg"
      }
    },
    {
      "cell_type": "markdown",
      "source": [
        "##Definition of Row Equivalence\n",
        "Let $A$ and $B$ be $m\\times n$ matrices. Matrix $B$ is **row-equivalent** to $A$ when there exists a finite number of elementary matrices $E_1,E_2,\\cdots,E_k$ such that\n",
        "$$B=E_kE_{k-1}\\cdots E_2E_1A.$$"
      ],
      "metadata": {
        "id": "UiwcG4f4Efs4"
      }
    },
    {
      "cell_type": "markdown",
      "source": [
        "###Theorem 2.13: Elementary Matrices Are Invertible\n",
        "If $E$ is an elementary matrix, then $E^{-1}$ exists and is an elementary matrix."
      ],
      "metadata": {
        "id": "WbRXaueiEmsV"
      }
    },
    {
      "cell_type": "markdown",
      "source": [
        "###Theorem 2.14: A Property of Invertible Matrices\n",
        "A square matrix $A$ is invertible if and only if it can be written as the product of elementary matrices."
      ],
      "metadata": {
        "id": "GmfTk3vjEpZZ"
      }
    },
    {
      "cell_type": "markdown",
      "source": [
        "##Definition of LU-Factorization\n",
        "If the $n\\times n$ matrix $A$ can be written as the product of a lower triangular matrix $L$ and an upper triangular matrix $U$, then $A=LU$ is an **LU-factorization** of $A$."
      ],
      "metadata": {
        "id": "xGOGKuEhEsTV"
      }
    }
  ],
  "metadata": {
    "kernelspec": {
      "display_name": "R",
      "language": "R",
      "name": "ir"
    },
    "language_info": {
      "codemirror_mode": "r",
      "file_extension": ".r",
      "mimetype": "text/x-r-source",
      "name": "R",
      "pygments_lexer": "r",
      "version": "3.6.1"
    },
    "colab": {
      "name": "Cahpter 2.ipynb",
      "provenance": [],
      "collapsed_sections": [],
      "include_colab_link": true
    }
  },
  "nbformat": 4,
  "nbformat_minor": 0
}