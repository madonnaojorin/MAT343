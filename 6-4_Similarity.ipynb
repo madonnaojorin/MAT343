{
  "cells": [
    {
      "cell_type": "markdown",
      "metadata": {
        "id": "view-in-github",
        "colab_type": "text"
      },
      "source": [
        "<a href=\"https://colab.research.google.com/github/madonnaojorin/MAT343_Linear_Algebra/blob/main/6-4_Similarity.ipynb\" target=\"_parent\"><img src=\"https://colab.research.google.com/assets/colab-badge.svg\" alt=\"Open In Colab\"/></a>"
      ]
    },
    {
      "cell_type": "markdown",
      "source": [
        "#6.4. Transition Matrices and Similarity"
      ],
      "metadata": {
        "id": "-uCj4wRJQxl0"
      }
    },
    {
      "cell_type": "code",
      "source": [
        "install.packages(\"pracma\")\n",
        "library(pracma)"
      ],
      "metadata": {
        "colab": {
          "base_uri": "https://localhost:8080/"
        },
        "id": "tmzHUN6DOQib",
        "outputId": "afff02f9-2247-4940-a114-2f91e4d1afa9"
      },
      "execution_count": 1,
      "outputs": [
        {
          "output_type": "stream",
          "name": "stderr",
          "text": [
            "Installing package into ‘/usr/local/lib/R/site-library’\n",
            "(as ‘lib’ is unspecified)\n",
            "\n"
          ]
        }
      ]
    },
    {
      "cell_type": "markdown",
      "source": [
        "In this section, $A$, $A'$, $P$, and $P^{-1}$ represent the four square matrices listed below.\n",
        "\n",
        "1. Matrix for $T$ relative to $B:A$ \n",
        "2. Matrix for $T$ relative to $B':A'$ \n",
        "3. Transition matrix from $B'$ to $B$: $P$ \n",
        "4. Transition matrix from $B$ to $B'$: $P^{-1}$\n",
        "\n",
        "There are two ways to get from the coordinate matrix $[\\textbf{v}]_{B'}$ to the coordinate matrix $[T(\\textbf{v})]_{B'}$. One way is direct, using the matrix $A'$ to obtain\n",
        "$$A'[\\textbf{v}]_{B'}=[T(\\textbf{v})]_{B'}$$\n",
        "The other way is indirect, using the matrices $P, A$, and $P^{-1}$ to obtain\n",
        "$$P^{-1}AP[\\textbf{v}]_{B'}=[T(\\textbf{v})]_{B'}.$$\n",
        "\n",
        "![9781305658004-ch6-0163-t2.png](data:image/png;base64,iVBORw0KGgoAAAANSUhEUgAAAPcAAADXCAIAAABJQlAyAAAACXBIWXMAABJ0AAASdAHeZh94AAAABGdBTUEAALGOfPtRkwAAACBjSFJNAAB6JQAAgIMAAPn/AACA6QAAdTAAAOpgAAA6mAAAF2+SX8VGAAAwZUlEQVR42mL8//8/wygYBcMaAAQQ02gQjIJhDwACaDSVj4LhDwACiHAqf/LkSWZaenRE5O5duyAinz59mj9vHlAQKDUagqOAnuDkiRPApAhMe9evXYOnz9amZiACJktcugACiHAqlwEDoOmubm4QET4w0NTSBIqPhvsooCcwt7D4BAaaWlrw9Ankuri5AtMkLl0AAURUi0VDSxNNZN2atXkFBaOBPgroD7Rg6RtelkNSPx4tAAFEVCqHlNnA4hzCXbtmTV5B/mhwj4IBAdIy0vCkCAQL582vrqvFrwUggIhK5ZDaAdLuAZKnTpzEn3VGwSigHUBOjcDkLiUjjaetAgEAAURUKoc0xCHt/QXz5uWOFuSjYOAApGUBSY3AlnNiUhJBLQABxEJ8Bnr65CmkDTTa6RwFA16WA5PikzVrgkKCidECEEDEjpcDm/xAY4FtoAQiss4oGAW0Tug3rl0HIiJbzgABRGwqlwI3+c0szAm2gUbBKKBDo2XtmjXxSYlEqgcIIGJbLMCyHJhv4EPmZABgVQBs8UB6xydPnASS7z9+YubixVT599tnQX5QXjK3MAeTFtLgMfvR2B1sAB6nnz99vgZuKL9+/5GdB1s5+P0zpHwExikvHx8wOQHLY7JLTE0tTZKmawACiJHI1VpA/3xGGoonEgC7CCdOnDh14uTlq9cEJaQ1jc3l1TS5eHhBJC8BH377/OnhrevfvnwGktfPnnz/4qmuthawMrGwsCDVGWRHIaTYgMQlshR5Q0zA4gdYTBATtWg2ImdyYJACuQNYowLTNBidBCZoYJzKq2tB4hQYuQT1vnn+9PWzJyDy+VNgnAKLM0icAsOTpFIM6ACSMglAADHSYk3i7l279uzaffT4CTVDM6DngUhEUppyY9+AgwaIXty9AQwdFzdXSuoWgvkTmNTg5gO5vl7ewSEhwO7Op0+fJk2YCMxsBIdp0YCDjS1QC5FuBoZhZlp6XkE+MAW0NDUjWzd/3jygS+iZ0IFehsTp3YeP1YxAEappZEawnCIGQIowIHp59wYwZIDBS4siDCCAqJnKId3T7Tt3Gdi52PoEAbM47cIdGC6Ht6y7df6Up7sbsH1G3fYM0COTJ0zs7OlGFlRRUASmOciML1ABMMkCFQBTG408CCz4y0tK7zy4zwBbvLF521b4UDFQavqsmfQpudetWXv+8lVg4qZ1nJ49uOfsgd33LpwCRih1szFAALFQKyyAxdun3//tfIJ6NlTSo5cNriKADGBaz8wv4WNlhBR7VDEcmIZq8JbTkEyF3KgApjxgeY9WjWJWrMDsAc+Q+Ktd5Kk3tHVIQC3AWh6YDWiXxyDZbMG8+aJKGsDEHVjeToc4NbZ3ASJgSxWY3N3dveysLXML8qlSfgEEEBPl6RtYzMxcstovt6p6xhJgiNC5mQi0EWgv0HagG4AuQZ77Jbsgh6RX/CkASAbBEhmQCyz7gQz4yk1gugS2N4CM1qbmSRMmQFogwOJ/HVgjpizWFguk8w1pIAETNLKTgL03iI00St9ent77z15N75iWVt9JTIObigDYEALGaf+mAxouAcDyC1jiUL70FSCAWChJDUAX/GHnia3qoEqzmxIArEmB8QFsuPf1trCAGxtklwGQIhaH1Elgorx+7TowCSJbAUyswPYDeAzKFVi/A9uXwIQClAWKABEkSwAFJ8HSJaYsZq8AmLifPnkKtG4S2DtoxTZQ4xMwoG5TDeh3YB8AWH6XTF1MlWY3hdV1tbE5sGkKTOtairLAbgnZbRiAACIzlQNDf+O2XTFF1XTO6PgBMLMV9kwHhktoaERkeAh5qyaf4i45gIUrxExgagAWxsBGBaTtvmnbVmBqAyZNYAaAtC6AZS0w6fPy8SYkJcETKDySsMoigxPgGgliuLSMDFAx1lGIp9RL5UBnA225dv8xsPwe8DILM60D26XA6qWwMJ+8RhpAAJHcYoGMNjz59r916aZBlcSRwwVY3wFdCHQnfK09dQEwzQGDG1gMQ8z/DE4ivOA193AFwNId2K4FtlLgu0+QteORBYI9u3bDG+VAi4BJcB22Ip+KY2LANCSibQps+w2qJI7cLm1avHHV5p3AwgXPbglcACCASEvlwHhNSk6Lqe4ISs1lGNwA6EKgO/MLS9aSmD6IHMkClsTwUhDYHEfrJwFTP7CJcuDIYSAJbNdhlhR4ZCF1BaRRzgAbtpfGVmZTZdAN1DeYOa9i+gD0qUhtrwMrah23QGCGJLX3BRBAJKRyYHwAMxOwCKfpcBJ1G+vAyAO6GWtKwlNOEwxEYMqDtL+B6QzShoaIf/70GV46AtUAmyjAVgdma5KgLANs4gnSkADaglZTkzotgquVAsyfz7//G7RFONZxGGCcVtU1kVR4AQQQUePlkDEBQUUNYEOcYQiCJX2tf98+w5qkcBVvZhbm8OkbYIqEzInwwdokwPa3i5srPOUB0wqwiRwUEgxstAD1QtrTN65dl5KRBjZmIJkBaAKwiQIs74GlPjCNoskiF/NAZZBupTRIwWcNLU3MxijQFqzipCZxu9D4QV6EYwXfPn+a2ViuICqANqeBCwAEEOFUPqSDAw6A3ZdDqxcuXbGcmIQO9PLkCRNJndqkG6DcecC8lJqanlzbMTh7VkSCWY3lohxMxCR0gAAikMqHRxInL6ED68TEwbfMGOIwSqYGgSZEhEfG13QMlZYn5QkdIIAIpHJgQ0XJ0nkYJHF4Qn9z9TSR1RyktT3YVhoDXUWJkyDFVlBe1ZAuxdESuq2RNv7yCCCAmPA3T3+y8QybJA4ZkHr94x+u6UY0ANkHONi8QKGTgB1xYM08bJI4EKTVdy5ZsQbrgCwcAAQQzlQO1Hbi4lWgEQzDCwB9tHHbLvyBMlwBMHszC0sNp2ILAqpnLGlsbMazEAAggLC3WID1mpend9PijQM+zUsL8Ob5047MmG3bt46ofU/AHmdOQUnr0k3D03dnT+5ZMAXY6cIqCxBATLjqtcjC6mGZxBnACwGAvgO2xwa/U/++/EQto8pKSodfzQwHwDaYoKLG/HnzsMoCBBCWVH7yxIknbz8a27sM44IN6Ltr9x9TvoCR1uDPzRdUSejA6Ne0cRkGgyp4QFBq7vKVa7DO/wMEEBO21tvE9OGb6eEA6MdJNFu8St2E/u/tF0pMAEb83LnzPSLih3eEApserhEJWKtogABiwizI2UWkhsp8L4XtFqBPB39xDgS/b774/+Un2doXzJtn5R00XNufyADYsT509DhmNxQggJgwC/KgtLwR0iFzj0xYMG/+EHDon3+/Lj0mO6Hv2Ll72BfkiHZLWh7m+k2AAEJJ5cBM8On3/5FQkEMAsJ0K7IEMjVPYIQn9x29S9e3etUvJwGwkFOTw4hyYq9EEAQKICS1E7IbdYCp+APTvkBk7//Pv97VnQJIkTevWrLUdYXEqoayBFqcAAcSCFiKFUxbTwmLQGpIt6zSNzUUlpXEFOlAN5JgOYMqjW8QY27v058QmDpFj8YCNFmCJzqYny8BC7JLpuw8fx1MwtNKaEQOMMhEpGWCkACv5/pJMbl4+IPfhTdD2EXl1rTfPngBjrbB7GrC6eHjr+pvnT3GNzp09uAdoAnych3bRbezgeurESeQTQQACiAW5J87AyUujqg3oHwbwWA/+ugYUrGdPQhTTrWP+7c9/rItDgEnqz73XgzShG8kToxjYt1YzomgyH5gKg2YsgawIACZiUSkZyOrr6mg/YJKFROisxnJIEgcq9ohMwFOg7Fi+ANJQpGl0Ay1qnTcZWQQggBCpHLRxfRgtbyAeAH0N9DvmKRf///z99+Hb4CzR/9x8waIuQUwqp2Kcfvv8CZLEgQU2ME3DEzQwvQKllvS1Vs9Ygt8EoBZg5UBQGRUAJy9yyQUQQEzIIUKfWQNgGK2bPRmIgDkbckwckP2GjuU3ZiofEuOJyODvy0/AhE64JL52nYpjCfAMAyyzkblABrA5Ck88+OMXqAzYVqFPyQXnAgQQIpV//vSZi4eXDjEEDHdgY27drEmPbl0H1nRAbwO5AziwA/Q1fCcbrcG09UtO37hEtYR+l0CDClie0aLkAqZyUGMdKcqAbW54oscfv0DuIdqncmCcIg+dAQQQIpVfo2OLBTIkf+bgHshBSgM7CAD09TXabPVHA5+/fVm0c/3p65eoZeDfp+/xz/+/fv+RFh4BpnJgDw9NBLmIxBO/wOQOqQpoCoB5CfnEEYAAYhmQhAX0qib4QBlgEABrNFzbSYHVHKTWAwYTUBnkyNyh2wGYun4JHxf30zcvqGgmpN3CLI59zAD7IcuUAWBEAPuL+AtEIuOXbtENEEADdnczZGAeWK/haatApIC1HsTDwL780E3iNx7d5ePicTK2evrmJXVNBi10oWMvGdooNzJDG6oiPn5xjePRLroBAmjAUjkwvwL9AywV8M9DAcMUUmx8+/IZmMuHbipfvHN9rHuAtIg4FVsscPD72jNKFrqQmsqBMYKWUoGJHm38AFf8ApWh5RA6RDdAALEMYMTbgUeg8IzQQ3roDOAZBKD/C3qmD9EkvvfsMVMNfV4uHg15ZSAXWJwDkzsd7KV6uQBphGA2JEwcXIFSaP0rrPELVGaC2qanQ3QDBBCiLJeRkYHYQTfgEZngjnsSAd5zh8ylAd1Go0Y50GRaX+eyeNf6Z29eTlu/BJjcgdxn1G60sOnJMvKwY4pLCPFT0RZIaV09YwmwnY3WgwSm76+fP6FlKsz4BSoAlu64BhuoGN1Ap/IiTfMBBBAilUvLSNO5SYA834u//oJ0R2jUNwf6Guh32nkTmLizA2OzAmOAqCI6A9RGf3iXiuazqEtgTeLISZOKYwZwhCabXt+JNkSIGb87Viws7J5Gh+gG5iXki8wBAgiRykGHoZ07RaOYFgV3LNbNnoxnRgAoBVQAVwz1NrgNB4wqyMgrTRqa507R7qKiz9++APudphp6cBFTTT0qdkCBSRzXAAsD+JDe188oWnGpCT5vlphpO2AEAZsowPIYTyL2iIiHN2BoGt1Ao5BPlgQIIBbkVD5n6Wra9TUJDopDFcDWukBW8wA9DLmIA1hR0miNDTBE8uJCaeTx6tm9UkhNcGCi//z1676zx7IDY4DNdAoNB6ZvPEkcEqe7z5yiZBqEpNl4YATh2UiJ5gyaRvffb5+RW6EAAYSyh9/BxrZj/X6GEQYqAh0PHDmMKf7vw7fflygqCIFlNqQJriGnBEnT8IlPXi5uDTllCpM4waUsnz59CgyJGK779vF0tM6tX4R8thRAAKGMsbi6uQFz0vDe14zZ46HdRXPSIuJoYynITRdKALAhTsxqLT4+PjUFWWABOXJ2xkCqBUcLlHoDIIBQxsuDQoKBlcWIyveHNq8l8i73wQOASRy0xJw44OLmemaExemtcyfRSi6AAGJBa8a9vndj5GR9oE+/vX6Gq+vJyMHKLC88sC78+/AtRn+TiaRdFMD4nhka4YF3xHaYVc6GutpouwUAAgh9VighKfHQlnWD/6oJ6hTkW9Yl4L7LHZjKWQZbKicxiUMaLcBYB1biI2Rf3I7lC6ZP7EETBAgg9PAKDgm5cnjPkJ5LJxIA/Qj0KU2vzKQ6wDX7gx/kFuSvmzVpJCTx62dPainKYs7xAQQQllIhOTlxSV/rsA8RoB+BPh1CDsY/+4MHAGPdx9Mdshtt2McpMEtjigMEEJZUDizefr55RodFwAOb6YF+HEIFOf7ZH2KK8z0rFw7vKhqYjZ1sLLEu1gAIIOwtvJq62lmN5cM1UID+Wt7fSuRZ/YMBEJz9IaZ1Xl9fO3MoL10mOJBwavt6rAU5EAAEEPZUrqmllZaaNFzbLUB/RYaH0HqFFhWTODFD4wSBq5ubgqjAsGy3AIut/pJMYDbGdVQ3QADh7K0nJiWx//pCh42odAZAH4lyMA2VA1iInP0hElTX1Z7dsZ7OK0/pU2zFRIRgnsIABwABhO9eIcgdNB5JucNmNpSkC7QGBfjzj6RxQ4LgyZMnEeGRuV3Ths0pz+tmT2Z89wx/+xMggJjwN+aACeLw6oXDI/cDfQEsyYZSEgf1Oqm8mQvYTps9e+bksqzhEafAYuvppVMEu1gAAcRETK9lYUvFUA+U62dPrp/UNmv2zBF1ywquTtfwSOiQmnn6rJkEVQIEELF3Nw/pWz+HXkOFDtkefLHt0G26kHQfN0AAEZXK4Qld08ZlyE3+A9ttwEoNmONHkzhmQm9sbDb2CBxahRep15MDAUAAEdvsAyaRzdu28v/50poRM1TG0YHuBLoW6ObRUhxX0wXYhLuwcz2wXBwqcQpsZQHjNMzXnaTpDoAAIrYsh4Pdu3YBC4DIwupBPvBy9uCe5f2twE4F7ZaPDxswf968JSvWpNV3DvLWC7Bavn5kT1dPN6k7GAECiORUDmm9lJeUvvv5L7a4ZhCu0X3z/Oni3hYhdiYiG22jANJ6KSspldc3A7ZIB+HFFdfPngRWOE42lrkF+WTEKUAAkZPK4YV6f/9EHVsX5C2rA95E2bFi4ZXDewoL80eLcPIK9blz5/un5A6eljroBN1Zk36+eVZTV0v2JnSAACI/lSOHi5V30MCmdUj6PrZ1XXJy4lCZ1xycAFhRL5g3b8v2Xa4RCQOb1iHp+96FU9V1lDY7AQKI0lQOCZe1a9asXr1WQlkjKC2Pzm0YSFi8uHsjNDQ4OCRktIlC3bRuYO8KuWuFzu0T0Jb+ezcSkhKpsm4UIICokMrhAJjW9+zafevBY4/IBGDflKZFO+TI4B3LF6gpyAaFBI+2T2iU1oHt0gXz5nOJSpk4uNI6ToEF1pkDu3cuX2BnbQmMUzzrUkgFAAFEzVQOAU+ePAEGzbo1a7/9+Q+s8qh7HDNolh58XgcXCyMkcQ+VpYVDGgDjdOG8+cBoFVfWgBysRcU4hZy9CCSBBZaLmyswTqleIQMEEPVTOVpJcOrEyZMnTvCKS0OChouHl6RDcICeB2ZxyGVin18+BeZvMwtzWgTEKCC+CAPG6cPHT3jFpOTVtYBxSvAkQLRKGHKVHJAELTH4/tkCHKfAmKVdnAIEEA1TOVqKv37tGjC5f/70+dq1a5D76CBSoKQPqwfhp56CwPfPQG9raWnx8vECgwDYvx5N2YMtxT998gQYp09B9JP3Hz8xc0HjFLkgg1yVCIlcYA0MiVMpGWkgScU2CX4AEEB0SuV4ANrNVXTz+SigaYkG5wKTNe2OoSQSAATQwKfyUTAKaA0AAohpNAhGwbAHAAE0mspHwfAHAAE0mspHwfAHAAE0mspHwfAHAAE0mspHwfAHAAHEMhgc8efhW4Yfv5nlhRk5WEejZBRQHQAE0ACPJP778O3PrZf/f/wG5zgmZmlBFmlBqm9cHwVUK4/uvv7/lfoXi7IoiZJ3BCSRACCABqwsB6ZsYJD9e/sFKQj//X349t/LT8BCncID00YBrWLt609a3BP9/89fRlo6GyCABiKV//n35+n7v0/fg47UwZr6b74ApXU5ISYBrtGENQooBwABRO9UDiy8QbUepImCtyUDREzCPCzKoqON9VFAIQAIIPqlclAhfeslSfUdMEv8evsF2IAZbayPAkoAQADRJZVDmiiYV+QQB4Aagc0bFmBjHZjWR8EoIB0ABBDNU/nfl5/+3H2FtQlOWj65+/rv0w8sauKjjfVRQCoACCAapvL/X37+ufeail1yYJvn96UnwFRO64GnUTDMAEAA0SaVA4tecDODJv3XD99+nXsIOrteWWy0sT4KiAEAAUT9VA5M3KC5TAqbKEQ0hP4CO6ajs0ijgAgAEEDUTOWgicx7r4ENFTq5fXQWaRQQBwACiIVaCQ7YxQSWr/T3wOgs0iggCAACiAqpnD5NFILVyOgs0ijABQACiNJUDixH///8w8TDgaugJTjNSQYApmPsSfnvvz+3Xo6OwIwCNAAQQJSmcvw3mIFGWsidDMIDmMT5WOSFRyNvFBAJAAJodHRiFAx/ABBAo6l8FAwM+PztC93sAgiggd8r9PTNy42Hd8O56nJKzsZWo4lgGIPTNy51LJlREZNhqqFHHxsBAmjgy3JpEXEgOXX94lj3ACDaeGR3cE3WaFIYxgCYuHm5uelpI0AADYoWy41HdzXklHm5eIAo1j0QyAWi0dQwCqgFAAJoUOxu3nv2WHZgLIT96euX0VgZWs3rDYd3f/72FcKVEhF3NrYEllaDypEAATTwqRzYSgPVYprQJhqwxQJkA4v20QQ0JAAwQWvIKye0lU7Krwd2qKatX+JaFL+2ZRqwIQpM/RuO7EJWHGDjFmDrSn9HAgTQwKdyYEEOSuvXLwHR0zcveLm4W1OLR1PPEAI3HoKal2bgciorMAbYxdp39hiw5QlM0AOSpjEBQAANgrL8+iVgGQAMndHkMkTB3nPHgNUvpJVCz/FB4gFAAA1w7xMYKMCOJt1GlEYBjcopMw19CBvYSgEmd/xFODDG+bh4gDUA3bIEQAANcFm+9+xxIOk0OkA+dAtycIMT2NQEtsg/ffvy7M3LBVVd+HufwE4XsBFPT0cCBNAAp/LTNy4ywIbMR8GQLMhvXAKm6dbUksHsSIAAYhrYAJIWkcgOjIWUB6NgqDZXNAd7gxMggAayLAc2x0db5EMaPH3zEtjIjnUPHOTuBAig0dVao4CighzU4BQd7A1OgAAaTeWjgPyCHNjXBDY4n75+OTgHEOEAIIBYRmNrFJAHpEXEh8osB0AAjabyUYAA/3/8xr9FnRb7G4Hg38tP/z5+x9ne4GFnEqZoYQxAAI2m8lGAAIwcrEz8nIh7E+gFcGYt8MUNTPyUHs0AEECjqXwUoBacAlxsZorQo9EG9FwGZnE+al3CAxBAo6l8FGBLFuCDnECnDQ/EGTtUPwoTIIBGU/kowNl6YVGXYBLno+d5aSBLaXCsMUAAjabyUUCoAWMkT4+DpViYaHdEPUAAjabyUUBEE1lakFmcn3aHBNL6uhGAABpN5aOA6LJWXQKY3Kl7Jj19Dv0DCKDRVD4KSGk387Cz6slQ5X4RYFuIbge4AgTQaCofBaQ3MMT5mIV5yL4rClhy0/kwboAAGk3lo4CCzqI4H2n3/g3Q9dwAATSaykcBBQ0YDlZgA4bIO1wH8JIcgAAaTeWjgAo9SDZgAwb3dOmAX3gGEECjqXwUUCklQRowd18Di3bkwn4wXF4JEECM////H42hUUBFAL1e6sdvYPtkkNz3BBBAo6l8FNAGAJsug+buPoAAGk3lo2D4A4AAGt0RNwqGPwAIoNFUPgqGPwAIoNFUPgqGPwAIoNFUPgqGPwAIILqOl1+/du3JkydAEsg+eeIkXPzFu49cvHzfPn+SEOKHC5pbmINJCz4+Pk0trdGoGpzg5IkTnz59Asbp50+fr4FjFgiAIgycvEDGzy+fRAWhcQqOR01InErLgADdHAkQQLQdYwH6FhgKp06cBPofmJTl1TRFpGSAJBcPL4jkxTmYCkzxD29d//blM5B88+wJkARmAC0tLTMLc0i6H5lJClJMuLq5DaAbgA6AxykwKUPiUdPIDCilaWyOR+Ob509fP3sCidOHN689unVdSV4WWJYBizBa+wgggGiSyoEBsXvXrnVr1gJDAehzYBDg9z+xcXz25PVzp4Akw/fPQSHBwKChRXkAqWqAQQ/Jotdh5RNEkIw8Nn/ePKCW4JAQIgsFuI28YF3I1kVHRD598uTAkcNANjCE6Znhga4CRijQUnFlDVCcGpsD0zeFZgLLMkiEApGagiywCKNRnAIEEDVTOTCS1q5ZAwwLLlEpEwdXY3sXPKU1haFz9uCeMwd2f3v9DJjc0ZIChXEJBMgp0tfLG2j40hXLIel18oSJQDZJLSjiUzkEqCgo5hXk5xUUAAOztal507atkIgHlh0ONrabt22F2z5pwoSEpCSaJnSgpevWrNmxc7eEsoYxOE5pZBGwpAdG6OEt64CVNiROqWg4QABRJ5UDwwIY/YeOHnePTLDzCaJR4saa3A9tWbdz+QI7a8vcgnwKiwFgLi0vKZ0+ayayILD4BJKQVA5J9EBb0NRQt8gEWgFPyvAUD2QD3aahpZmYlITfwVRscC+YN//J24/ACKVdgYU1ue9YvuDCoT1hocHUysMAAcRClfR97f5jj8iE/vJ2OrcRgUEPtBeIgEV7Zn6JlqIsJWkdWHC6uBG4Bwct0IGJEliJA/tSwKoWLgUsg4HpTwvcvIG3Q+BNTzRZNHDixAl4bxsYtkBSGuYdaRlp5CQOcQwQAA3HahQl6XvShInsIlK2QXHx1GhqkgREJKVjiqqBCFiuh4RG2IPLLwrTOkAAMVFY8gHTloZLQPWMJbSry4gBQNuBbgC6JD4pDegqUB+fdABp6eJvewCTdUJSIjy9Aks7YEELCQqIIJABTMHACrelqRmSDfy8vIHKsMpigj27dkPcANSYmZYOTNbwuhtSoqMBYOkON5wqdTKw7mrpnhBZ1ZFW36lJ9ySODGx9gpqWbGKTVQemdWDbjBKjAAKIzFQOjG8vT28RbVNg2hrYsEAGQJe0Lt0EdBXQbUAXktpUACZWrPUAsMMHDGVgSb9w3nzIKBhE/Ma16xrgoTFgwgXmEHjSh5SyNXW1kA4rsJUJNwpNFms5Cmlwl4HzQzUOZXAAVAPRQjkAWhoaGuGSkAOMU2CBOkjiFJjWK6YvefLtPzBOyfYpQACRnMqBSQGY3c/efty0eCPQBYNwuA1UBizeePjcVaA7iS/U8agEJmtgOQpMcJDBDWDZDGlLAEWAZS0wfSOHPlAEaC8wxWDtoeKXhWQVSEMc2BMAtxwmUOJykjoDwJTUv+nA4CmzkNulQam5WZ3TgJUMsKwhw78AAURaKgdGAzBLWYXEA5tNdOuOkBcuwAoX6E5KCgCsANhcAYbyOnCRDGlUAEt35HYOMOkD25HAVgQ8MyAD/LKnTpyEN8qBDGDuQp47oxEAVno5BSUx1R3AlMQwiAGwegFWMr8FJIHFBPLwLjEAIICYSAqOjp4JwGJyYJvgJDXWgZVdVV0TMa0XeE+RmIIT0mgBJnFgokfrGAELAmCBDSz1efn4IJmBeNkTSP1IyIQiZAIYv3so6XoC+wnASg+Yeigf/KYP8IhMAGbI1NR0eBORGAAQQEwkBQew1TuYi3CsBQDQzUCXw3uHeICrmxtmwf8JDJAHH4DKID1CoPg1cGseogtSNkP6gsCkbwEr4z9/+gw3DVMWuecHTNbwoXGgg4GFegLqoAomABb/BMeFcGUPYCuFU04dWOkNrTgFZkhgUQsscNdiFBO4AEAAETVeDgzx1z/+AYODYciCWY3lohxMnT3d+JunwFQIV4M59wnJCfAmNbA4WQDqj5oHhYQA24uaWprA9jS83pABDy9ChhohdQUQockiJ3Ggss+w7MQLzgbEzD0BUyqwBU/qQBukc2UXGj84e1bEgG+fP81sLA/zdSdm/ggggAin8mGQxIlP6MDiQUtLa6gsDgPmGSIzwzBL4shx6u1gSTChAwQQgVQ+bJI48QkdWKYCC9rBn9BPIs0fkQSAxf/wSOLQDn20X1ZaEv6EDhBA+FI5sKgAtmiHTRInKfcPVwAstv4LSQ3y4RRSmy6tGTFTJvTgyfAAAcSEp5G6ZMWamKLqYRbNQB9NmzWP1KGo4QGA7bEHrz8MpyTOAB41LuyZnpqajmd8DCCAsJflQA0R4ZHxNR1DZYCJJPDw1vWFLRUrVi4fUevUgR3cpOS0iulLhtaICpHg7ME9V3atx7VwDSCAsJflkydMNPMMHJZJnAE8FAX0HdCPI62tEllYPSyTOAN4buTdz3+4BtEBAogJa1vlxMWrHpEJwzjKgb7bd+T44G+3/Ln5glptFXYRqUE4e09FkF7f2diIff4fIICwpPKWpuZh1nTD1UDHtTBw8ADQefhknRGOBubOnT/8uliYDXSX8PgF2Oa5AQIIPZWDNqv+/j+8Mz0EAP0I9Cl1V7nQJKFTfB0hsCDXsXUZrm0VtCp6y/ZdmMU5QAChp/J1a9aOhIIcAoA+BW1OHfQA2G6hJKEDC3KPiPgREqdW3kGYM/8AAcSE1g0/c+nqSCjI4cU50L+Ur1ylT0In784qYGUloawxEgpyCLDzCVq9Gr3kAggglFQO7KIOmykxIgHQv8Qv+hlY8PvaMzJulwVWVu7DeiABs3UOzNVo4woAAYSy73PPrt2RVR1Ut3jd7MnwfIZrEwoxamgBTBxcl7dVJBJa+jc4yvN/vy49ZtOTJelSh/OXrwaWkzMi/Ob500Nb1sGbdt8+f9qxYiGWVMXDCxmOu372pKiUDK64O7xlHXIBStPoNnZwBebt6jrEVChAAKGU5S/efaRFCls3a5K8miYwpPAYDpQFth2BKl8/e0LPlAN0EtDXQ6akAid04q8gBC3lVSVz0gMYEcDoAEYKpJ929uAeYEKHcIHikCjTNDJ7dOs6JBEDC1E88Wts7wJP2bSObqCrTqAOKgAEEAtyA452LXJgjiemrhmo1jnWbfDAdvDvS08GZ0IHlujEnIF/guI4RY4UyFgkMLlDUi0k6IBFPrAUf/38Kf62LuT8LWBCh49t0C66QSZzoqQ3gABChNS1a9foMNkJOUgJiEAHxH3+BGEPbLIB+vrakFrWAmydE1mi37h2XY5KcQpPxMD4AiYjeFIBis9qLLdDksUVv8AscfbAbqAgfeIUeYwYIIAQqfzZk6f0aRC3ZsQAETcvHzCwrp87NeCJBujrzwMxzLL37LGOpTPITujAzihBZU+ePKF6yQVMtZBTESHgIbjFgpxy8MQvUBm8rU/rOEXeVgsQQChlOR3GECFH7EECiwG8bJIkS4HVJSRYqZ3vaV6fnL5xadr6JcginUtn3Hh0l2wDQZdUEZr/f/+RyrkXckorsMuOnOhFpGSIjF95dS2Sqm6gXZAGEhlx+hQplQME0ACcXw6p3XYsXwBs0uGpPYDeAxYJwG4NkAFUDBFc0tsC1EX9ZhztwdT1i0/duIic6D99+zo5v54SM0Hz/3gTOjMXL3V9AUlzyAn325fPJMUvpno80b1z+QKqNGgBAmgAUrkt+CBFYDZd3Ntih7vLAqwWgT4E9nKACOhzIAIGAU0PpKQd2HB49+evX5+9fomc6CcX1PNy8VBoMrUWuhDfXBGVlMbfsiUyfglGNzCTAA2hyvIbgAAamLsoIJ6HNN1wBui5U/AzzoEVHxB9/fxpKC45+vzty+kbF7MCY56+QaTy7MBYUw09qphP+UIXklK5sYMrWurE7FDiil88DVTM6AYm8cKe6VRxNkAADczdzR6RCcBaCf/YE6jBJykNJIHZGhiyQ3dSdvHODbHugfCGCiRxUyuJQwCw3cLIwsQkzIPZjKZuEn/9/ClawgWmWqAg0CJkcVzxCzQB1wZLmkY3QAAhynI+Pj6qN3nxdIGBAYG/33n2wG6gGmD+BvqcpkOcwDKDdrd/AMvvT9++aMgpAxGIi9RooSJg5GBl4sdyCzjyDTaUhxKwuA1Ky+Pi4UUbAAhKzUXrI2KN3zfgHIIrKqkb3Witf4AAQpTlmlqar589odvsOv62B+h2judPIcEEzNnAgoF2zXFgOSQtQytfL965HkhCRleArfBnb2iQylmYWLWkcE0SoZWylIxE4Up8wNS5bvZkNIsw4xcYiYXd0+gT3cB8GOxkCecCBBByKtfafeYUjQYTge4GlgT417EgV6+gQVmYS948e0LTIU6gw1xNtGlhMrB9wsfFA2yRQ7inblykZOgQVxLHs7LF3MIcGN+UhN6SvlbIYZz4lQEVAKMYzwUNh7esA6qBy9I6uh/evCYdFwrnAgQQSiqfs3Q1LSJ7yenbBNVAwhFSAMDXCUGm0IgJZQpDRBMpRKhbkLemFsO5Zhr6e88eo3IiVxbDs3iLkpILqIuYiEMu0fEPvNAzut+/eIrcCgUIIEQqB4p+fvWMYRAAyOmm8LCm+RjIq2e0aJcDkziwFY48Vvj0zQtgWQ5EkDY6FZK4ugSzOL7WiLmFxaSZ8xiGwmG2VIxuYFZRlpdFFgEIIJTGnK62FnlTTUMXAP1rbWlB/ZwD7HHKK1fEZMBHD4GJO8DWbUFV9+dvX6liBbO0IP4kDhlRYPj+mT5LRwYPANYJaCekAgQQSioPCgkGdnVHVio/sJu8M2PxA2ARbqqhB0TSIuIQEWD5DRGhyhgiMH2zKIsSoxIYp/RZOjJ4wM7lC9AuEAUIICa0Cu7F3RsjJ+sDfXrvwinqXj1FB8AkwAVsqxCpODgkZCdswnyEFOR21pZo50kBBBD6rFBoaPCOFQtHyAZnoE9zC/JxJiYeDlY9mYF1IeYCd2BfEzRuSDQAxjcw1pEHMYZ5nC5fUJSZjCYIEEAsmFnfy9PbIyJ+2O+HBRbkx7auq8nZirtzxwQsNQeVmxk5WIncP4EMgDk5M7+kegSkcmBmZvn5BbNyBgggJsysn5yciHWH3/AryIE+HUpHJeKd/cEDZGRktBRlR8K4wrrZk/OwVc4AAYQlyBKTkq4fof4y7kEFQPPVR/YMjU3NsCRO6r5mZFBdV7tx9qTh3eMCZmNgZsbaywIIIOwFQ01d7azG8mEcIkDfdeE9q3/QJXK8sz/EtM4jw0OW9LUO4/bn8v5WXNejAgQQ9lQOzBD+Xm7Im66HEwBGNtB3Q+VaFQYiZn+IAcCK6+ebZ8O13dJfmlVfX4ur/QkQQDgbeXkFBcA6ffgFyuEt697fv4H1tu/BCYiZ/SESTJ81c+vcycOvLQostiz0tdHGyJEBQADh68osXbF8mAUK0C/7Vy3EdZb7YEziRM/+ENlu6e3tnttUPpwa6JBiC/9V7gABxEQwUCaXZQ2PhA70BdAvQB8NoXEV4md/iATAdlppcUFrRszwSOjAJH5oNeFiCyCAmAgGyuzZM4dBQockcaBfhlBznEYAWLNnpSUNg4QOSeLEXHcKEEBE3Wp7/dq11NT03K5pQ/QOltEkjgnWrlmzZMWaiMLqIRqnxCdxIAAIIKJSOQP4/JrMtPSheE8kvFKj3ba3IQoghVdybceQm/wHdjf/vn3W2UNs4xMggIhN5Qzgi+PKS0p/svHEFA2NS5iANTIwONh/fSE+OEYagBRemjYuQ2XlEjBO+0uzLPS18Xc30QBAAJEwXQxMKMAS0dZIG9ikG/zN9OtnT1ZH+wFdC3TzaBLHBYD1G7DS5//zBRindNvbTjY4e3BPXax/XnoSSUkcCAACiISyHLmmKyspldc3Q97JN6iy+7rZkx9ePNXV0z3aECcSnDxxorGx2cwzcHDeDQjMgYt7W4TYmcirlgECiJxTh4BJZ/O2rcaqssCMdXiQrdAHugfoKqDbgC4cTeLEA3MLixUrlwv9+1Lo5zDgpxBjllnTyrOKMpPJrpYBAoicshy5pb5g3rzlK9cEpeUNeK8UmL7XzZoUGR6SkJQ02kShpKU+ecLEa/cfgw7hH9BeKeT2i2Nb14WFBlM4Vw0QQBSlcni4LJw3/+DR41beQXjOKqBdWBzasg4YFj6ebkEhIaMDKVRM62cugS43pn/5BWyf7Fi+4N6FUx7urlQpswACiAqpHF6ur12zBpjclQzM6HNmJ+jMyAO7gWERn5QYHBIyWn7TIq2vW7Nmx87dEsoa7uCDr2hdYAHjFFhm8bEyBoUEA+OUWiYDBBDVUjly33TdmrVHj4Mu4ANWecDkTsXSHXK/BxC9uHvD2tICGBajjW86gN27du3Ztfv85asyqprAIkzTyIy6cXrmwG5gnH57/QwYoa5ublSvkAECiHAqB2bomIhIIAls+0OWfUGa48CkvGTFcjwOAiZ3YOicPHHyxbuPwGJADnwEGfxcU+Lz98Nb14Ho0a3rwIBQkpd1cXO1sLAYTdwDNRQDTO4nTpz49gd0wTcwNkUkpUltvkPi9Pq5Uw9vXnv/4qmyvKyZhTmRiRvogOiISKBKYGqEpAFgymwF3zSPZ/gFIICIKssnTZgwacLEOw/uI4sA7cCz1hEzxQPBjWsgGnSLLPhyI1wp/s2zJ68hY7ffPwPdbW5hLi0jo6WlNZqyB1uKB8bmsydPgeT7j58gNwIQH6ea4Aglo9gGpnIG8IJZuEhmWnp1XS0eowACiKiTnSHJC5g6IXkFyLh+7TpJ3V5NbGn0JOp1dWgDW6PJaJADYBxhRhOuOAWmHGoVUsDyDvmiQ9Ddhlqa+HMLQAARlcohiRtYDkN8BWyukDr5NJqUR07Sp7UVvHy8yFczA1vOnYQ2NwIEEBPxTodcugUhRwfsRsHAZiRIOly7Zg2ww0pQC0AAETv3CUzWkEu3Jk+YmDCEtr6PgmEHpMElLDA1AlvOp06cJKb2AAggFuKNBrbFgW0gYHd4dGR6FAwggLQjgF1eYGrEczQaMgAIIGLLcmCnGFhH7Nm1m4pj9aNgFJDdaAGW4rx8fES2nAECiNhUDi7LrxHTBhoFo4AOxTkwNRJf4AIEEAntcqChoyPWo2BwNM2lgW0V4lvOAAFE7Az/J/BN9aMt8lEwGACw8UzSKB9AAFF/HcsoGAWDDQAEENNoEIyCYQ8AAmg0lY+C4Q8AAgwA1IcVA4QeQCAAAAAASUVORK5CYII=)\n"
      ],
      "metadata": {
        "id": "HifpRbmCRovx"
      }
    },
    {
      "cell_type": "markdown",
      "source": [
        "####$\\star$Example\n",
        "Find the matrix $A'$ for $T:\\mathbb{R}^2\\to\\mathbb{R}^2$, where $T(⟨x_1,x_2\\rangle)=⟨2x_1-x_2,-x_1+3x_2\\rangle$, relative to the basis $B'=\\{(⟨1,0\\rangle, \\langle1,1\\rangle\\}$.\n",
        "\n",
        "**Solution**\n",
        "\n",
        "The standard matrix for $T$ is $A=\\begin{bmatrix}2&-2\\\\-1&3\\end{bmatrix}$.\n",
        "\n",
        "Furthermore, using the techniques of Section 4.7, the transition matrix from $B'$ to the standard basis $B=\\{(⟨1,0\\rangle, \\langle0,1\\rangle\\}$ is\n",
        "$$P=\\begin{bmatrix}1&1\\\\0&1\\end{bmatrix}.$$\n",
        "\n",
        "The inverse of this matrix is the transition matrix from $B$ to $B'$,\n",
        "$$P^{-1}=\\begin{bmatrix}1&-1\\\\0&1\\end{bmatrix}.$$\n",
        "\n",
        "\n",
        "So, the matrix for $T$ relative to $B'$ is\n",
        "$$A'=P^{-1}AP=\\begin{bmatrix}1&-1\\\\0&1\\end{bmatrix}\\begin{bmatrix}2&-2\\\\-1&3\\end{bmatrix}\\begin{bmatrix}1&1\\\\0&1\\end{bmatrix}=\\begin{bmatrix}3&-2\\\\-1&2\\end{bmatrix}.$$\n"
      ],
      "metadata": {
        "id": "bd52VYEC8_uY"
      }
    },
    {
      "cell_type": "markdown",
      "source": [
        "####$\\star$Example\n",
        "Let $B'=\\{⟨-3,2\\rangle, \\langle4,-2\\rangle\\}$ and\n",
        "$B'=\\{⟨-1,2\\rangle, \\langle2,-2\\rangle\\}$ be bases for $\\mathbb{R}^2$ and let\n",
        " $$A=\\begin{bmatrix}-2&7\\\\-3&7\\end{bmatrix}.$$\n",
        " be the matrix for $T:\\mathbb{R}^2\\to\\mathbb{R}^2$ relative to $B$. Find $A'$, the matrix of $T$ relative to $B'$.\n",
        "\n",
        "**Solution**\n",
        "\n",
        "We first find $P$ and $P'$ below.\n",
        "\n",
        "The matrix for $T$ relative to $B'$ is\n",
        "$$A'=P^{-1}AP=\\begin{bmatrix}-1&2\\\\-2&3\\end{bmatrix}\\begin{bmatrix}-2&7\\\\-3&7\\end{bmatrix}\\begin{bmatrix}3&-2\\\\2&-1\\end{bmatrix}=\\begin{bmatrix}2&1\\\\-1&3\\end{bmatrix}.$$\n"
      ],
      "metadata": {
        "id": "bQVragIMDSct"
      }
    },
    {
      "cell_type": "code",
      "source": [
        "(B <- matrix(c(-3,4,2,-2), 2, 2, byrow = TRUE))\n",
        "(B_ <- matrix(c(-1,2,2,-2), 2, 2, byrow = TRUE))\n",
        "(P_ <- cbind(B_,B))\n",
        "(P <- cbind(B,B_))\n",
        "rref(P_)\n",
        "rref(P)\n",
        "# Check \n",
        "inv(B_)"
      ],
      "metadata": {
        "colab": {
          "base_uri": "https://localhost:8080/",
          "height": 785
        },
        "id": "uHyODU3oOIJg",
        "outputId": "c1257825-5730-4f04-c6fc-786a02dce8bb"
      },
      "execution_count": 6,
      "outputs": [
        {
          "output_type": "display_data",
          "data": {
            "text/html": [
              "<table class=\"dataframe\">\n",
              "<caption>A matrix: 2 × 2 of type dbl</caption>\n",
              "<tbody>\n",
              "\t<tr><td>-3</td><td> 4</td></tr>\n",
              "\t<tr><td> 2</td><td>-2</td></tr>\n",
              "</tbody>\n",
              "</table>\n"
            ],
            "text/markdown": "\nA matrix: 2 × 2 of type dbl\n\n| -3 |  4 |\n|  2 | -2 |\n\n",
            "text/latex": "A matrix: 2 × 2 of type dbl\n\\begin{tabular}{ll}\n\t -3 &  4\\\\\n\t  2 & -2\\\\\n\\end{tabular}\n",
            "text/plain": [
              "     [,1] [,2]\n",
              "[1,] -3    4  \n",
              "[2,]  2   -2  "
            ]
          },
          "metadata": {}
        },
        {
          "output_type": "display_data",
          "data": {
            "text/html": [
              "<table class=\"dataframe\">\n",
              "<caption>A matrix: 2 × 2 of type dbl</caption>\n",
              "<tbody>\n",
              "\t<tr><td>-1</td><td> 2</td></tr>\n",
              "\t<tr><td> 2</td><td>-2</td></tr>\n",
              "</tbody>\n",
              "</table>\n"
            ],
            "text/markdown": "\nA matrix: 2 × 2 of type dbl\n\n| -1 |  2 |\n|  2 | -2 |\n\n",
            "text/latex": "A matrix: 2 × 2 of type dbl\n\\begin{tabular}{ll}\n\t -1 &  2\\\\\n\t  2 & -2\\\\\n\\end{tabular}\n",
            "text/plain": [
              "     [,1] [,2]\n",
              "[1,] -1    2  \n",
              "[2,]  2   -2  "
            ]
          },
          "metadata": {}
        },
        {
          "output_type": "display_data",
          "data": {
            "text/html": [
              "<table class=\"dataframe\">\n",
              "<caption>A matrix: 2 × 4 of type dbl</caption>\n",
              "<tbody>\n",
              "\t<tr><td>-1</td><td> 2</td><td>-3</td><td> 4</td></tr>\n",
              "\t<tr><td> 2</td><td>-2</td><td> 2</td><td>-2</td></tr>\n",
              "</tbody>\n",
              "</table>\n"
            ],
            "text/markdown": "\nA matrix: 2 × 4 of type dbl\n\n| -1 |  2 | -3 |  4 |\n|  2 | -2 |  2 | -2 |\n\n",
            "text/latex": "A matrix: 2 × 4 of type dbl\n\\begin{tabular}{llll}\n\t -1 &  2 & -3 &  4\\\\\n\t  2 & -2 &  2 & -2\\\\\n\\end{tabular}\n",
            "text/plain": [
              "     [,1] [,2] [,3] [,4]\n",
              "[1,] -1    2   -3    4  \n",
              "[2,]  2   -2    2   -2  "
            ]
          },
          "metadata": {}
        },
        {
          "output_type": "display_data",
          "data": {
            "text/html": [
              "<table class=\"dataframe\">\n",
              "<caption>A matrix: 2 × 4 of type dbl</caption>\n",
              "<tbody>\n",
              "\t<tr><td>-3</td><td> 4</td><td>-1</td><td> 2</td></tr>\n",
              "\t<tr><td> 2</td><td>-2</td><td> 2</td><td>-2</td></tr>\n",
              "</tbody>\n",
              "</table>\n"
            ],
            "text/markdown": "\nA matrix: 2 × 4 of type dbl\n\n| -3 |  4 | -1 |  2 |\n|  2 | -2 |  2 | -2 |\n\n",
            "text/latex": "A matrix: 2 × 4 of type dbl\n\\begin{tabular}{llll}\n\t -3 &  4 & -1 &  2\\\\\n\t  2 & -2 &  2 & -2\\\\\n\\end{tabular}\n",
            "text/plain": [
              "     [,1] [,2] [,3] [,4]\n",
              "[1,] -3    4   -1    2  \n",
              "[2,]  2   -2    2   -2  "
            ]
          },
          "metadata": {}
        },
        {
          "output_type": "display_data",
          "data": {
            "text/html": [
              "<table class=\"dataframe\">\n",
              "<caption>A matrix: 2 × 4 of type dbl</caption>\n",
              "<tbody>\n",
              "\t<tr><td>1</td><td>0</td><td>-1</td><td>2</td></tr>\n",
              "\t<tr><td>0</td><td>1</td><td>-2</td><td>3</td></tr>\n",
              "</tbody>\n",
              "</table>\n"
            ],
            "text/markdown": "\nA matrix: 2 × 4 of type dbl\n\n| 1 | 0 | -1 | 2 |\n| 0 | 1 | -2 | 3 |\n\n",
            "text/latex": "A matrix: 2 × 4 of type dbl\n\\begin{tabular}{llll}\n\t 1 & 0 & -1 & 2\\\\\n\t 0 & 1 & -2 & 3\\\\\n\\end{tabular}\n",
            "text/plain": [
              "     [,1] [,2] [,3] [,4]\n",
              "[1,] 1    0    -1   2   \n",
              "[2,] 0    1    -2   3   "
            ]
          },
          "metadata": {}
        },
        {
          "output_type": "display_data",
          "data": {
            "text/html": [
              "<table class=\"dataframe\">\n",
              "<caption>A matrix: 2 × 4 of type dbl</caption>\n",
              "<tbody>\n",
              "\t<tr><td>1</td><td>0</td><td>3</td><td>-2</td></tr>\n",
              "\t<tr><td>0</td><td>1</td><td>2</td><td>-1</td></tr>\n",
              "</tbody>\n",
              "</table>\n"
            ],
            "text/markdown": "\nA matrix: 2 × 4 of type dbl\n\n| 1 | 0 | 3 | -2 |\n| 0 | 1 | 2 | -1 |\n\n",
            "text/latex": "A matrix: 2 × 4 of type dbl\n\\begin{tabular}{llll}\n\t 1 & 0 & 3 & -2\\\\\n\t 0 & 1 & 2 & -1\\\\\n\\end{tabular}\n",
            "text/plain": [
              "     [,1] [,2] [,3] [,4]\n",
              "[1,] 1    0    3    -2  \n",
              "[2,] 0    1    2    -1  "
            ]
          },
          "metadata": {}
        },
        {
          "output_type": "display_data",
          "data": {
            "text/html": [
              "<table class=\"dataframe\">\n",
              "<caption>A matrix: 2 × 2 of type dbl</caption>\n",
              "<tbody>\n",
              "\t<tr><td>1</td><td>1.0</td></tr>\n",
              "\t<tr><td>1</td><td>0.5</td></tr>\n",
              "</tbody>\n",
              "</table>\n"
            ],
            "text/markdown": "\nA matrix: 2 × 2 of type dbl\n\n| 1 | 1.0 |\n| 1 | 0.5 |\n\n",
            "text/latex": "A matrix: 2 × 2 of type dbl\n\\begin{tabular}{ll}\n\t 1 & 1.0\\\\\n\t 1 & 0.5\\\\\n\\end{tabular}\n",
            "text/plain": [
              "     [,1] [,2]\n",
              "[1,] 1    1.0 \n",
              "[2,] 1    0.5 "
            ]
          },
          "metadata": {}
        }
      ]
    },
    {
      "cell_type": "markdown",
      "source": [
        "####$\\star$Example\n",
        "For the linear transformation $T:\\mathbb{R}^2\\to\\mathbb{R}^2$ from the previous example, find $[\\textbf{v}]_B,[T(\\textbf{v})]_B,[T(\\textbf{v})]_{B'}$ for the vector $\\textbf{v}$ whose coordinate matrix is $[\\textbf{v}]_{B'}=[-3\\:\\:\\:-1]^T$.\n",
        "\n",
        "**Solution**\n",
        "\n",
        "To find  $[\\textbf{v}]_B$, use the transition matrix $P$ from $B'$ to $B$.\n",
        "\n",
        "$$[\\textbf{v}]_B=P[\\textbf{v}]_{B'}=\\begin{bmatrix}3&-2\\\\2&-1\\end{bmatrix}\\begin{bmatrix}-3\\\\-1\\end{bmatrix}=\\begin{bmatrix}-7\\\\-5\\end{bmatrix}$$\n",
        "\n",
        "To find $[T(\\textbf{v})]_{B}$, multiply $[\\textbf{v}]_{B}$ on the left by the matrix $A$ to obtain \n",
        "$$[T(\\textbf{v})]_B=A[\\textbf{v}]_{B}=\\begin{bmatrix}-2&7\\\\-3&7\\end{bmatrix}\\begin{bmatrix}-7\\\\-5\\end{bmatrix}=\\begin{bmatrix}-21\\\\-14\\end{bmatrix}$$\n",
        "\n",
        "To find $[T(\\textbf{v})]_{B'}$, multiply $[T(\\textbf{v})]_{B}$ on the left by the matrix $P^{-1}$ to obtain \n",
        "$$[T(\\textbf{v})]_{B'}=P^{-1}[T(\\textbf{v})]_{B}=\\begin{bmatrix}-1&2\\\\-2&3\\end{bmatrix}\\begin{bmatrix}-21\\\\-14\\end{bmatrix}=\\begin{bmatrix}-7\\\\0\\end{bmatrix}$$\n",
        "\n",
        "or multiply $[\\textbf{v}]_{B'}$ on the left by $A'$ to obtain\n",
        "$$[T(\\textbf{v})]_{B'}=A'[\\textbf{v}]_{B'}=\\begin{bmatrix}2&1\\\\-1&3\\end{bmatrix}\\begin{bmatrix}-3\\\\-1\\end{bmatrix}=\\begin{bmatrix}-7\\\\0\\end{bmatrix}.$$"
      ],
      "metadata": {
        "id": "Gt8xg0_sR97z"
      }
    },
    {
      "cell_type": "markdown",
      "source": [
        "##Definition: Similar Matrices\n",
        "For square matrices $A$ and $A'$ of order $n$, $A'$ is **similar** to $A$ when there exists an invertible matrix $P$ such that $A'=P^{-1}AP$.\n"
      ],
      "metadata": {
        "id": "jewn5v5rxlrJ"
      }
    },
    {
      "cell_type": "markdown",
      "source": [
        "###Theorem 6.13: Properties of Similar Matrices\n",
        "Let $A$, $B$, and $C$ be square matrices of order $n$. Then the properties below are true.\n",
        "1. $A$ is similar to $A$.\n",
        "2. If $A$ is similar to $B$, then $B$ is similar to $A$.\n",
        "3. If $A$ is similar to $B$ and $B$ is similar to $C$, then $A$ is similar to $C$.\n",
        "\n"
      ],
      "metadata": {
        "id": "A0YZcE4UQ4A_"
      }
    },
    {
      "cell_type": "markdown",
      "source": [
        "####$\\star$Example: Similar matrices.\n",
        "1. \n",
        "$$A=\\begin{bmatrix}2&-2\\\\-1&3\\end{bmatrix}$$\n",
        "and\n",
        "$$A'=\\begin{bmatrix}3&-2\\\\-1&2\\end{bmatrix}$$\n",
        "are similar because  $A'=P^{-1}AP$, where $P=\\begin{bmatrix}1&1\\\\0&1\\end{bmatrix}$\n",
        "\n",
        "2. \n",
        "$$A=\\begin{bmatrix}-2&7\\\\-3&7\\end{bmatrix}$$\n",
        "and\n",
        "$$A'=\\begin{bmatrix}2&1\\\\-1&3\\end{bmatrix}$$\n",
        "are similar because  $A'=P^{-1}AP$, where $P=\\begin{bmatrix}3&-2\\\\2&-1\\end{bmatrix}$"
      ],
      "metadata": {
        "id": "7X4tklOiUqF8"
      }
    },
    {
      "cell_type": "code",
      "source": [
        ""
      ],
      "metadata": {
        "id": "CEAOpS8AGKMl"
      },
      "execution_count": null,
      "outputs": []
    }
  ],
  "metadata": {
    "kernelspec": {
      "display_name": "R",
      "language": "R",
      "name": "ir"
    },
    "language_info": {
      "codemirror_mode": "r",
      "file_extension": ".r",
      "mimetype": "text/x-r-source",
      "name": "R",
      "pygments_lexer": "r",
      "version": "3.6.1"
    },
    "colab": {
      "name": "6-4_Similarity.ipynb",
      "provenance": [],
      "collapsed_sections": [],
      "include_colab_link": true
    }
  },
  "nbformat": 4,
  "nbformat_minor": 0
}