{
  "nbformat": 4,
  "nbformat_minor": 0,
  "metadata": {
    "colab": {
      "name": "6.1_Intro_to_Linear_Transformation.ipynb",
      "provenance": [],
      "authorship_tag": "ABX9TyPD7hSo27SpMilDemAYSw/1",
      "include_colab_link": true
    },
    "kernelspec": {
      "name": "python3",
      "display_name": "Python 3"
    },
    "language_info": {
      "name": "python"
    }
  },
  "cells": [
    {
      "cell_type": "markdown",
      "metadata": {
        "id": "view-in-github",
        "colab_type": "text"
      },
      "source": [
        "<a href=\"https://colab.research.google.com/github/madonnaojorin/MAT343_Linear_Algebra/blob/main/6-1_Intro_to_Linear_Transformation.ipynb\" target=\"_parent\"><img src=\"https://colab.research.google.com/assets/colab-badge.svg\" alt=\"Open In Colab\"/></a>"
      ]
    },
    {
      "cell_type": "markdown",
      "source": [
        "#6.1. Introduction to Linear Transformations"
      ],
      "metadata": {
        "id": "V_qpgHYD78KV"
      }
    },
    {
      "cell_type": "markdown",
      "source": [
        "##Definition of a Linear Transformation\n",
        "Let $V$ and $W$ be vector spaces. The function\n",
        "$$T:V\\to W$$ is a linear transformation of $V$ into $W$ when the two properties below are true for all $u$ and $v$ in $V$ and for any scalar $c$.\n",
        "1. $T(\\textbf{u}+\\textbf{v})=T(\\textbf{u})+T(\\textbf{v})$\n",
        "2. $T(c\\textbf{u})=cT(\\textbf{u})$"
      ],
      "metadata": {
        "id": "I-kd4L197_r3"
      }
    },
    {
      "cell_type": "markdown",
      "source": [
        "###Theorem 6.1: Properties of Linear Transformations\n",
        "Let $T$ be a linear transformation from $V$ into $W$, where $\\textbf{u}$ and $\\textbf{v}$ are in $V$. Then the properties listed below are true.\n",
        "1. $T(\\textbf{0})=\\textbf{0}$\n",
        "2. $T(-\\textbf{v})=-T(\\textbf{v})$\n",
        "3. $T(\\textbf{u}-\\textbf{v})=T(\\textbf{u})-T(\\textbf{v})$\n",
        "4. If $\\textbf{v}=c_1\\textbf{v}_1+c_2\\textbf{v}_2+\\cdots+c_n\\textbf{v}_n$$,\n",
        "\n",
        " then $T(\\textbf{v})=T(c_1\\textbf{v}_1+c_2\\textbf{v}_2+\\cdots c_n\\textbf{v}_n)=c_1T(\\textbf{v}_1)+c_2T(\\textbf{v}_2)+\\cdots + c_nT(\\textbf{v}_n)$."
      ],
      "metadata": {
        "id": "I7ssAFIn8F15"
      }
    },
    {
      "cell_type": "markdown",
      "source": [
        "###Theorem 6.2: Linear Transformation Given by a Matrix\n",
        "Let $A$ be an $m\\times n$ matrix. The function $T$ defined by\n",
        "$$T(\\textbf{v})=A\\textbf{v}$$\n",
        "is a linear transformation from $\\mathbb{R}^n$ into \n",
        "$\\mathbb{R}^m$. In order to conform to matrix multiplication with an $m\\times n$ matrix, $n\\times 1$ matrices represent the vectors in \n",
        "$\\mathbb{R}^n$ and $m\\times 1$ matrices represent the vectors in $\\mathbb{R}^m$.\n"
      ],
      "metadata": {
        "id": "fzf2tAXp9pbn"
      }
    }
  ]
}
