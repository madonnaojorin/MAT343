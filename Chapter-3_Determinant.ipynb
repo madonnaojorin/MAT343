{
  "cells": [
    {
      "cell_type": "markdown",
      "metadata": {
        "id": "view-in-github",
        "colab_type": "text"
      },
      "source": [
        "<a href=\"https://colab.research.google.com/github/madonnaojorin/MAT343_Linear_Algebra/blob/main/Chapter-3_Determinant.ipynb\" target=\"_parent\"><img src=\"https://colab.research.google.com/assets/colab-badge.svg\" alt=\"Open In Colab\"/></a>"
      ]
    },
    {
      "cell_type": "markdown",
      "source": [
        "#3.1. The Determinant of a Matrix"
      ],
      "metadata": {
        "id": "SwhzKeSZw4xM"
      }
    },
    {
      "cell_type": "markdown",
      "source": [
        "##Definition of the Determinant of a $2\\times 2$ Matrix\n",
        "The **determinant** of the matrix\n",
        "$$A=\\begin{bmatrix}\n",
        "a_{11}&a_{12}\\\\\n",
        "a_{21}&a_{22}\n",
        "\\end{bmatrix}$$\n",
        "is $\\det(A)=|A|=a_{11}a_{22}-a_{21}a_{12}$.\n"
      ],
      "metadata": {
        "id": "LjmVuFl3w9_q"
      }
    },
    {
      "cell_type": "markdown",
      "source": [
        "##Minors and Cofactors of a Square Matrix\n",
        "If $A$ is a square matrix, then the **minor** $M_{ij}$ of the entry $a_{ij}$ is the determinant of the matrix obtained by deleting the $i$th row and $j$th column of $A$. The **cofactor** $C_{ij}$ of the entry $a_{ij}$ is $C_{ij}=(-1)^{i+j}M_{ij}$."
      ],
      "metadata": {
        "id": "nfRBrjNbCwcR"
      }
    },
    {
      "cell_type": "markdown",
      "source": [
        "##Definition of the Determinant of a Square Matrix\n",
        "If $A$ is a square matrix of order $n\\leq 2$, then the determinant of $A$ is the sum of the entries in the first row of $A$ multiplied by their respective cofactors. That is,\n",
        "$$\\det(A)=|A|=\\sum_{j=1}^na_{1j}C_{1j}=a_{11}C_{11}+a_{12}C_{12}+\\cdots+a_{1n}C_{1n}.$$\n"
      ],
      "metadata": {
        "id": "DZOENu2_xJwO"
      }
    },
    {
      "cell_type": "markdown",
      "source": [
        "###Theorem 3.1: Expansion by Cofactors\n",
        "Let $A$ be a square matrix of order $n$. Then the determinant of $A$ is\n",
        "$$\\det(A)=|A|=\\sum_{j=1}^na_{ij}C_{ij}=a_{i1}C_{i1}+a_{i2}C_{i2}+\\cdots+a_{in}C_{in}$$\n",
        "or\n",
        "$$\\det(A)=|A|=\\sum_{i=1}^na_{ij}C_{ij}=a_{1j}C_{1j}+a_{2j}C_{2j}+\\cdots+a_{nj}C_{nj}$$"
      ],
      "metadata": {
        "id": "_pbojlBKxQrH"
      }
    },
    {
      "cell_type": "markdown",
      "source": [
        "####$\\star$Example\n",
        "Find all the minors and cofactors and then the determinant of \n",
        "$$A=\\begin{bmatrix}0&2&1\\\\3&-1&2\\\\4&0&1\\end{bmatrix}$$\n",
        "\n",
        "**Solution**\n",
        "To find the minor $M_{11}$, delete the first row and first column of $A$ and evaluate the determinant of the resulting matrix.\n",
        "$$M_{11}=\\begin{vmatrix}-1&2\\\\0&1\\end{vmatrix}=-1$$\n",
        "\n",
        "Verify that the minors are\n",
        "$$M_{11}=-1,M_{12}=-5,M_{13}=4$$\n",
        "$$M_{21}=2,M_{22}=-4,M_{23}=-8$$\n",
        "$$M_{31}=5,M_{32}=-3,M_{33}=-6$$\n",
        "\n",
        "Now, to find the cofactors, combine these minors with the checkerboard pattern of signs for a $3\\times3$ matrix shown above.\n",
        "$$C_{11}=-1,C_{12}=5,C_{13}=4$$\n",
        "$$C_{21}=-2,C_{22}=-4,C_{23}=8$$\n",
        "$$C_{31}=5,C_{32}=3,C_{33}=-6$$\n",
        "\n",
        "So, by the definition of a determinant,\n",
        "$$|A|=a_{11}C_{11}+a_{12}C_{12}+a_{13}C_{13}=0(-1)+2(5)+1(4)=14$$"
      ],
      "metadata": {
        "id": "BUwRheb5B7D-"
      }
    },
    {
      "cell_type": "code",
      "source": [
        "# determinant \n",
        "A = matrix(c(0,2,1,3,-1,2,4,0,1),3,3,byrow=T)\n",
        "det(A)"
      ],
      "metadata": {
        "colab": {
          "base_uri": "https://localhost:8080/",
          "height": 34
        },
        "id": "7imgE1oKFEGr",
        "outputId": "a3f47773-c0cc-4258-8389-50db01686ddc"
      },
      "execution_count": 4,
      "outputs": [
        {
          "output_type": "display_data",
          "data": {
            "text/html": [
              "14"
            ],
            "text/markdown": "14",
            "text/latex": "14",
            "text/plain": [
              "[1] 14"
            ]
          },
          "metadata": {}
        }
      ]
    },
    {
      "cell_type": "markdown",
      "source": [
        "##Definition of Triangular Matrices\n",
        "**Upper Triangular Matrix:**\n",
        "A triangular matrix is said to be an upper triangular matrix if all the elements below the main diagonal are zero.\n",
        "\n",
        "**Lower Triangular Matrix:**\n",
        "A triangular matrix is said to be a lower triangular matrix if all the elements above the main diagonal are zero.\n",
        "\n",
        "**Diagonal Matrix:**\n",
        "One in which all entries above and below the main diagonal are zero."
      ],
      "metadata": {
        "id": "J8Sykn7YxWVg"
      }
    },
    {
      "cell_type": "markdown",
      "source": [
        "###Theorem 3.2: Determinant of a Triangular Matrix\n",
        "If $A$ is a triangular matrix of order $n$, then its determinant is the product of the entries on the main diagonal. That is,\n",
        "$$\\det(A)=|A|=a_{11}a_{22}a_{33}\\cdots a_{nn}.$$\n"
      ],
      "metadata": {
        "id": "XomhTjbixziJ"
      }
    },
    {
      "cell_type": "markdown",
      "source": [
        "#3.2. Determinants and Elementary Operations\n"
      ],
      "metadata": {
        "id": "nlPuH3Zpx3rm"
      }
    },
    {
      "cell_type": "markdown",
      "source": [
        "###Theorem 3.3: Elementary Row Operations and Determinants\n",
        "Let $A$ and $B$ be square matrices.\n",
        "* When $B$ is obtained from $A$ by interchanging two rows of $A$, $\\det(B)=-\\det(A)$.\n",
        "* When $B$ is obtained from $A$ by adding a multiple of a row of $A$ to another row of $A$, $\\det(B)=\\det(A)$.\n",
        "* When $B$ is obtained from $A$ by multiplying a row of $A$ by a nonzero constant $c$, $\\det(B)=c\\det(A)$.\n"
      ],
      "metadata": {
        "id": "n1rdo1r9x6p0"
      }
    },
    {
      "cell_type": "markdown",
      "source": [
        "###Elementary Column Operations\n",
        "Operations performed on the columns (rather than on the rows) of a matrix are **elementary column operations**, and two matrices are **column-equivalent** when one can be obtained from the other by elementary column operations."
      ],
      "metadata": {
        "id": "f7DFaK6oyMH9"
      }
    },
    {
      "cell_type": "markdown",
      "source": [
        "###Theorem 3.4: Conditions that Yield a Zero Determinant\n",
        "If $A$ is a square matrix and any one of the conditions below is true, then $\\det (A)=0$.\n",
        "* An entire row (or an entire column) consists of zeros.\n",
        "* Two rows (or columns) are equal.\n",
        "* One row (or column) is a multiple of another row (or column).\n"
      ],
      "metadata": {
        "id": "BwR__MPMyWzY"
      }
    },
    {
      "cell_type": "markdown",
      "source": [
        "#3.3. Properties of Determinants"
      ],
      "metadata": {
        "id": "lAlYYynPyfId"
      }
    },
    {
      "cell_type": "markdown",
      "source": [
        "###Theorem 3.5: Determinant of a Matrix Product\n",
        "If $A$ and $B$ are square matrices of order $n$, then $$\\det(AB)=\\det(A)\\det(B).$$"
      ],
      "metadata": {
        "id": "KLUdcomCyjqD"
      }
    },
    {
      "cell_type": "markdown",
      "source": [
        "###Theorem 3.6: Determinant of a Scalar Multiple of a Matrix\n",
        "If $A$ is a square matrix of order $n$ and $c$ is a scalar, then the determinant of $cA$ is \n",
        "$$\\det(cA)=c^n\\det(A).$$"
      ],
      "metadata": {
        "id": "yo6k6cxdymvh"
      }
    },
    {
      "cell_type": "markdown",
      "source": [
        "###Theorem 3.7: Determinant of an Invertible Matrix\n",
        "A square matrix $A$ is invertible (nonsingular) if and only if $\\det(A)\\neq 0$.\n"
      ],
      "metadata": {
        "id": "wrM6PKN4yqWF"
      }
    },
    {
      "cell_type": "markdown",
      "source": [
        "###Theorem 3.8: Determinant of an Inverse Matrix\n",
        "If $A$ is an $n\\times n$ invertible matrix, then $$\\det(A^{-1})=\\frac{1}{\\det(A)}.$$"
      ],
      "metadata": {
        "id": "ucN5uH2uytXo"
      }
    },
    {
      "cell_type": "markdown",
      "source": [
        "###Equivalent Conditions for a Nonsingular Matrix\n",
        "If $A$ is an $n\\times n$ matrix, then the statements below are equivalent.\n",
        "* $A$ is invertible.\n",
        "* $A\\textbf{x}=\\textbf{b}$ has a unique solution for every $n\\times 1$ column matrix \\textbf{b}.\n",
        "*  $A\\textbf{x}=\\textbf{0}$ has only the trivial solution.\n",
        "* $A$ is row-equivalent to $I_n$.\n",
        "* $A$ can be written as the product of elementary matrices.\n",
        "* $\\det(A)\\neq 0$"
      ],
      "metadata": {
        "id": "vil8y5FeyxJn"
      }
    },
    {
      "cell_type": "markdown",
      "source": [
        "###Theorem 3.9: Determinant of a Transpose\n",
        "If $A$ is a square matrix, then\n",
        "$$\\det(A)=\\det(A^T).$$\n"
      ],
      "metadata": {
        "id": "cyun6gQHwNFA"
      }
    },
    {
      "cell_type": "code",
      "source": [
        ""
      ],
      "metadata": {
        "id": "kQDgfEDOy7yh"
      },
      "execution_count": null,
      "outputs": []
    }
  ],
  "metadata": {
    "kernelspec": {
      "display_name": "R",
      "language": "R",
      "name": "ir"
    },
    "language_info": {
      "codemirror_mode": "r",
      "file_extension": ".r",
      "mimetype": "text/x-r-source",
      "name": "R",
      "pygments_lexer": "r",
      "version": "3.6.1"
    },
    "colab": {
      "name": "Chapter-3_Determinant.ipynb",
      "provenance": [],
      "collapsed_sections": [],
      "include_colab_link": true
    }
  },
  "nbformat": 4,
  "nbformat_minor": 0
}