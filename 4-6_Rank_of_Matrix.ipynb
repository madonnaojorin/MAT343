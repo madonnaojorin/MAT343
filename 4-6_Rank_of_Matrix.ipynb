{
  "cells": [
    {
      "cell_type": "markdown",
      "metadata": {
        "id": "view-in-github",
        "colab_type": "text"
      },
      "source": [
        "<a href=\"https://colab.research.google.com/github/madonnaojorin/MAT343_Linear_Algebra/blob/main/4-6_Rank_of_Matrix.ipynb\" target=\"_parent\"><img src=\"https://colab.research.google.com/assets/colab-badge.svg\" alt=\"Open In Colab\"/></a>"
      ]
    },
    {
      "cell_type": "markdown",
      "source": [
        "#4.6. Rank of a Matrix and Systems of Linear Equations"
      ],
      "metadata": {
        "id": "iZJlAlKdSL9Y"
      }
    },
    {
      "cell_type": "code",
      "source": [
        "install.packages(\"pracma\")\n",
        "library(pracma)"
      ],
      "metadata": {
        "id": "ZmZNE7bQbG20"
      },
      "execution_count": null,
      "outputs": []
    },
    {
      "cell_type": "markdown",
      "source": [
        "##Definitions of Row Space and Column Space of a Matrix\n",
        "Let $A$ be an $m\\times n$ matrix.\n",
        "1. The **row space** of $A$ is the subspace of $\\mathbb{R}^n$ spanned by the row vectors of $A$.\n",
        "2. The **column space** of $A$ is the subspace of $\\mathbb{R}^m$ spanned by the column vectors of $A$."
      ],
      "metadata": {
        "id": "JZZFFBlgSO62"
      }
    },
    {
      "cell_type": "markdown",
      "source": [
        "###Theorem 4.13: Row-Equivalent Matrices Have the Same Row Space\n",
        "If an $m\\times n$ matrix $A$ is row-equivalent to an $m\\times n$ matrix $B$, then the row space of $A$ is equal to the row space of $B$."
      ],
      "metadata": {
        "id": "bG5Wr903SZpp"
      }
    },
    {
      "cell_type": "markdown",
      "source": [
        "###Theorem 4.14: Basis for the Row Space of a Matrix\n",
        "If a matrix $A$ is row-equivalent to a matrix $B$ in row-echelon form, then the nonzero row vectors of $B$ form a basis for the row space of $A$."
      ],
      "metadata": {
        "id": "oHpdXdurSdID"
      }
    },
    {
      "cell_type": "code",
      "source": [
        "# Find a basis for the row space of a matrix A\n",
        "\n",
        "A <- matrix(c(1,3,1,3,0,1,1,0,-3,0,6,-1,3,4,-2,1,2,0,-4,-2), 5, 4, byrow = TRUE)\n",
        "A\n",
        "B <- rref(A)\n",
        "B"
      ],
      "metadata": {
        "colab": {
          "base_uri": "https://localhost:8080/",
          "height": 395
        },
        "id": "Ec_sTU4WnnVn",
        "outputId": "34fa9d55-0a10-43c1-e78a-0604ae87a316"
      },
      "execution_count": null,
      "outputs": [
        {
          "output_type": "display_data",
          "data": {
            "text/html": [
              "<table class=\"dataframe\">\n",
              "<caption>A matrix: 5 × 4 of type dbl</caption>\n",
              "<tbody>\n",
              "\t<tr><td> 1</td><td>3</td><td> 1</td><td> 3</td></tr>\n",
              "\t<tr><td> 0</td><td>1</td><td> 1</td><td> 0</td></tr>\n",
              "\t<tr><td>-3</td><td>0</td><td> 6</td><td>-1</td></tr>\n",
              "\t<tr><td> 3</td><td>4</td><td>-2</td><td> 1</td></tr>\n",
              "\t<tr><td> 2</td><td>0</td><td>-4</td><td>-2</td></tr>\n",
              "</tbody>\n",
              "</table>\n"
            ],
            "text/markdown": "\nA matrix: 5 × 4 of type dbl\n\n|  1 | 3 |  1 |  3 |\n|  0 | 1 |  1 |  0 |\n| -3 | 0 |  6 | -1 |\n|  3 | 4 | -2 |  1 |\n|  2 | 0 | -4 | -2 |\n\n",
            "text/latex": "A matrix: 5 × 4 of type dbl\n\\begin{tabular}{llll}\n\t  1 & 3 &  1 &  3\\\\\n\t  0 & 1 &  1 &  0\\\\\n\t -3 & 0 &  6 & -1\\\\\n\t  3 & 4 & -2 &  1\\\\\n\t  2 & 0 & -4 & -2\\\\\n\\end{tabular}\n",
            "text/plain": [
              "     [,1] [,2] [,3] [,4]\n",
              "[1,]  1   3     1    3  \n",
              "[2,]  0   1     1    0  \n",
              "[3,] -3   0     6   -1  \n",
              "[4,]  3   4    -2    1  \n",
              "[5,]  2   0    -4   -2  "
            ]
          },
          "metadata": {}
        },
        {
          "output_type": "display_data",
          "data": {
            "text/html": [
              "<table class=\"dataframe\">\n",
              "<caption>A matrix: 5 × 4 of type dbl</caption>\n",
              "<tbody>\n",
              "\t<tr><td>1</td><td>0</td><td>-2</td><td>0</td></tr>\n",
              "\t<tr><td>0</td><td>1</td><td> 1</td><td>0</td></tr>\n",
              "\t<tr><td>0</td><td>0</td><td> 0</td><td>1</td></tr>\n",
              "\t<tr><td>0</td><td>0</td><td> 0</td><td>0</td></tr>\n",
              "\t<tr><td>0</td><td>0</td><td> 0</td><td>0</td></tr>\n",
              "</tbody>\n",
              "</table>\n"
            ],
            "text/markdown": "\nA matrix: 5 × 4 of type dbl\n\n| 1 | 0 | -2 | 0 |\n| 0 | 1 |  1 | 0 |\n| 0 | 0 |  0 | 1 |\n| 0 | 0 |  0 | 0 |\n| 0 | 0 |  0 | 0 |\n\n",
            "text/latex": "A matrix: 5 × 4 of type dbl\n\\begin{tabular}{llll}\n\t 1 & 0 & -2 & 0\\\\\n\t 0 & 1 &  1 & 0\\\\\n\t 0 & 0 &  0 & 1\\\\\n\t 0 & 0 &  0 & 0\\\\\n\t 0 & 0 &  0 & 0\\\\\n\\end{tabular}\n",
            "text/plain": [
              "     [,1] [,2] [,3] [,4]\n",
              "[1,] 1    0    -2   0   \n",
              "[2,] 0    1     1   0   \n",
              "[3,] 0    0     0   1   \n",
              "[4,] 0    0     0   0   \n",
              "[5,] 0    0     0   0   "
            ]
          },
          "metadata": {}
        }
      ]
    },
    {
      "cell_type": "markdown",
      "source": [
        "By Theorem 4.14, the nonzero row vectors of $B$, $\\textbf{w}_1=\\langle1,0,-2,0\\rangle$, $\\textbf{w}_2=\\langle0,1,1,0\\rangle$, and $\\textbf{w}_3=\\langle0,0,0,1\\rangle$, form a basis for the row space of $A$.\n",
        "\n"
      ],
      "metadata": {
        "id": "_qkJU8c-pBYV"
      }
    },
    {
      "cell_type": "code",
      "source": [
        "# Find a basis for the column space of a matrix A using Method 1\n",
        "\n",
        "A <- matrix(c(1,3,1,3,0,1,1,0,-3,0,6,-1,3,4,-2,1,2,0,-4,-2), 5, 4, byrow = TRUE)\n",
        "A_T <- t(A)\n",
        "A_T\n",
        "B <- rref(A_T)\n",
        "B"
      ],
      "metadata": {
        "colab": {
          "base_uri": "https://localhost:8080/",
          "height": 333
        },
        "id": "IJzRkIj8RqaQ",
        "outputId": "e718a2a6-aadd-48da-8543-7cefe24541cd"
      },
      "execution_count": null,
      "outputs": [
        {
          "output_type": "display_data",
          "data": {
            "text/html": [
              "<table class=\"dataframe\">\n",
              "<caption>A matrix: 4 × 5 of type dbl</caption>\n",
              "<tbody>\n",
              "\t<tr><td>1</td><td>0</td><td>-3</td><td> 3</td><td> 2</td></tr>\n",
              "\t<tr><td>3</td><td>1</td><td> 0</td><td> 4</td><td> 0</td></tr>\n",
              "\t<tr><td>1</td><td>1</td><td> 6</td><td>-2</td><td>-4</td></tr>\n",
              "\t<tr><td>3</td><td>0</td><td>-1</td><td> 1</td><td>-2</td></tr>\n",
              "</tbody>\n",
              "</table>\n"
            ],
            "text/markdown": "\nA matrix: 4 × 5 of type dbl\n\n| 1 | 0 | -3 |  3 |  2 |\n| 3 | 1 |  0 |  4 |  0 |\n| 1 | 1 |  6 | -2 | -4 |\n| 3 | 0 | -1 |  1 | -2 |\n\n",
            "text/latex": "A matrix: 4 × 5 of type dbl\n\\begin{tabular}{lllll}\n\t 1 & 0 & -3 &  3 &  2\\\\\n\t 3 & 1 &  0 &  4 &  0\\\\\n\t 1 & 1 &  6 & -2 & -4\\\\\n\t 3 & 0 & -1 &  1 & -2\\\\\n\\end{tabular}\n",
            "text/plain": [
              "     [,1] [,2] [,3] [,4] [,5]\n",
              "[1,] 1    0    -3    3    2  \n",
              "[2,] 3    1     0    4    0  \n",
              "[3,] 1    1     6   -2   -4  \n",
              "[4,] 3    0    -1    1   -2  "
            ]
          },
          "metadata": {}
        },
        {
          "output_type": "display_data",
          "data": {
            "text/html": [
              "<table class=\"dataframe\">\n",
              "<caption>A matrix: 4 × 5 of type dbl</caption>\n",
              "<tbody>\n",
              "\t<tr><td>1</td><td>0</td><td>0</td><td> 0</td><td>-1</td></tr>\n",
              "\t<tr><td>0</td><td>1</td><td>0</td><td> 4</td><td> 3</td></tr>\n",
              "\t<tr><td>0</td><td>0</td><td>1</td><td>-1</td><td>-1</td></tr>\n",
              "\t<tr><td>0</td><td>0</td><td>0</td><td> 0</td><td> 0</td></tr>\n",
              "</tbody>\n",
              "</table>\n"
            ],
            "text/markdown": "\nA matrix: 4 × 5 of type dbl\n\n| 1 | 0 | 0 |  0 | -1 |\n| 0 | 1 | 0 |  4 |  3 |\n| 0 | 0 | 1 | -1 | -1 |\n| 0 | 0 | 0 |  0 |  0 |\n\n",
            "text/latex": "A matrix: 4 × 5 of type dbl\n\\begin{tabular}{lllll}\n\t 1 & 0 & 0 &  0 & -1\\\\\n\t 0 & 1 & 0 &  4 &  3\\\\\n\t 0 & 0 & 1 & -1 & -1\\\\\n\t 0 & 0 & 0 &  0 &  0\\\\\n\\end{tabular}\n",
            "text/plain": [
              "     [,1] [,2] [,3] [,4] [,5]\n",
              "[1,] 1    0    0     0   -1  \n",
              "[2,] 0    1    0     4    3  \n",
              "[3,] 0    0    1    -1   -1  \n",
              "[4,] 0    0    0     0    0  "
            ]
          },
          "metadata": {}
        }
      ]
    },
    {
      "cell_type": "markdown",
      "source": [
        "####Method 1\n",
        "Use the fact that the column space of $A$ is equal to the row space of $A^T$ and apply the technique we used to the find row space.\n",
        "\n",
        "A basis for the column space of $A$ consists of vectors\n",
        "\n",
        "$\\begin{bmatrix}1\\\\0\\\\0\\\\0\\\\-1\\end{bmatrix}, \\begin{bmatrix}0\\\\1\\\\0\\\\4\\\\3\\end{bmatrix}, \\begin{bmatrix}0\\\\0\\\\1\\\\-1\\\\-1\\end{bmatrix}$ "
      ],
      "metadata": {
        "id": "Drncb2tsSJZw"
      }
    },
    {
      "cell_type": "code",
      "source": [
        "# Find a basis for the column space of a matrix A using Method 2\n",
        "\n",
        "A <- matrix(c(1,3,1,3,0,1,1,0,-3,0,6,-1,3,4,-2,1,2,0,-4,-2), 5, 4, byrow = TRUE)\n",
        "B <- rref(A)\n",
        "B"
      ],
      "metadata": {
        "colab": {
          "base_uri": "https://localhost:8080/",
          "height": 206
        },
        "id": "7Nw7C_33SEAQ",
        "outputId": "22833778-5224-4a2e-cf2e-6964d612802a"
      },
      "execution_count": null,
      "outputs": [
        {
          "output_type": "display_data",
          "data": {
            "text/html": [
              "<table class=\"dataframe\">\n",
              "<caption>A matrix: 5 × 4 of type dbl</caption>\n",
              "<tbody>\n",
              "\t<tr><td>1</td><td>0</td><td>-2</td><td>0</td></tr>\n",
              "\t<tr><td>0</td><td>1</td><td> 1</td><td>0</td></tr>\n",
              "\t<tr><td>0</td><td>0</td><td> 0</td><td>1</td></tr>\n",
              "\t<tr><td>0</td><td>0</td><td> 0</td><td>0</td></tr>\n",
              "\t<tr><td>0</td><td>0</td><td> 0</td><td>0</td></tr>\n",
              "</tbody>\n",
              "</table>\n"
            ],
            "text/markdown": "\nA matrix: 5 × 4 of type dbl\n\n| 1 | 0 | -2 | 0 |\n| 0 | 1 |  1 | 0 |\n| 0 | 0 |  0 | 1 |\n| 0 | 0 |  0 | 0 |\n| 0 | 0 |  0 | 0 |\n\n",
            "text/latex": "A matrix: 5 × 4 of type dbl\n\\begin{tabular}{llll}\n\t 1 & 0 & -2 & 0\\\\\n\t 0 & 1 &  1 & 0\\\\\n\t 0 & 0 &  0 & 1\\\\\n\t 0 & 0 &  0 & 0\\\\\n\t 0 & 0 &  0 & 0\\\\\n\\end{tabular}\n",
            "text/plain": [
              "     [,1] [,2] [,3] [,4]\n",
              "[1,] 1    0    -2   0   \n",
              "[2,] 0    1     1   0   \n",
              "[3,] 0    0     0   1   \n",
              "[4,] 0    0     0   0   \n",
              "[5,] 0    0     0   0   "
            ]
          },
          "metadata": {}
        }
      ]
    },
    {
      "cell_type": "markdown",
      "source": [
        "####Method 2\n",
        "Use the fact that although row operations can change the column space of a matrix, they do not change the dependency relationships among columns.\n",
        "\n",
        "\n",
        "A basis for the column space of $A$ consists of vectors\n",
        "\n",
        "$\\begin{bmatrix}1\\\\0\\\\-3\\\\3\\\\2\\end{bmatrix}, \\begin{bmatrix}3\\\\1\\\\0\\\\4\\\\0\\end{bmatrix}, \\begin{bmatrix}3\\\\0\\\\-1\\\\1\\\\-2\\end{bmatrix}$ "
      ],
      "metadata": {
        "id": "5Da1FA7IThv9"
      }
    },
    {
      "cell_type": "markdown",
      "source": [
        "Notice that the basis for the column space obtained using Method 1 is different than that obtained using Method 2. These bases both span the column space of $A$ because the columns of $A$ can be written as linear combinations of the vectors in each basis.\n",
        "\n",
        "That is, write the following 4 column vectors\n",
        "\n",
        "$\\textbf{v}_1=\\begin{bmatrix}1&0&-3&3&2\\end{bmatrix}^T$,  $\\textbf{v}_2=\\begin{bmatrix}3&1&0&4&0\\end{bmatrix}^T$,  $\\textbf{v}_3=\\begin{bmatrix}1&1&6&-2&-4\\end{bmatrix}^T$, $\\textbf{v}_4=\\begin{bmatrix}3&0&-1&1&-2\\end{bmatrix}^T$ \n",
        "\n",
        "as linear combinations of vectors in the set\n",
        "$$S_1=\\left\\{\\begin{bmatrix}1\\\\0\\\\-3\\\\3\\\\2\\end{bmatrix}, \\begin{bmatrix}3\\\\1\\\\0\\\\4\\\\0\\end{bmatrix}, \\begin{bmatrix}3\\\\0\\\\-1\\\\1\\\\-2\\end{bmatrix}\\right\\}=\\left\\{\\textbf{u}_1,\\textbf{u}_2,\\textbf{u}_3\\right\\}$$\n",
        "and\n",
        "$$S_2=\\left\\{\\begin{bmatrix}1\\\\0\\\\0\\\\0\\\\-1\\end{bmatrix}, \\begin{bmatrix}0\\\\1\\\\0\\\\4\\\\3\\end{bmatrix}, \\begin{bmatrix}0\\\\0\\\\1\\\\-1\\\\-1\\end{bmatrix}\\right\\}=\\left\\{\\textbf{w}_1,\\textbf{w}_2,\\textbf{w}_3\\right\\}$$"
      ],
      "metadata": {
        "id": "mgc_xgV3T5PX"
      }
    },
    {
      "cell_type": "code",
      "source": [
        "# v_3 in S_1\n",
        "A <- matrix(c(1,3,3,0,1,0,-3,0,-1,3,4,1,2,0,-2), 5, 3, byrow = TRUE)\n",
        "(Ab <- cbind(A,c(1,1,6,-2,-4)))\n",
        "B <- rref(A)\n",
        "B\n",
        "\n",
        "# v_1 in S_2\n",
        "A <- matrix(c(1,0,0,0,1,0,0,0,1,0,4,-1,-1,3,-1), 5, 3, byrow = TRUE)\n",
        "(Ab <- cbind(A,c(1,0,-3,3,2)))\n",
        "B <- rref(Ab)\n",
        "B\n",
        "\n",
        "# v_2 in S_2\n",
        "(Ab <- cbind(A,c(3,1,0,4,0)))\n",
        "B <- rref(Ab)\n",
        "B\n",
        "\n",
        "# v_3 in S_2\n",
        "(Ab <- cbind(A,c(1,1,6,-2,-4)))\n",
        "B <- rref(Ab)\n",
        "B\n",
        "\n",
        "# v_4 in S_2\n",
        "(Ab <- cbind(A,c(3,0,-1,1,-2)))\n",
        "B <- rref(Ab)\n",
        "B"
      ],
      "metadata": {
        "colab": {
          "base_uri": "https://localhost:8080/",
          "height": 1000
        },
        "id": "i0Zujq_OThG-",
        "outputId": "92c1443d-fdc8-4a67-8c5c-fe03b918f1a9"
      },
      "execution_count": null,
      "outputs": [
        {
          "output_type": "display_data",
          "data": {
            "text/html": [
              "<table class=\"dataframe\">\n",
              "<caption>A matrix: 5 × 4 of type dbl</caption>\n",
              "<tbody>\n",
              "\t<tr><td> 1</td><td>3</td><td> 3</td><td> 1</td></tr>\n",
              "\t<tr><td> 0</td><td>1</td><td> 0</td><td> 1</td></tr>\n",
              "\t<tr><td>-3</td><td>0</td><td>-1</td><td> 6</td></tr>\n",
              "\t<tr><td> 3</td><td>4</td><td> 1</td><td>-2</td></tr>\n",
              "\t<tr><td> 2</td><td>0</td><td>-2</td><td>-4</td></tr>\n",
              "</tbody>\n",
              "</table>\n"
            ],
            "text/markdown": "\nA matrix: 5 × 4 of type dbl\n\n|  1 | 3 |  3 |  1 |\n|  0 | 1 |  0 |  1 |\n| -3 | 0 | -1 |  6 |\n|  3 | 4 |  1 | -2 |\n|  2 | 0 | -2 | -4 |\n\n",
            "text/latex": "A matrix: 5 × 4 of type dbl\n\\begin{tabular}{llll}\n\t  1 & 3 &  3 &  1\\\\\n\t  0 & 1 &  0 &  1\\\\\n\t -3 & 0 & -1 &  6\\\\\n\t  3 & 4 &  1 & -2\\\\\n\t  2 & 0 & -2 & -4\\\\\n\\end{tabular}\n",
            "text/plain": [
              "     [,1] [,2] [,3] [,4]\n",
              "[1,]  1   3     3    1  \n",
              "[2,]  0   1     0    1  \n",
              "[3,] -3   0    -1    6  \n",
              "[4,]  3   4     1   -2  \n",
              "[5,]  2   0    -2   -4  "
            ]
          },
          "metadata": {}
        },
        {
          "output_type": "display_data",
          "data": {
            "text/html": [
              "<table class=\"dataframe\">\n",
              "<caption>A matrix: 5 × 3 of type dbl</caption>\n",
              "<tbody>\n",
              "\t<tr><td>1</td><td>0</td><td>0</td></tr>\n",
              "\t<tr><td>0</td><td>1</td><td>0</td></tr>\n",
              "\t<tr><td>0</td><td>0</td><td>1</td></tr>\n",
              "\t<tr><td>0</td><td>0</td><td>0</td></tr>\n",
              "\t<tr><td>0</td><td>0</td><td>0</td></tr>\n",
              "</tbody>\n",
              "</table>\n"
            ],
            "text/markdown": "\nA matrix: 5 × 3 of type dbl\n\n| 1 | 0 | 0 |\n| 0 | 1 | 0 |\n| 0 | 0 | 1 |\n| 0 | 0 | 0 |\n| 0 | 0 | 0 |\n\n",
            "text/latex": "A matrix: 5 × 3 of type dbl\n\\begin{tabular}{lll}\n\t 1 & 0 & 0\\\\\n\t 0 & 1 & 0\\\\\n\t 0 & 0 & 1\\\\\n\t 0 & 0 & 0\\\\\n\t 0 & 0 & 0\\\\\n\\end{tabular}\n",
            "text/plain": [
              "     [,1] [,2] [,3]\n",
              "[1,] 1    0    0   \n",
              "[2,] 0    1    0   \n",
              "[3,] 0    0    1   \n",
              "[4,] 0    0    0   \n",
              "[5,] 0    0    0   "
            ]
          },
          "metadata": {}
        },
        {
          "output_type": "display_data",
          "data": {
            "text/html": [
              "<table class=\"dataframe\">\n",
              "<caption>A matrix: 5 × 4 of type dbl</caption>\n",
              "<tbody>\n",
              "\t<tr><td> 1</td><td>0</td><td> 0</td><td> 1</td></tr>\n",
              "\t<tr><td> 0</td><td>1</td><td> 0</td><td> 0</td></tr>\n",
              "\t<tr><td> 0</td><td>0</td><td> 1</td><td>-3</td></tr>\n",
              "\t<tr><td> 0</td><td>4</td><td>-1</td><td> 3</td></tr>\n",
              "\t<tr><td>-1</td><td>3</td><td>-1</td><td> 2</td></tr>\n",
              "</tbody>\n",
              "</table>\n"
            ],
            "text/markdown": "\nA matrix: 5 × 4 of type dbl\n\n|  1 | 0 |  0 |  1 |\n|  0 | 1 |  0 |  0 |\n|  0 | 0 |  1 | -3 |\n|  0 | 4 | -1 |  3 |\n| -1 | 3 | -1 |  2 |\n\n",
            "text/latex": "A matrix: 5 × 4 of type dbl\n\\begin{tabular}{llll}\n\t  1 & 0 &  0 &  1\\\\\n\t  0 & 1 &  0 &  0\\\\\n\t  0 & 0 &  1 & -3\\\\\n\t  0 & 4 & -1 &  3\\\\\n\t -1 & 3 & -1 &  2\\\\\n\\end{tabular}\n",
            "text/plain": [
              "     [,1] [,2] [,3] [,4]\n",
              "[1,]  1   0     0    1  \n",
              "[2,]  0   1     0    0  \n",
              "[3,]  0   0     1   -3  \n",
              "[4,]  0   4    -1    3  \n",
              "[5,] -1   3    -1    2  "
            ]
          },
          "metadata": {}
        },
        {
          "output_type": "display_data",
          "data": {
            "text/html": [
              "<table class=\"dataframe\">\n",
              "<caption>A matrix: 5 × 4 of type dbl</caption>\n",
              "<tbody>\n",
              "\t<tr><td>1</td><td>0</td><td>0</td><td> 1</td></tr>\n",
              "\t<tr><td>0</td><td>1</td><td>0</td><td> 0</td></tr>\n",
              "\t<tr><td>0</td><td>0</td><td>1</td><td>-3</td></tr>\n",
              "\t<tr><td>0</td><td>0</td><td>0</td><td> 0</td></tr>\n",
              "\t<tr><td>0</td><td>0</td><td>0</td><td> 0</td></tr>\n",
              "</tbody>\n",
              "</table>\n"
            ],
            "text/markdown": "\nA matrix: 5 × 4 of type dbl\n\n| 1 | 0 | 0 |  1 |\n| 0 | 1 | 0 |  0 |\n| 0 | 0 | 1 | -3 |\n| 0 | 0 | 0 |  0 |\n| 0 | 0 | 0 |  0 |\n\n",
            "text/latex": "A matrix: 5 × 4 of type dbl\n\\begin{tabular}{llll}\n\t 1 & 0 & 0 &  1\\\\\n\t 0 & 1 & 0 &  0\\\\\n\t 0 & 0 & 1 & -3\\\\\n\t 0 & 0 & 0 &  0\\\\\n\t 0 & 0 & 0 &  0\\\\\n\\end{tabular}\n",
            "text/plain": [
              "     [,1] [,2] [,3] [,4]\n",
              "[1,] 1    0    0     1  \n",
              "[2,] 0    1    0     0  \n",
              "[3,] 0    0    1    -3  \n",
              "[4,] 0    0    0     0  \n",
              "[5,] 0    0    0     0  "
            ]
          },
          "metadata": {}
        },
        {
          "output_type": "display_data",
          "data": {
            "text/html": [
              "<table class=\"dataframe\">\n",
              "<caption>A matrix: 5 × 4 of type dbl</caption>\n",
              "<tbody>\n",
              "\t<tr><td> 1</td><td>0</td><td> 0</td><td>3</td></tr>\n",
              "\t<tr><td> 0</td><td>1</td><td> 0</td><td>1</td></tr>\n",
              "\t<tr><td> 0</td><td>0</td><td> 1</td><td>0</td></tr>\n",
              "\t<tr><td> 0</td><td>4</td><td>-1</td><td>4</td></tr>\n",
              "\t<tr><td>-1</td><td>3</td><td>-1</td><td>0</td></tr>\n",
              "</tbody>\n",
              "</table>\n"
            ],
            "text/markdown": "\nA matrix: 5 × 4 of type dbl\n\n|  1 | 0 |  0 | 3 |\n|  0 | 1 |  0 | 1 |\n|  0 | 0 |  1 | 0 |\n|  0 | 4 | -1 | 4 |\n| -1 | 3 | -1 | 0 |\n\n",
            "text/latex": "A matrix: 5 × 4 of type dbl\n\\begin{tabular}{llll}\n\t  1 & 0 &  0 & 3\\\\\n\t  0 & 1 &  0 & 1\\\\\n\t  0 & 0 &  1 & 0\\\\\n\t  0 & 4 & -1 & 4\\\\\n\t -1 & 3 & -1 & 0\\\\\n\\end{tabular}\n",
            "text/plain": [
              "     [,1] [,2] [,3] [,4]\n",
              "[1,]  1   0     0   3   \n",
              "[2,]  0   1     0   1   \n",
              "[3,]  0   0     1   0   \n",
              "[4,]  0   4    -1   4   \n",
              "[5,] -1   3    -1   0   "
            ]
          },
          "metadata": {}
        },
        {
          "output_type": "display_data",
          "data": {
            "text/html": [
              "<table class=\"dataframe\">\n",
              "<caption>A matrix: 5 × 4 of type dbl</caption>\n",
              "<tbody>\n",
              "\t<tr><td>1</td><td>0</td><td>0</td><td>3</td></tr>\n",
              "\t<tr><td>0</td><td>1</td><td>0</td><td>1</td></tr>\n",
              "\t<tr><td>0</td><td>0</td><td>1</td><td>0</td></tr>\n",
              "\t<tr><td>0</td><td>0</td><td>0</td><td>0</td></tr>\n",
              "\t<tr><td>0</td><td>0</td><td>0</td><td>0</td></tr>\n",
              "</tbody>\n",
              "</table>\n"
            ],
            "text/markdown": "\nA matrix: 5 × 4 of type dbl\n\n| 1 | 0 | 0 | 3 |\n| 0 | 1 | 0 | 1 |\n| 0 | 0 | 1 | 0 |\n| 0 | 0 | 0 | 0 |\n| 0 | 0 | 0 | 0 |\n\n",
            "text/latex": "A matrix: 5 × 4 of type dbl\n\\begin{tabular}{llll}\n\t 1 & 0 & 0 & 3\\\\\n\t 0 & 1 & 0 & 1\\\\\n\t 0 & 0 & 1 & 0\\\\\n\t 0 & 0 & 0 & 0\\\\\n\t 0 & 0 & 0 & 0\\\\\n\\end{tabular}\n",
            "text/plain": [
              "     [,1] [,2] [,3] [,4]\n",
              "[1,] 1    0    0    3   \n",
              "[2,] 0    1    0    1   \n",
              "[3,] 0    0    1    0   \n",
              "[4,] 0    0    0    0   \n",
              "[5,] 0    0    0    0   "
            ]
          },
          "metadata": {}
        },
        {
          "output_type": "display_data",
          "data": {
            "text/html": [
              "<table class=\"dataframe\">\n",
              "<caption>A matrix: 5 × 4 of type dbl</caption>\n",
              "<tbody>\n",
              "\t<tr><td> 1</td><td>0</td><td> 0</td><td> 1</td></tr>\n",
              "\t<tr><td> 0</td><td>1</td><td> 0</td><td> 1</td></tr>\n",
              "\t<tr><td> 0</td><td>0</td><td> 1</td><td> 6</td></tr>\n",
              "\t<tr><td> 0</td><td>4</td><td>-1</td><td>-2</td></tr>\n",
              "\t<tr><td>-1</td><td>3</td><td>-1</td><td>-4</td></tr>\n",
              "</tbody>\n",
              "</table>\n"
            ],
            "text/markdown": "\nA matrix: 5 × 4 of type dbl\n\n|  1 | 0 |  0 |  1 |\n|  0 | 1 |  0 |  1 |\n|  0 | 0 |  1 |  6 |\n|  0 | 4 | -1 | -2 |\n| -1 | 3 | -1 | -4 |\n\n",
            "text/latex": "A matrix: 5 × 4 of type dbl\n\\begin{tabular}{llll}\n\t  1 & 0 &  0 &  1\\\\\n\t  0 & 1 &  0 &  1\\\\\n\t  0 & 0 &  1 &  6\\\\\n\t  0 & 4 & -1 & -2\\\\\n\t -1 & 3 & -1 & -4\\\\\n\\end{tabular}\n",
            "text/plain": [
              "     [,1] [,2] [,3] [,4]\n",
              "[1,]  1   0     0    1  \n",
              "[2,]  0   1     0    1  \n",
              "[3,]  0   0     1    6  \n",
              "[4,]  0   4    -1   -2  \n",
              "[5,] -1   3    -1   -4  "
            ]
          },
          "metadata": {}
        },
        {
          "output_type": "display_data",
          "data": {
            "text/html": [
              "<table class=\"dataframe\">\n",
              "<caption>A matrix: 5 × 4 of type dbl</caption>\n",
              "<tbody>\n",
              "\t<tr><td>1</td><td>0</td><td>0</td><td>1</td></tr>\n",
              "\t<tr><td>0</td><td>1</td><td>0</td><td>1</td></tr>\n",
              "\t<tr><td>0</td><td>0</td><td>1</td><td>6</td></tr>\n",
              "\t<tr><td>0</td><td>0</td><td>0</td><td>0</td></tr>\n",
              "\t<tr><td>0</td><td>0</td><td>0</td><td>0</td></tr>\n",
              "</tbody>\n",
              "</table>\n"
            ],
            "text/markdown": "\nA matrix: 5 × 4 of type dbl\n\n| 1 | 0 | 0 | 1 |\n| 0 | 1 | 0 | 1 |\n| 0 | 0 | 1 | 6 |\n| 0 | 0 | 0 | 0 |\n| 0 | 0 | 0 | 0 |\n\n",
            "text/latex": "A matrix: 5 × 4 of type dbl\n\\begin{tabular}{llll}\n\t 1 & 0 & 0 & 1\\\\\n\t 0 & 1 & 0 & 1\\\\\n\t 0 & 0 & 1 & 6\\\\\n\t 0 & 0 & 0 & 0\\\\\n\t 0 & 0 & 0 & 0\\\\\n\\end{tabular}\n",
            "text/plain": [
              "     [,1] [,2] [,3] [,4]\n",
              "[1,] 1    0    0    1   \n",
              "[2,] 0    1    0    1   \n",
              "[3,] 0    0    1    6   \n",
              "[4,] 0    0    0    0   \n",
              "[5,] 0    0    0    0   "
            ]
          },
          "metadata": {}
        },
        {
          "output_type": "display_data",
          "data": {
            "text/html": [
              "<table class=\"dataframe\">\n",
              "<caption>A matrix: 5 × 4 of type dbl</caption>\n",
              "<tbody>\n",
              "\t<tr><td> 1</td><td>0</td><td> 0</td><td> 3</td></tr>\n",
              "\t<tr><td> 0</td><td>1</td><td> 0</td><td> 0</td></tr>\n",
              "\t<tr><td> 0</td><td>0</td><td> 1</td><td>-1</td></tr>\n",
              "\t<tr><td> 0</td><td>4</td><td>-1</td><td> 1</td></tr>\n",
              "\t<tr><td>-1</td><td>3</td><td>-1</td><td>-2</td></tr>\n",
              "</tbody>\n",
              "</table>\n"
            ],
            "text/markdown": "\nA matrix: 5 × 4 of type dbl\n\n|  1 | 0 |  0 |  3 |\n|  0 | 1 |  0 |  0 |\n|  0 | 0 |  1 | -1 |\n|  0 | 4 | -1 |  1 |\n| -1 | 3 | -1 | -2 |\n\n",
            "text/latex": "A matrix: 5 × 4 of type dbl\n\\begin{tabular}{llll}\n\t  1 & 0 &  0 &  3\\\\\n\t  0 & 1 &  0 &  0\\\\\n\t  0 & 0 &  1 & -1\\\\\n\t  0 & 4 & -1 &  1\\\\\n\t -1 & 3 & -1 & -2\\\\\n\\end{tabular}\n",
            "text/plain": [
              "     [,1] [,2] [,3] [,4]\n",
              "[1,]  1   0     0    3  \n",
              "[2,]  0   1     0    0  \n",
              "[3,]  0   0     1   -1  \n",
              "[4,]  0   4    -1    1  \n",
              "[5,] -1   3    -1   -2  "
            ]
          },
          "metadata": {}
        },
        {
          "output_type": "display_data",
          "data": {
            "text/html": [
              "<table class=\"dataframe\">\n",
              "<caption>A matrix: 5 × 4 of type dbl</caption>\n",
              "<tbody>\n",
              "\t<tr><td>1</td><td>0</td><td>0</td><td> 3</td></tr>\n",
              "\t<tr><td>0</td><td>1</td><td>0</td><td> 0</td></tr>\n",
              "\t<tr><td>0</td><td>0</td><td>1</td><td>-1</td></tr>\n",
              "\t<tr><td>0</td><td>0</td><td>0</td><td> 0</td></tr>\n",
              "\t<tr><td>0</td><td>0</td><td>0</td><td> 0</td></tr>\n",
              "</tbody>\n",
              "</table>\n"
            ],
            "text/markdown": "\nA matrix: 5 × 4 of type dbl\n\n| 1 | 0 | 0 |  3 |\n| 0 | 1 | 0 |  0 |\n| 0 | 0 | 1 | -1 |\n| 0 | 0 | 0 |  0 |\n| 0 | 0 | 0 |  0 |\n\n",
            "text/latex": "A matrix: 5 × 4 of type dbl\n\\begin{tabular}{llll}\n\t 1 & 0 & 0 &  3\\\\\n\t 0 & 1 & 0 &  0\\\\\n\t 0 & 0 & 1 & -1\\\\\n\t 0 & 0 & 0 &  0\\\\\n\t 0 & 0 & 0 &  0\\\\\n\\end{tabular}\n",
            "text/plain": [
              "     [,1] [,2] [,3] [,4]\n",
              "[1,] 1    0    0     3  \n",
              "[2,] 0    1    0     0  \n",
              "[3,] 0    0    1    -1  \n",
              "[4,] 0    0    0     0  \n",
              "[5,] 0    0    0     0  "
            ]
          },
          "metadata": {}
        }
      ]
    },
    {
      "cell_type": "markdown",
      "source": [
        "For $S_1$, $\\textbf{v}_1=\\textbf{u}_1,\\textbf{v}_2=\\textbf{u}_2,\\textbf{v}_3=-2\\textbf{u}_1+\\textbf{u}_2,\\textbf{v}_4=\\textbf{u}_3$.\n",
        "\n",
        "For $S_2$, $\\textbf{v}_1=\\textbf{w}_1-3\\textbf{w}_3,\\textbf{v}_2=3\\textbf{w}_1+\\textbf{w}_2$, $\\textbf{v}_3=\\textbf{w}_1+\\textbf{w}_2+6\\textbf{w}_3$, and $\\textbf{v}_4=3\\textbf{w}_1-\\textbf{w}_3$.\n"
      ],
      "metadata": {
        "id": "EfvmdnnB85q7"
      }
    },
    {
      "cell_type": "markdown",
      "source": [
        "###Theorem 4.15: Row and Column Spaces Have Equal Dimensions\n",
        "The row space and column space of an $m\\times n$ matrix $A$ have the same dimension."
      ],
      "metadata": {
        "id": "bsMdJVarSe_C"
      }
    },
    {
      "cell_type": "markdown",
      "source": [
        "##Definition of the Rank of a Matrix\n",
        "The dimension of the row (or column) space of a matrix $A$ is the **rank** of $A$ and is denoted by $\\text{rank} (A)$.\n"
      ],
      "metadata": {
        "id": "yBIwoU3NSjBz"
      }
    },
    {
      "cell_type": "markdown",
      "source": [
        "##Definition: Solutions of a Homogeneous System\n",
        "If $A$ is an $m\\times n$ matrix, then the set of all solutions of the homogeneous system of linear equations $A\\textbf{x}=\\textbf{0}$ is a subspace of $\\mathbb{R}^n$ called the **nullspace** of $A$ and is denoted by $N(A)$. So,\n",
        "$$N(A)=\\{\\textbf{x}\\in\\mathbb{R}^n:A\\textbf{x}=\\textbf{0}\\}.$$\n",
        "The dimension of the nullspace of $A$ is the **nullity** of $A$."
      ],
      "metadata": {
        "id": "tC59qMUBSnCz"
      }
    },
    {
      "cell_type": "markdown",
      "source": [
        "####$\\star$Example\n",
        "Find the nullspace of the matrix.\n",
        "$$A=\\begin{bmatrix}1&2&-2&1\\\\3&6&-5&4\\\\1&2&0&3\\end{bmatrix}$$\n",
        "\n",
        "**Solution**\n",
        "The nullspace of $A$ is the solution space of the homogeneous system\n",
        "$$A\\textbf{x}=\\textbf{0}.$$\n",
        "To solve this system, find the reduced row-echelon form of the augmented matrix $[A\\:\\:\\:\\textbf{0}]$.\n"
      ],
      "metadata": {
        "id": "-Q9CCHWedOzu"
      }
    },
    {
      "cell_type": "code",
      "source": [
        "A <- matrix(c(1,2,-2,1,3,6,-5,4,1,2,0,3), 3, 4, byrow = TRUE)\n",
        "(Ab <- cbind(A,c(0,0,0)))\n",
        "B <- rref(Ab)\n",
        "B"
      ],
      "metadata": {
        "colab": {
          "base_uri": "https://localhost:8080/",
          "height": 274
        },
        "id": "7kyWkGO7dOdi",
        "outputId": "5139e688-cd28-48f0-83c9-147bd815ee83"
      },
      "execution_count": null,
      "outputs": [
        {
          "output_type": "display_data",
          "data": {
            "text/html": [
              "<table class=\"dataframe\">\n",
              "<caption>A matrix: 3 × 5 of type dbl</caption>\n",
              "<tbody>\n",
              "\t<tr><td>1</td><td>2</td><td>-2</td><td>1</td><td>0</td></tr>\n",
              "\t<tr><td>3</td><td>6</td><td>-5</td><td>4</td><td>0</td></tr>\n",
              "\t<tr><td>1</td><td>2</td><td> 0</td><td>3</td><td>0</td></tr>\n",
              "</tbody>\n",
              "</table>\n"
            ],
            "text/markdown": "\nA matrix: 3 × 5 of type dbl\n\n| 1 | 2 | -2 | 1 | 0 |\n| 3 | 6 | -5 | 4 | 0 |\n| 1 | 2 |  0 | 3 | 0 |\n\n",
            "text/latex": "A matrix: 3 × 5 of type dbl\n\\begin{tabular}{lllll}\n\t 1 & 2 & -2 & 1 & 0\\\\\n\t 3 & 6 & -5 & 4 & 0\\\\\n\t 1 & 2 &  0 & 3 & 0\\\\\n\\end{tabular}\n",
            "text/plain": [
              "     [,1] [,2] [,3] [,4] [,5]\n",
              "[1,] 1    2    -2   1    0   \n",
              "[2,] 3    6    -5   4    0   \n",
              "[3,] 1    2     0   3    0   "
            ]
          },
          "metadata": {}
        },
        {
          "output_type": "display_data",
          "data": {
            "text/html": [
              "<table class=\"dataframe\">\n",
              "<caption>A matrix: 3 × 5 of type dbl</caption>\n",
              "<tbody>\n",
              "\t<tr><td>1</td><td>2</td><td>0</td><td>3</td><td>0</td></tr>\n",
              "\t<tr><td>0</td><td>0</td><td>1</td><td>1</td><td>0</td></tr>\n",
              "\t<tr><td>0</td><td>0</td><td>0</td><td>0</td><td>0</td></tr>\n",
              "</tbody>\n",
              "</table>\n"
            ],
            "text/markdown": "\nA matrix: 3 × 5 of type dbl\n\n| 1 | 2 | 0 | 3 | 0 |\n| 0 | 0 | 1 | 1 | 0 |\n| 0 | 0 | 0 | 0 | 0 |\n\n",
            "text/latex": "A matrix: 3 × 5 of type dbl\n\\begin{tabular}{lllll}\n\t 1 & 2 & 0 & 3 & 0\\\\\n\t 0 & 0 & 1 & 1 & 0\\\\\n\t 0 & 0 & 0 & 0 & 0\\\\\n\\end{tabular}\n",
            "text/plain": [
              "     [,1] [,2] [,3] [,4] [,5]\n",
              "[1,] 1    2    0    3    0   \n",
              "[2,] 0    0    1    1    0   \n",
              "[3,] 0    0    0    0    0   "
            ]
          },
          "metadata": {}
        }
      ]
    },
    {
      "cell_type": "markdown",
      "source": [
        "The system of equations corresponding to the reduced row-echelon form is\n",
        "\\begin{alignat*}{4}\n",
        "    x_1 &  {}+{} 2x_2 & {}{}& {}{} & {}+{} & 3x_4  &= 0\\\\\n",
        "    & {}{}       & {}{}  & x_3 &  {}+{} &x_4&= 0\\\\\n",
        "\\end{alignat*}\n",
        "\n",
        "Choose $x_2$ and $x_4$ as free variables to represent the solutions in parametric form.\n",
        "$$x_1=-2s-3t,\\:\\:x_2=s,\\:\\:x_3=-t,\\:\\:x_4=t$$\n",
        "This means that the solution space of $A\\textbf{x}=\\textbf{0}$ consists of all solution vectors of the form\n",
        "$$\\textbf{x}=\\begin{bmatrix}x_1\\\\x_2\\\\x_3\\\\x_4\\end{bmatrix}=\\begin{bmatrix}-2s-3t\\\\s\\\\-t\\\\t\\end{bmatrix}=s\\begin{bmatrix}-2\\\\1\\\\0\\\\0\\end{bmatrix}+t\\begin{bmatrix}-3\\\\0\\\\-1\\\\1\\end{bmatrix}$$\n",
        "Thus, a basis for the nullspace of $A$ consists of the vectors\n",
        "$\\begin{bmatrix}-2\\\\1\\\\0\\\\0\\end{bmatrix}$ and $\\begin{bmatrix}-3\\\\0\\\\-1\\\\1\\end{bmatrix}$.\n"
      ],
      "metadata": {
        "id": "XJ2LWFd3fIod"
      }
    },
    {
      "cell_type": "markdown",
      "source": [
        "###Theorem 4.16: Dimension of the Solution Space\n",
        "If $A$ is an $m\\times n$ matrix of rank $r$, then the dimension of the solution space of $A\\textbf{x}=\\textbf{0}$ is $n-r$. That is, $$n=\\text{rank}(A)+\\text{nullity}(A).$$"
      ],
      "metadata": {
        "id": "wCkf9D-1SuJD"
      }
    },
    {
      "cell_type": "code",
      "source": [
        "#Find the rank and nullity of A, and a subset of the column vectors of A that forms a basis for the column space of A.\n",
        "A <- matrix(c(1,0,-2,1,0,0,-1,-3,1,3,-2,-1,1,-1,3,0,3,9,0,-12), 4, 5, byrow = TRUE)\n",
        "B <- rref(A)\n",
        "B"
      ],
      "metadata": {
        "colab": {
          "base_uri": "https://localhost:8080/",
          "height": 177
        },
        "id": "LX4vao9xhlcF",
        "outputId": "8b0497d6-1dd9-4aa6-bbc6-106c88c6d958"
      },
      "execution_count": null,
      "outputs": [
        {
          "output_type": "display_data",
          "data": {
            "text/html": [
              "<table class=\"dataframe\">\n",
              "<caption>A matrix: 4 × 5 of type dbl</caption>\n",
              "<tbody>\n",
              "\t<tr><td>1</td><td>0</td><td>-2</td><td>0</td><td> 1</td></tr>\n",
              "\t<tr><td>0</td><td>1</td><td> 3</td><td>0</td><td>-4</td></tr>\n",
              "\t<tr><td>0</td><td>0</td><td> 0</td><td>1</td><td>-1</td></tr>\n",
              "\t<tr><td>0</td><td>0</td><td> 0</td><td>0</td><td> 0</td></tr>\n",
              "</tbody>\n",
              "</table>\n"
            ],
            "text/markdown": "\nA matrix: 4 × 5 of type dbl\n\n| 1 | 0 | -2 | 0 |  1 |\n| 0 | 1 |  3 | 0 | -4 |\n| 0 | 0 |  0 | 1 | -1 |\n| 0 | 0 |  0 | 0 |  0 |\n\n",
            "text/latex": "A matrix: 4 × 5 of type dbl\n\\begin{tabular}{lllll}\n\t 1 & 0 & -2 & 0 &  1\\\\\n\t 0 & 1 &  3 & 0 & -4\\\\\n\t 0 & 0 &  0 & 1 & -1\\\\\n\t 0 & 0 &  0 & 0 &  0\\\\\n\\end{tabular}\n",
            "text/plain": [
              "     [,1] [,2] [,3] [,4] [,5]\n",
              "[1,] 1    0    -2   0     1  \n",
              "[2,] 0    1     3   0    -4  \n",
              "[3,] 0    0     0   1    -1  \n",
              "[4,] 0    0     0   0     0  "
            ]
          },
          "metadata": {}
        }
      ]
    },
    {
      "cell_type": "markdown",
      "source": [
        "$B$ has three nonzero rows, so the rank of $A$ is 3. Also, the number of columns of $A$ is $n=5$, which implies that the nullity of $A$ is $n-\\text{rank}=5-3=2.$\n",
        "\n",
        "The first, second, and fourth column vectors of $B$ are linearly independent, so the corresponding column vectors of $A$,\n",
        "$$\\begin{bmatrix}1\\\\0\\\\-2\\\\0\\end{bmatrix},\\begin{bmatrix}0\\\\-1\\\\-1\\\\3\\end{bmatrix},\\begin{bmatrix}1\\\\1\\\\-1\\\\0\\end{bmatrix}$$\n",
        "form a basis for the column space of $A$."
      ],
      "metadata": {
        "id": "9cnpLSxHkZah"
      }
    },
    {
      "cell_type": "markdown",
      "source": [
        "###Theorem 4.17: Solutions of a Nonhomogeneous Linear System\n",
        "If $\\textbf{x}_p$ is a particular solution of the nonhomogeneous system $A\\textbf{x}=\\textbf{b}$, then every solution of this system can be written in the form $\\textbf{x}=\\textbf{x}_p+\\textbf{x}_h$, where $\\textbf{x}_h$ is a solution of the corresponding homogeneous system $A\\textbf{x}=\\textbf{0}$."
      ],
      "metadata": {
        "id": "vyKaJHXTS2LN"
      }
    },
    {
      "cell_type": "markdown",
      "source": [
        "####$\\star$Example\n",
        "Find the set of all solution vectors of the system of linear equations.\n",
        "\\begin{alignat*}{4}\n",
        "    x_1 & {}{} &      & {}-{} & 2x_3 & {}+{} x_4  &=& 5\\\\\n",
        "   3x_1 & {}+{} & x_2 & {}-{} & 5x_3 & {}{}       &=& 8\\\\\n",
        "    x_1 & {}+{} & 2x_2 & {}{} &      & {}-{} 5x_4 &=& -9\\\\\n",
        "\\end{alignat*}"
      ],
      "metadata": {
        "id": "3SaQoJ0Eldmc"
      }
    },
    {
      "cell_type": "code",
      "source": [
        "(A <- matrix(c(1,0,-2,1,5,3,1,-5,0,8,1,2,0,-5,-9), 3, 5, byrow = TRUE))\n",
        "B <- rref(A)\n",
        "B"
      ],
      "metadata": {
        "colab": {
          "base_uri": "https://localhost:8080/",
          "height": 274
        },
        "id": "p14-QIS7ldQG",
        "outputId": "a0f9b9a3-66d3-43a4-8aa2-8e7c102688e8"
      },
      "execution_count": null,
      "outputs": [
        {
          "output_type": "display_data",
          "data": {
            "text/html": [
              "<table class=\"dataframe\">\n",
              "<caption>A matrix: 3 × 5 of type dbl</caption>\n",
              "<tbody>\n",
              "\t<tr><td>1</td><td>0</td><td>-2</td><td> 1</td><td> 5</td></tr>\n",
              "\t<tr><td>3</td><td>1</td><td>-5</td><td> 0</td><td> 8</td></tr>\n",
              "\t<tr><td>1</td><td>2</td><td> 0</td><td>-5</td><td>-9</td></tr>\n",
              "</tbody>\n",
              "</table>\n"
            ],
            "text/markdown": "\nA matrix: 3 × 5 of type dbl\n\n| 1 | 0 | -2 |  1 |  5 |\n| 3 | 1 | -5 |  0 |  8 |\n| 1 | 2 |  0 | -5 | -9 |\n\n",
            "text/latex": "A matrix: 3 × 5 of type dbl\n\\begin{tabular}{lllll}\n\t 1 & 0 & -2 &  1 &  5\\\\\n\t 3 & 1 & -5 &  0 &  8\\\\\n\t 1 & 2 &  0 & -5 & -9\\\\\n\\end{tabular}\n",
            "text/plain": [
              "     [,1] [,2] [,3] [,4] [,5]\n",
              "[1,] 1    0    -2    1    5  \n",
              "[2,] 3    1    -5    0    8  \n",
              "[3,] 1    2     0   -5   -9  "
            ]
          },
          "metadata": {}
        },
        {
          "output_type": "display_data",
          "data": {
            "text/html": [
              "<table class=\"dataframe\">\n",
              "<caption>A matrix: 3 × 5 of type dbl</caption>\n",
              "<tbody>\n",
              "\t<tr><td>1</td><td>0</td><td>-2</td><td> 1</td><td> 5</td></tr>\n",
              "\t<tr><td>0</td><td>1</td><td> 1</td><td>-3</td><td>-7</td></tr>\n",
              "\t<tr><td>0</td><td>0</td><td> 0</td><td> 0</td><td> 0</td></tr>\n",
              "</tbody>\n",
              "</table>\n"
            ],
            "text/markdown": "\nA matrix: 3 × 5 of type dbl\n\n| 1 | 0 | -2 |  1 |  5 |\n| 0 | 1 |  1 | -3 | -7 |\n| 0 | 0 |  0 |  0 |  0 |\n\n",
            "text/latex": "A matrix: 3 × 5 of type dbl\n\\begin{tabular}{lllll}\n\t 1 & 0 & -2 &  1 &  5\\\\\n\t 0 & 1 &  1 & -3 & -7\\\\\n\t 0 & 0 &  0 &  0 &  0\\\\\n\\end{tabular}\n",
            "text/plain": [
              "     [,1] [,2] [,3] [,4] [,5]\n",
              "[1,] 1    0    -2    1    5  \n",
              "[2,] 0    1     1   -3   -7  \n",
              "[3,] 0    0     0    0    0  "
            ]
          },
          "metadata": {}
        }
      ]
    },
    {
      "cell_type": "markdown",
      "source": [
        "The system of equations corresponding to the reduced row-echelon form is\n",
        "\\begin{alignat*}{4}\n",
        "    x_1 & {}{} &      & {}-{} & 2x_3 & {}+{} x_4  &=& 5\\\\\n",
        "        & {}{} & x_2 & {}+{} & x_3 & {}-{} 3x_4      &=& -7\\\\\n",
        "\\end{alignat*}\n",
        "\n",
        "Choose $x_3=s$ and $x_4=t$, write a representative solution vector of $A\\textbf{x}=\\textbf{b}$ as shown below.\n",
        "$$\\textbf{x}=\\begin{bmatrix}x_1\\\\x_2\\\\x_3\\\\x_4\\end{bmatrix}=\\begin{bmatrix}5+2s-t\\\\-7-s+3t\\\\0+s+0t\\\\0+0s+t\\end{bmatrix}=\\begin{bmatrix}5\\\\-7\\\\0\\\\0\\end{bmatrix}+s\\begin{bmatrix}2\\\\-1\\\\1\\\\0\\end{bmatrix}+t\\begin{bmatrix}-1\\\\3\\\\0\\\\1\\end{bmatrix}=\\textbf{x}_p+s\\textbf{u}_1+t\\textbf{u}_2$$\n",
        "$\\textbf{x}_p$ is a particular solution vector of $A\\textbf{x}=\\textbf{b}$, and $\\textbf{x}_h=s\\textbf{u}_1+t\\textbf{u}_2$ represents an arbitrary vector in the solution space of $A\\textbf{x}=\\textbf{b}$.\n"
      ],
      "metadata": {
        "id": "WoPnKAIYlg09"
      }
    },
    {
      "cell_type": "markdown",
      "source": [
        "###Theorem 4.18: Solutions of a System of Linear Equations\n",
        "The system $A\\textbf{x}=\\textbf{0}$ is consistent if and only if $\\textbf{b}$ is in the column space of $A$.\n"
      ],
      "metadata": {
        "id": "eOmXFEUVS6IL"
      }
    },
    {
      "cell_type": "markdown",
      "source": [
        "###Summary of Equivalent Conditions for Square Matrices\n",
        "If $A$ is an $n\\times n$ matrix, then the statements below are equivalent.\n",
        "1. $A$ is invertible.\n",
        "2. $A\\textbf{x}=\\textbf{b}$ has a unique solution for every $n\\times 1$ column matrix \\textbf{b}.\n",
        "3. $A\\textbf{x}=\\textbf{0}$ has only the trivial solution.\n",
        "4. $A$ is row-equivalent to $I_n$.\n",
        "5. $\\det(A)\\neq 0$\n",
        "6. $\\text{rank}(A)=n$\n",
        "7. The $n$ row vectors of $A$ are linearly independent.\n",
        "8. The $n$ column vectors of $A$ are linearly independent."
      ],
      "metadata": {
        "id": "rRES_UxAS-Jh"
      }
    }
  ],
  "metadata": {
    "kernelspec": {
      "display_name": "R",
      "language": "R",
      "name": "ir"
    },
    "language_info": {
      "codemirror_mode": "r",
      "file_extension": ".r",
      "mimetype": "text/x-r-source",
      "name": "R",
      "pygments_lexer": "r",
      "version": "3.6.1"
    },
    "colab": {
      "name": "4-6_Rank_of_Matrix.ipynb",
      "provenance": [],
      "collapsed_sections": [],
      "include_colab_link": true
    }
  },
  "nbformat": 4,
  "nbformat_minor": 0
}