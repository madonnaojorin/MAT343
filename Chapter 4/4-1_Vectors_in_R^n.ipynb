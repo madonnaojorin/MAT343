{
  "cells": [
    {
      "cell_type": "markdown",
      "metadata": {
        "id": "view-in-github",
        "colab_type": "text"
      },
      "source": [
        "<a href=\"https://colab.research.google.com/github/madonnaojorin/MAT343_Linear_Algebra/blob/main/4-1_Vectors_in_R%5En.ipynb\" target=\"_parent\"><img src=\"https://colab.research.google.com/assets/colab-badge.svg\" alt=\"Open In Colab\"/></a>"
      ]
    },
    {
      "cell_type": "markdown",
      "source": [
        "#4.1. Vectors in $\\mathbb{R}^n$"
      ],
      "metadata": {
        "id": "8KX-YqQiOVg1"
      }
    },
    {
      "cell_type": "code",
      "source": [
        "install.packages(\"pracma\")\n",
        "library(pracma)"
      ],
      "metadata": {
        "colab": {
          "base_uri": "https://localhost:8080/"
        },
        "id": "GVYBT1XWRyVR",
        "outputId": "0c5bb24b-9169-4bb9-f9d3-f83cf2da26f0"
      },
      "execution_count": null,
      "outputs": [
        {
          "output_type": "stream",
          "name": "stderr",
          "text": [
            "Installing package into ‘/usr/local/lib/R/site-library’\n",
            "(as ‘lib’ is unspecified)\n",
            "\n"
          ]
        }
      ]
    },
    {
      "cell_type": "markdown",
      "source": [
        "##Review: Vectors in $\\mathbb{R}^2$ (the Plane)\n",
        "Geometrically, a **vector in the plane** is represented by a **directed line segment** with its **initial point** at the origin and its **terminal point** at $(x_1,x_2).$ \n",
        "\n",
        "The same **ordered pair** used to represent its terminal point also represents the vector. That is, $\\textbf{x}=\\langle x_1,x_2\\rangle$. The coordinates $x_1$ and $x_2$ are the components of the vector $\\textbf{x}$. Two vectors in the plane  $\\textbf{u}=\\langle u_1,u_2\\rangle$ and $\\textbf{v}=\\langle v_1,v_2\\rangle$ are equal if and only if\n",
        "$$u_1=u_2\\hspace{10mm}\\text{and}\\hspace{10mm}v_1=v_2$$"
      ],
      "metadata": {
        "id": "RQGjfWcxNg_E"
      }
    },
    {
      "cell_type": "markdown",
      "source": [
        "####$\\star$Example\n",
        "We were interested in calculating something like this:\n",
        "$$2\\langle 2, 1 \\rangle-\\langle-1, 1 \\rangle=2\\begin{bmatrix}2 \\\\ 1 \\end{bmatrix}-\\begin{bmatrix}-1 \\\\ 1 \\end{bmatrix}=?$$\n",
        "\n",
        "That is:\n",
        "$$2\\textbf{u}-\\textbf{v}=?$$\n",
        "where $\\textbf{u}=\\begin{bmatrix}u_1 \\\\ u_2 \\end{bmatrix}=\\begin{bmatrix}2 \\\\ 1 \\end{bmatrix}$, $\\textbf{v}=\\begin{bmatrix}v_1 \\\\ v_2 \\end{bmatrix}=\\begin{bmatrix}-1 \\\\ 1 \\end{bmatrix}$.<br>\n",
        "More generally,  \n",
        "$$c_1\\textbf{u}+c_2\\textbf{v}=?$$\n",
        "where $c_1=2,c_2=-1$."
      ],
      "metadata": {
        "id": "CAlr3V03FiTm"
      }
    },
    {
      "cell_type": "markdown",
      "source": [
        "$$2\\langle 2, 1 \\rangle-\\langle-1, 1 \\rangle=2\\begin{bmatrix}2 \\\\ 1 \\end{bmatrix}-\\begin{bmatrix}-1 \\\\ 1 \\end{bmatrix}=\\begin{bmatrix}4-(-1) \\\\ 2-1 \\end{bmatrix}=\\begin{bmatrix}5 \\\\ 1 \\end{bmatrix}$$"
      ],
      "metadata": {
        "id": "QW-xX32uGNhy"
      }
    },
    {
      "cell_type": "code",
      "source": [
        "# Vector u\n",
        "u_1 = 2\n",
        "u_2 = 1\n",
        "# Vector v\n",
        "v_1 = -1\n",
        "v_2 = 1\n",
        "# Coefficients\n",
        "c_1 = 2\n",
        "c_2 = -1\n",
        "\n",
        "axis <- c(-5,5)\n",
        "plot(axis,axis)\n",
        "grid()\n",
        "arrows(0,0,u_1,u_2,lwd=4,col=\"red\")\n",
        "arrows(0,0,v_1,v_2,lwd=4,col=\"blue\")\n",
        "\n",
        "arrows(0,0,c_1*u_1,c_1*u_2,lwd=2,col=\"red\",lty = \"dashed\")\n",
        "arrows(0,0,c_2*v_1,c_2*v_2,lwd=2,col=\"blue\",lty = \"dashed\")\n",
        "arrows(c_1*u_1,c_1*u_2,c_1*u_1+c_2*v_1,c_1*u_2+c_2*v_2,lwd=2,col=\"blue\",lty = \"dashed\")\n",
        "arrows(0,0,c_1*u_1+c_2*v_1,c_1*u_2+c_2*v_2,lwd=4)\n",
        "text(1.8,1.5,\"u\", cex=2)\n",
        "text(3.8,2.5,\"2u\", cex=2)\n",
        "text(-0.8,1.5,\"v\", cex=2)\n",
        "text(0.8,-1.5,\"-v\", cex=2)"
      ],
      "metadata": {
        "colab": {
          "base_uri": "https://localhost:8080/",
          "height": 437
        },
        "id": "umi-99nqGGXE",
        "outputId": "6cfcb148-04fb-4b1a-8cbe-c5077c84b59e"
      },
      "execution_count": null,
      "outputs": [
        {
          "output_type": "display_data",
          "data": {
            "text/plain": [
              "plot without title"
            ],
            "image/png": "[encoded data removed]"
          },
          "metadata": {
            "image/png": {
              "width": 420,
              "height": 420
            }
          }
        }
      ]
    },
    {
      "cell_type": "markdown",
      "source": [
        "\n",
        "\n",
        "---\n",
        "\n",
        "\n",
        "\n",
        "---\n",
        "\n"
      ],
      "metadata": {
        "id": "Cx-yOMcGGXD3"
      }
    },
    {
      "cell_type": "markdown",
      "source": [
        "##Definitions of Vector Addition and Scalar Multiplication in $\\mathbb{R}^n$\n",
        "Let $\\textbf{u}=\\langle u_1,u_2,u_3,\\ldots,u_n\\rangle$ and $\\textbf{v}=\\langle v_1,v_2,v_3,\\ldots,v_n\\rangle$ be vectors in $\\mathbb{R}^n$ and let $c$ be a real number. The sum of $\\textbf{u}$ and $\\textbf{v}$ is the vector\n",
        "$$\\textbf{u}+\\textbf{v}=\\langle u_1+v_1,u_2+v_2,u_3+v_3,\\ldots,u_n+v_n\\rangle$$\n",
        "and the scalar multiple of $\\textbf{u}$ by $c$ is the vector\n",
        "$$c\\textbf{u}=\\langle cu_1,cu_2,cu_3,\\ldots,cu_n\\rangle$$\n"
      ],
      "metadata": {
        "id": "SAlWn7XYOhAF"
      }
    },
    {
      "cell_type": "code",
      "source": [
        "# Vector operations in R^3\n",
        "u=c(-1,0,1)\n",
        "v=c(2,-1,5)"
      ],
      "metadata": {
        "id": "AtnclfZmaL8a"
      },
      "execution_count": null,
      "outputs": []
    },
    {
      "cell_type": "code",
      "source": [
        "u+v"
      ],
      "metadata": {
        "colab": {
          "base_uri": "https://localhost:8080/",
          "height": 34
        },
        "id": "eI5Au2hfatr7",
        "outputId": "a37d1a9c-fdc8-4af1-8a79-332e705af83a"
      },
      "execution_count": null,
      "outputs": [
        {
          "output_type": "display_data",
          "data": {
            "text/html": [
              "<style>\n",
              ".list-inline {list-style: none; margin:0; padding: 0}\n",
              ".list-inline>li {display: inline-block}\n",
              ".list-inline>li:not(:last-child)::after {content: \"\\00b7\"; padding: 0 .5ex}\n",
              "</style>\n",
              "<ol class=list-inline><li>1</li><li>-1</li><li>6</li></ol>\n"
            ],
            "text/markdown": "1. 1\n2. -1\n3. 6\n\n\n",
            "text/latex": "\\begin{enumerate*}\n\\item 1\n\\item -1\n\\item 6\n\\end{enumerate*}\n",
            "text/plain": [
              "[1]  1 -1  6"
            ]
          },
          "metadata": {}
        }
      ]
    },
    {
      "cell_type": "code",
      "source": [
        "2*u"
      ],
      "metadata": {
        "colab": {
          "base_uri": "https://localhost:8080/",
          "height": 34
        },
        "id": "JN00iMGyavEL",
        "outputId": "e8f11b1e-fe4e-44db-81a4-fc88efd12549"
      },
      "execution_count": null,
      "outputs": [
        {
          "output_type": "display_data",
          "data": {
            "text/html": [
              "<style>\n",
              ".list-inline {list-style: none; margin:0; padding: 0}\n",
              ".list-inline>li {display: inline-block}\n",
              ".list-inline>li:not(:last-child)::after {content: \"\\00b7\"; padding: 0 .5ex}\n",
              "</style>\n",
              "<ol class=list-inline><li>-2</li><li>0</li><li>2</li></ol>\n"
            ],
            "text/markdown": "1. -2\n2. 0\n3. 2\n\n\n",
            "text/latex": "\\begin{enumerate*}\n\\item -2\n\\item 0\n\\item 2\n\\end{enumerate*}\n",
            "text/plain": [
              "[1] -2  0  2"
            ]
          },
          "metadata": {}
        }
      ]
    },
    {
      "cell_type": "code",
      "source": [
        "v-2*u"
      ],
      "metadata": {
        "colab": {
          "base_uri": "https://localhost:8080/",
          "height": 34
        },
        "id": "mHRYHCA_awxN",
        "outputId": "8bd46247-d58b-4bc4-98c6-2407f0e3adf8"
      },
      "execution_count": null,
      "outputs": [
        {
          "output_type": "display_data",
          "data": {
            "text/html": [
              "<style>\n",
              ".list-inline {list-style: none; margin:0; padding: 0}\n",
              ".list-inline>li {display: inline-block}\n",
              ".list-inline>li:not(:last-child)::after {content: \"\\00b7\"; padding: 0 .5ex}\n",
              "</style>\n",
              "<ol class=list-inline><li>4</li><li>-1</li><li>3</li></ol>\n"
            ],
            "text/markdown": "1. 4\n2. -1\n3. 3\n\n\n",
            "text/latex": "\\begin{enumerate*}\n\\item 4\n\\item -1\n\\item 3\n\\end{enumerate*}\n",
            "text/plain": [
              "[1]  4 -1  3"
            ]
          },
          "metadata": {}
        }
      ]
    },
    {
      "cell_type": "markdown",
      "source": [
        "###Theorem 4.2: Properties of Vector Addition and Scalar Multiplication in $\\mathbb{R}^n$\n",
        "Let $\\textbf{u}$, $\\textbf{v}$, and $\\textbf{w}$ be vectors in $\\mathbb{R}^n$, and let $c$ and $d$ be scalars.\n",
        "\n",
        "\n",
        "1. $\\textbf{u}+\\textbf{v}$ is a vecotor in $\\mathbb{R}^n$.\n",
        "2. $\\textbf{u}+\\textbf{v}=\\textbf{v}+\\textbf{u}$\n",
        "3. $(\\textbf{u}+\\textbf{v})+\\textbf{w}=\\textbf{u}+(\\textbf{v}+\\textbf{w})$\n",
        "4. $\\textbf{u}+\\textbf{0}=\\textbf{u}$\n",
        "5. $\\textbf{u}+(-\\textbf{u})=\\textbf{0}$\n",
        "6. $c\\textbf{u}$ is a vector in $\\mathbb{R}^n$.\n",
        "7. $c(\\textbf{u}+\\textbf{v})=c\\textbf{u}+c\\textbf{v}$\n",
        "8. $(c+d)\\textbf{u}=c\\textbf{u}+d\\textbf{u}$\n",
        "9. $c(d\\textbf{u})=(cd)\\textbf{u}$  \n",
        "10. $1(\\textbf{u})=\\textbf{u}$"
      ],
      "metadata": {
        "id": "IJ9d1FGNOqON"
      }
    },
    {
      "cell_type": "code",
      "source": [
        "# Vector operations in R^4\n",
        "u=c(2,-1,5,0)\n",
        "v=c(4,3,1,-1)\n",
        "w=c(-6,2,0,3)"
      ],
      "metadata": {
        "id": "6YmpAfdQa1U-"
      },
      "execution_count": null,
      "outputs": []
    },
    {
      "cell_type": "code",
      "source": [
        "x=2*u-(v+3*w)\n",
        "x"
      ],
      "metadata": {
        "colab": {
          "base_uri": "https://localhost:8080/",
          "height": 34
        },
        "id": "SZAa0SJZbFhP",
        "outputId": "ce283dd1-8469-4d5b-fa68-7c0bdcd21529"
      },
      "execution_count": null,
      "outputs": [
        {
          "output_type": "display_data",
          "data": {
            "text/html": [
              "<style>\n",
              ".list-inline {list-style: none; margin:0; padding: 0}\n",
              ".list-inline>li {display: inline-block}\n",
              ".list-inline>li:not(:last-child)::after {content: \"\\00b7\"; padding: 0 .5ex}\n",
              "</style>\n",
              "<ol class=list-inline><li>18</li><li>-11</li><li>9</li><li>-8</li></ol>\n"
            ],
            "text/markdown": "1. 18\n2. -11\n3. 9\n4. -8\n\n\n",
            "text/latex": "\\begin{enumerate*}\n\\item 18\n\\item -11\n\\item 9\n\\item -8\n\\end{enumerate*}\n",
            "text/plain": [
              "[1]  18 -11   9  -8"
            ]
          },
          "metadata": {}
        }
      ]
    },
    {
      "cell_type": "code",
      "source": [
        "y=1/2*(2*u-v-3*w)\n",
        "y"
      ],
      "metadata": {
        "colab": {
          "base_uri": "https://localhost:8080/",
          "height": 34
        },
        "id": "NXzwDhHAbLdc",
        "outputId": "db8f3829-c38c-4eda-d970-3b9a7a114bd8"
      },
      "execution_count": null,
      "outputs": [
        {
          "output_type": "display_data",
          "data": {
            "text/html": [
              "<style>\n",
              ".list-inline {list-style: none; margin:0; padding: 0}\n",
              ".list-inline>li {display: inline-block}\n",
              ".list-inline>li:not(:last-child)::after {content: \"\\00b7\"; padding: 0 .5ex}\n",
              "</style>\n",
              "<ol class=list-inline><li>9</li><li>-5.5</li><li>4.5</li><li>-4</li></ol>\n"
            ],
            "text/markdown": "1. 9\n2. -5.5\n3. 4.5\n4. -4\n\n\n",
            "text/latex": "\\begin{enumerate*}\n\\item 9\n\\item -5.5\n\\item 4.5\n\\item -4\n\\end{enumerate*}\n",
            "text/plain": [
              "[1]  9.0 -5.5  4.5 -4.0"
            ]
          },
          "metadata": {}
        }
      ]
    },
    {
      "cell_type": "markdown",
      "source": [
        "####Theorem 4.3: Properties of Additive Identity and Additive Inverse\n",
        "Let $\\textbf{v}$ be a vector in $\\mathbb{R}^n$, and let $c$ be a scalar. Then the properties below are true.\n",
        "1. The additive identity is unique. That is, if $\\textbf{v}+\\textbf{u}=\\textbf{v}$, then $\\textbf{u}=\\textbf{0}$.\n",
        "2. The additive inverse of $\\textbf{v}$ is unique. That is, if $\\textbf{v}+\\textbf{u}=\\textbf{0}$, then $\\textbf{u}=-\\textbf{v}$.\n",
        "3. $0\\textbf{v}=\\textbf{0}$\n",
        "4. $c\\textbf{0}=\\textbf{0}$\n",
        "5. If $c\\textbf{v}=\\textbf{0}$, then $c=0$ or $\\textbf{v}=\\textbf{0}$\n",
        "6. $-(-\\textbf{v})=\\textbf{v}$"
      ],
      "metadata": {
        "id": "ZZGMmNeRPB9s"
      }
    },
    {
      "cell_type": "markdown",
      "source": [
        "###Linear Combinations of Vectors\n",
        "An important type of problem in linear algebra involves writing one vector $\\textbf{x}$ as the sum of scalar multiples of other vectors $\\textbf{v}_1,\\textbf{v}_2,\\ldots$ and $\\textbf{v}_n$. That is, for scalars $c_1,c_2,\\ldots c_n$,\n",
        "$$\\textbf{x}=c_1\\textbf{v}_1+c_2\\textbf{v}_2+\\cdots +c_n\\textbf{v}_n.$$\n",
        "The vector $\\textbf{x}$ is called a **linear combination** of the vectors $\\textbf{v}_1,\\textbf{v}_2,\\ldots$ and $\\textbf{v}_n$."
      ],
      "metadata": {
        "id": "B92IaWBEPB5p"
      }
    },
    {
      "cell_type": "markdown",
      "source": [
        "####$\\star$Example \n",
        "Let $\\textbf{x}=\\langle -1,-2,-2\\rangle, \\textbf{u}=\\langle 0,1,4\\rangle,\\textbf{v}=\\langle -1,1,2\\rangle$, and $\\textbf{w}=\\langle 3,1,2\\rangle$ in $\\mathbb{R}^3$. Find scalars $a$, $b$, and $c$ such that \n",
        "$$\\textbf{x}=a\\textbf{u}+b\\textbf{v}+c\\textbf{w}$$\n",
        "<br>\n",
        "**Solution**<br>\n",
        "\\begin{align*}\n",
        "\\textbf{x}&=a\\textbf{u}+b\\textbf{v}+c\\textbf{w}\\\\\n",
        "\\langle -1,-2,-2\\rangle&= a\\langle 0,1,4\\rangle+b\\langle -1,1,2\\rangle+c\\langle 3,1,2\\rangle\\\\\n",
        "&=\\langle -b+3c,a+b+c,4a+2b+2c\\rangle\n",
        "\\end{align*}\n",
        "and equate corresponding components so that they form the system of three linear equations in  $a$, $b$, and $c$ shown below.\n",
        "\n",
        "\\begin{alignat*}{3}\n",
        "      & {}-{} & b & {}+{} & 3c &= -1\\\\\n",
        "    a & {}+{} & b & {}+{} & c &= -2\\\\\n",
        "    4a& {}+{} & 2b & {}+{} &2c &= -2\\\\\n",
        "\\end{alignat*} \n",
        "Solve for $a$, $b$, and $c$.\n",
        "\n"
      ],
      "metadata": {
        "id": "AAU_fKjxbsqL"
      }
    },
    {
      "cell_type": "code",
      "source": [
        "A <- matrix(c(0,-1,3,-1,1,1,1,-2,4,2,2,-2), 3, 4, byrow = TRUE)\n",
        "rref(A)"
      ],
      "metadata": {
        "colab": {
          "base_uri": "https://localhost:8080/",
          "height": 144
        },
        "id": "OQqoky-PfT7b",
        "outputId": "f144de93-f4f8-474f-9028-63650477b239"
      },
      "execution_count": null,
      "outputs": [
        {
          "output_type": "display_data",
          "data": {
            "text/html": [
              "<table class=\"dataframe\">\n",
              "<caption>A matrix: 3 × 4 of type dbl</caption>\n",
              "<tbody>\n",
              "\t<tr><td>1</td><td>0</td><td>0</td><td> 1</td></tr>\n",
              "\t<tr><td>0</td><td>1</td><td>0</td><td>-2</td></tr>\n",
              "\t<tr><td>0</td><td>0</td><td>1</td><td>-1</td></tr>\n",
              "</tbody>\n",
              "</table>\n"
            ],
            "text/markdown": "\nA matrix: 3 × 4 of type dbl\n\n| 1 | 0 | 0 |  1 |\n| 0 | 1 | 0 | -2 |\n| 0 | 0 | 1 | -1 |\n\n",
            "text/latex": "A matrix: 3 × 4 of type dbl\n\\begin{tabular}{llll}\n\t 1 & 0 & 0 &  1\\\\\n\t 0 & 1 & 0 & -2\\\\\n\t 0 & 0 & 1 & -1\\\\\n\\end{tabular}\n",
            "text/plain": [
              "     [,1] [,2] [,3] [,4]\n",
              "[1,] 1    0    0     1  \n",
              "[2,] 0    1    0    -2  \n",
              "[3,] 0    0    1    -1  "
            ]
          },
          "metadata": {}
        }
      ]
    }
  ],
  "metadata": {
    "kernelspec": {
      "display_name": "R",
      "language": "R",
      "name": "ir"
    },
    "language_info": {
      "codemirror_mode": "r",
      "file_extension": ".r",
      "mimetype": "text/x-r-source",
      "name": "R",
      "pygments_lexer": "r",
      "version": "3.6.1"
    },
    "colab": {
      "name": "4.1_Vectors_in_R^n.ipynb",
      "provenance": [],
      "collapsed_sections": [],
      "include_colab_link": true
    }
  },
  "nbformat": 4,
  "nbformat_minor": 0
}
