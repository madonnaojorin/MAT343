{
  "cells": [
    {
      "cell_type": "markdown",
      "metadata": {
        "id": "view-in-github",
        "colab_type": "text"
      },
      "source": [
        "<a href=\"https://colab.research.google.com/github/madonnaojorin/MAT343_Linear_Algebra/blob/main/6-2_Kernel_and_Range_of_LT.ipynb\" target=\"_parent\"><img src=\"https://colab.research.google.com/assets/colab-badge.svg\" alt=\"Open In Colab\"/></a>"
      ]
    },
    {
      "cell_type": "markdown",
      "source": [
        "#6.2. The Kernel and Range of a Linear Transformation\n"
      ],
      "metadata": {
        "id": "RTUN2FUd-zfi"
      }
    },
    {
      "cell_type": "code",
      "source": [
        "install.packages(\"pracma\")\n",
        "library(pracma)"
      ],
      "metadata": {
        "colab": {
          "base_uri": "https://localhost:8080/",
          "height": 481
        },
        "id": "LOh0_9_z_M1Y",
        "outputId": "7b1fdb1e-f942-43b7-f23c-cdb1bd0b6b81"
      },
      "execution_count": 2,
      "outputs": [
        {
          "output_type": "stream",
          "name": "stderr",
          "text": [
            "Installing package into ‘/usr/local/lib/R/site-library’\n",
            "(as ‘lib’ is unspecified)\n",
            "\n",
            "Installing package into ‘/usr/local/lib/R/site-library’\n",
            "(as ‘lib’ is unspecified)\n",
            "\n",
            "also installing the dependencies ‘numDeriv’, ‘SparseM’, ‘MatrixModels’, ‘sp’, ‘minqa’, ‘nloptr’, ‘Rcpp’, ‘RcppEigen’, ‘htmlwidgets’, ‘carData’, ‘abind’, ‘pbkrtest’, ‘quantreg’, ‘maptools’, ‘lme4’, ‘xtable’, ‘rgl’, ‘car’\n",
            "\n",
            "\n",
            "Warning message in install.packages(\"matlib\"):\n",
            "“installation of package ‘nloptr’ had non-zero exit status”\n",
            "Warning message in install.packages(\"matlib\"):\n",
            "“installation of package ‘lme4’ had non-zero exit status”\n",
            "Warning message in install.packages(\"matlib\"):\n",
            "“installation of package ‘pbkrtest’ had non-zero exit status”\n",
            "Warning message in install.packages(\"matlib\"):\n",
            "“installation of package ‘car’ had non-zero exit status”\n",
            "Warning message in install.packages(\"matlib\"):\n",
            "“installation of package ‘matlib’ had non-zero exit status”\n"
          ]
        },
        {
          "output_type": "error",
          "ename": "ERROR",
          "evalue": "ignored",
          "traceback": [
            "Error in library(matlib): there is no package called ‘matlib’\nTraceback:\n",
            "1. library(matlib)"
          ]
        }
      ]
    },
    {
      "cell_type": "markdown",
      "source": [
        "##Definition of Kernel of a Linear Transformation\n",
        "\n",
        "Let $T:V\\to W$ be a linear transformation. Then the set of all vectors $\\textbf{v}$ in $V$ that satisfy $T(\\textbf{v})=\\textbf{0}$ is the **kernel** of $T$ and is denoted by $\\ker (T)$."
      ],
      "metadata": {
        "id": "-BAo-jWe-1oz"
      }
    },
    {
      "cell_type": "markdown",
      "source": [
        "####$\\star$Example\n",
        "Let $T:\\mathbb{R}^2\\to\\mathbb{R}^2$ be the linear transformation $$T(\\textbf{x})=\\begin{bmatrix}1&3\\\\2&6\\end{bmatrix}\\begin{bmatrix}x_1\\\\x_2\\end{bmatrix}.$$ What are all of the vectors in the domain whose transformations map to the subset $S=\\left\\{\\begin{bmatrix}0\\\\0\\end{bmatrix}\\right\\}$? That is, what is the preimage of S?\n",
        "\n",
        "\\begin{align*}\n",
        "\\text{Preimage of }S \\text{ under } T\n",
        "&= \\{\\textbf{x}\\in\\mathbb{R}^2|T(\\textbf{x})\\in S\\}\\\\\n",
        "&= \\{\\textbf{x}\\in\\mathbb{R}^2|A\\textbf{x}=\\begin{bmatrix}0&0\\end{bmatrix}^T\\}\\\\\n",
        "\\end{align*}\n",
        "\n",
        "So, we want to find $x_1$ and $x_2$ that satisfies $$\\begin{bmatrix}1&3\\\\2&6\\end{bmatrix}\\begin{bmatrix}x_1\\\\x_2\\end{bmatrix}=\\begin{bmatrix}0\\\\0\\end{bmatrix}$$\n",
        "(Computation is shown below.)\n",
        "$$\\begin{bmatrix}x_1\\\\x_2\\end{bmatrix}=t\\begin{bmatrix}-3\\\\1\\end{bmatrix}$$\n",
        "where $t\\in\\mathbb{R}$.\n",
        "\n",
        "Let's define a set $S'=\\left.\\left\\{t\\begin{bmatrix}-3\\\\1\\end{bmatrix}\\right\\vert t\\in\\mathbb{R}\\right\\}$, then \n",
        "$$T(S')=\\{\\textbf{0}\\}$$\n",
        "This is equivalent to the nullspace.  The nullspace of a matrix is all the vectors that if we multiply it by that matrix, then we get 0. \n",
        "**Kernel** is the similar idea. The transformation $T$ is defined by a matrix, and our objective is to find the $x$ that gives us zero vector when transforming them. \n",
        "\n",
        "So, $$\\text{ker}(T)=\\left\\{\\textbf{x}\\in\\mathbb{R}^2|T(\\textbf{x})=\\{\\textbf{0}\\}\\right\\}=\\left\\{\\left.t\\begin{bmatrix}-3\\\\1\\end{bmatrix}\\right\\vert t\\in\\mathbb{R}\\right\\}$$\n",
        "\n",
        "$\\begin{bmatrix}-3\\\\1\\end{bmatrix}$ is the basis of ker$(T)$, that means, the kernel is a one-dimensional subset of $\\mathbb{R}^2$.\n",
        "\n"
      ],
      "metadata": {
        "id": "mfreKOJ_-3TF"
      }
    },
    {
      "cell_type": "code",
      "source": [
        "(A <- matrix(c(1,3,2,6), 2, 2, byrow = TRUE))\n",
        "rref(A)\n",
        "plot(-4:4, -4:4, type = \"n\") # setting up coord. system\n",
        "abline(0,-1/3, col = \"black\", lwd = 3)\n",
        "abline(v=0, lty=2)\n",
        "abline(h=0, lty=2)\n",
        "points(0,0,col=\"red\",pch = 19, cex = 2)"
      ],
      "metadata": {
        "colab": {
          "base_uri": "https://localhost:8080/",
          "height": 736
        },
        "id": "NzCTW2Xh-4Hz",
        "outputId": "7b6ca93a-9b2f-4550-c9d8-b58cb398578d"
      },
      "execution_count": 20,
      "outputs": [
        {
          "output_type": "display_data",
          "data": {
            "text/html": [
              "<table class=\"dataframe\">\n",
              "<caption>A matrix: 2 × 2 of type dbl</caption>\n",
              "<tbody>\n",
              "\t<tr><td>1</td><td>3</td></tr>\n",
              "\t<tr><td>2</td><td>6</td></tr>\n",
              "</tbody>\n",
              "</table>\n"
            ],
            "text/markdown": "\nA matrix: 2 × 2 of type dbl\n\n| 1 | 3 |\n| 2 | 6 |\n\n",
            "text/latex": "A matrix: 2 × 2 of type dbl\n\\begin{tabular}{ll}\n\t 1 & 3\\\\\n\t 2 & 6\\\\\n\\end{tabular}\n",
            "text/plain": [
              "     [,1] [,2]\n",
              "[1,] 1    3   \n",
              "[2,] 2    6   "
            ]
          },
          "metadata": {}
        },
        {
          "output_type": "display_data",
          "data": {
            "text/html": [
              "<table class=\"dataframe\">\n",
              "<caption>A matrix: 2 × 2 of type dbl</caption>\n",
              "<tbody>\n",
              "\t<tr><td>1</td><td>3</td></tr>\n",
              "\t<tr><td>0</td><td>0</td></tr>\n",
              "</tbody>\n",
              "</table>\n"
            ],
            "text/markdown": "\nA matrix: 2 × 2 of type dbl\n\n| 1 | 3 |\n| 0 | 0 |\n\n",
            "text/latex": "A matrix: 2 × 2 of type dbl\n\\begin{tabular}{ll}\n\t 1 & 3\\\\\n\t 0 & 0\\\\\n\\end{tabular}\n",
            "text/plain": [
              "     [,1] [,2]\n",
              "[1,] 1    3   \n",
              "[2,] 0    0   "
            ]
          },
          "metadata": {}
        },
        {
          "output_type": "display_data",
          "data": {
            "text/plain": [
              "plot without title"
            ],
            "image/png": "[encoded data removed]"
          },
          "metadata": {
            "image/png": {
              "width": 420,
              "height": 420
            }
          }
        }
      ]
    },
    {
      "cell_type": "markdown",
      "source": [
        "####$\\star$Example\n",
        "Let $T:M_{3,2}\\to M_{2,3}$ be the linear transformation that maps a $3\\times 2$ matrix $A$ to its transpose. That is, $T(A)=A^T$. Find the kernel of $T$.\n",
        "\n",
        "**Solution**\n",
        "\n",
        "For this linear transformation, the $3\\times2$ zero matrix is clearly the only matrix in $M_{3,2}$ whose transpose is the zero matrix in  $M_{2,3}$. \n",
        "$$T(A)=A^T=\\textbf{0}=\\begin{bmatrix}0&0&0\\\\0&0&0\\end{bmatrix}$$\n",
        "So, the kernel of $T$ consists of a single element: the zero matrix in $M_{3,2}$.\n",
        "\n"
      ],
      "metadata": {
        "id": "jv8Dkwf_bPW9"
      }
    },
    {
      "cell_type": "markdown",
      "source": [
        "####$\\star$Example\n",
        "Find the kernel of the projection $T:\\mathbb{R}^3\\to\\mathbb{R}^3$ represented by $T(\\langle x,y,z\\rangle)=\\langle x,y,0\\rangle$.\n",
        "\n",
        "**Solution**\n",
        "This linear transformation projects the vector $\\langle x,y,z\\rangle$ in $\\mathbb{R}^3$ to the vector $\\langle x,y,0\\rangle$ in the  xy-plane. The kernel consists of all vectors lying on the  z-axis. That is,\n",
        "\n",
        "$$\\text{ker}(T)=\\left\\{\\langle x,y,z\\rangle\\in\\mathbb{R}^3|T(\\langle x,y,z\\rangle)=\\langle x,y,0\\rangle=\\{\\textbf{0}\\}\\right\\}=\\{\\langle 0,0,z\\rangle: z \\text{ is a real number}\\}.$$\n",
        "\n",
        "\n"
      ],
      "metadata": {
        "id": "ds7IIP6NkRjz"
      }
    },
    {
      "cell_type": "markdown",
      "source": [
        "###Theorem 6.3: The Kernel Is a Subspace of $V$\n",
        "The kernel of a linear transformation $T:V\\to W$ is a subspace of the domain $V$.\n"
      ],
      "metadata": {
        "id": "KpAFIAvSkTVM"
      }
    },
    {
      "cell_type": "markdown",
      "source": [
        "####$\\star$Example\n",
        "Define $T:\\mathbb{R}^5\\to\\mathbb{R}^4$ by $T(\\textbf{x}=A\\textbf{x}$, where \\textbf{x} is in $\\mathbb{R}^5$ and\n",
        "$$A=\\begin{bmatrix}1&2&0&1&-1\\\\2&1&3&1&0\\\\-1&0&-2&0&1\\\\0&0&0&2&8\\end{bmatrix}$$\n",
        "Find a basis for ker$(T)$ as a subspace of $\\mathbb{R}^5$.\n"
      ],
      "metadata": {
        "id": "386vRjXZs1Kd"
      }
    },
    {
      "cell_type": "code",
      "source": [
        "(A <- matrix(c(1,2,0,1,-1,2,1,3,1,0,-1,0,-2,0,1,0,0,0,2,8), 4,5, byrow = TRUE))\n",
        "rref(A)"
      ],
      "metadata": {
        "colab": {
          "base_uri": "https://localhost:8080/",
          "height": 337
        },
        "id": "oKWQ_zbAvQlx",
        "outputId": "ca36afc9-4a38-42a1-ed74-2d4462c4f921"
      },
      "execution_count": 22,
      "outputs": [
        {
          "output_type": "display_data",
          "data": {
            "text/html": [
              "<table class=\"dataframe\">\n",
              "<caption>A matrix: 4 × 5 of type dbl</caption>\n",
              "<tbody>\n",
              "\t<tr><td> 1</td><td>2</td><td> 0</td><td>1</td><td>-1</td></tr>\n",
              "\t<tr><td> 2</td><td>1</td><td> 3</td><td>1</td><td> 0</td></tr>\n",
              "\t<tr><td>-1</td><td>0</td><td>-2</td><td>0</td><td> 1</td></tr>\n",
              "\t<tr><td> 0</td><td>0</td><td> 0</td><td>2</td><td> 8</td></tr>\n",
              "</tbody>\n",
              "</table>\n"
            ],
            "text/markdown": "\nA matrix: 4 × 5 of type dbl\n\n|  1 | 2 |  0 | 1 | -1 |\n|  2 | 1 |  3 | 1 |  0 |\n| -1 | 0 | -2 | 0 |  1 |\n|  0 | 0 |  0 | 2 |  8 |\n\n",
            "text/latex": "A matrix: 4 × 5 of type dbl\n\\begin{tabular}{lllll}\n\t  1 & 2 &  0 & 1 & -1\\\\\n\t  2 & 1 &  3 & 1 &  0\\\\\n\t -1 & 0 & -2 & 0 &  1\\\\\n\t  0 & 0 &  0 & 2 &  8\\\\\n\\end{tabular}\n",
            "text/plain": [
              "     [,1] [,2] [,3] [,4] [,5]\n",
              "[1,]  1   2     0   1    -1  \n",
              "[2,]  2   1     3   1     0  \n",
              "[3,] -1   0    -2   0     1  \n",
              "[4,]  0   0     0   2     8  "
            ]
          },
          "metadata": {}
        },
        {
          "output_type": "display_data",
          "data": {
            "text/html": [
              "<table class=\"dataframe\">\n",
              "<caption>A matrix: 4 × 5 of type dbl</caption>\n",
              "<tbody>\n",
              "\t<tr><td>1</td><td>0</td><td> 2</td><td>0</td><td>-1</td></tr>\n",
              "\t<tr><td>0</td><td>1</td><td>-1</td><td>0</td><td>-2</td></tr>\n",
              "\t<tr><td>0</td><td>0</td><td> 0</td><td>1</td><td> 4</td></tr>\n",
              "\t<tr><td>0</td><td>0</td><td> 0</td><td>0</td><td> 0</td></tr>\n",
              "</tbody>\n",
              "</table>\n"
            ],
            "text/markdown": "\nA matrix: 4 × 5 of type dbl\n\n| 1 | 0 |  2 | 0 | -1 |\n| 0 | 1 | -1 | 0 | -2 |\n| 0 | 0 |  0 | 1 |  4 |\n| 0 | 0 |  0 | 0 |  0 |\n\n",
            "text/latex": "A matrix: 4 × 5 of type dbl\n\\begin{tabular}{lllll}\n\t 1 & 0 &  2 & 0 & -1\\\\\n\t 0 & 1 & -1 & 0 & -2\\\\\n\t 0 & 0 &  0 & 1 &  4\\\\\n\t 0 & 0 &  0 & 0 &  0\\\\\n\\end{tabular}\n",
            "text/plain": [
              "     [,1] [,2] [,3] [,4] [,5]\n",
              "[1,] 1    0     2   0    -1  \n",
              "[2,] 0    1    -1   0    -2  \n",
              "[3,] 0    0     0   1     4  \n",
              "[4,] 0    0     0   0     0  "
            ]
          },
          "metadata": {}
        }
      ]
    },
    {
      "cell_type": "markdown",
      "source": [
        "Thus,\n",
        "\\begin{align*}\n",
        "x_1&=-2x_3+x_5\\\\\n",
        "x_2&=\\:\\:\\:\\:\\:\\:x_3+2x_5\\\\\n",
        "x_4&=\\:\\:\\:\\:\\:\\:\\:\\:\\:\\:\\:\\:\\:-4x_5\n",
        "\\end{align*}\n",
        "Letting $x_3=s$ and $x_5=t$, \n",
        "\\begin{align*}\\textbf{x}&=\\begin{bmatrix}x_1\\\\x_2\\\\x_3\\\\x_4\\\\x_5\\end{bmatrix}\\\\\n",
        "&=\\begin{bmatrix}-2s+t\\\\s+2t\\\\s+0t\\\\0s-4t\\\\0s+t\\end{bmatrix}\\\\\n",
        "&=s\\begin{bmatrix}-2\\\\1\\\\1\\\\0\\\\0\\end{bmatrix}+t\\begin{bmatrix}1\\\\2\\\\0\\\\-4\\\\1\\end{bmatrix}\n",
        "\\end{align*}\n",
        "\n",
        "So, a basis for the kernel of $T$ is $B=\\{\\langle-2,1,1,0,0\\rangle,\\langle1,2,0,-4,1\\rangle\\}$"
      ],
      "metadata": {
        "id": "2O8lUDylvlEK"
      }
    },
    {
      "cell_type": "markdown",
      "source": [
        "Again, a basis for the kernel of $T$ was found by solving the homogeneous system represented by $A\\textbf{x}=\\textbf{0}$. This procedure is the same procedure used to find the nullspace of $A$. In other words, the kernel of $T$ is the solution space of $A\\textbf{x}=\\textbf{0}$, as stated in the corollary to Theorem 6.3 below."
      ],
      "metadata": {
        "id": "4PkHaaZFxTqw"
      }
    },
    {
      "cell_type": "markdown",
      "source": [
        "###Theorem 6.3: Corollary\n",
        "Let $T:\\mathbb{R}^n\\to\\mathbb{R}^m$ be the linear transformation $T(\\textbf{x})=A\\textbf{x}$.\n",
        "Then the kernel of $T$ is equal to the solution space of $A\\textbf{x}=\\textbf{0}$."
      ],
      "metadata": {
        "id": "kwoxIk1qkWS8"
      }
    },
    {
      "cell_type": "markdown",
      "source": [
        "\n",
        "\n",
        "---\n",
        "\n",
        "The kernel is one of two critical subspaces associated with a linear transformation. The other is the range of $T$, denoted by range range$(T)$. Recall\n",
        "$$\\text{range}(T)=\\{T(\\textbf{v}): \\textbf{v}\\in V\\}$$\n",
        "\n"
      ],
      "metadata": {
        "id": "TiJ4NEIGbxjr"
      }
    },
    {
      "cell_type": "markdown",
      "source": [
        "###Theorem 6.4: The Range of $T$ Is a Subspace of $W$\n",
        "The range of a linear transformation $T:V\\to W$ is a subspace of $W$."
      ],
      "metadata": {
        "id": "OjYhRtJJkW5n"
      }
    },
    {
      "cell_type": "markdown",
      "source": [
        "![9781305658004-ch6-0075-t2.png](data:image/png;base64,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)"
      ],
      "metadata": {
        "id": "RO_a6H4zcRBj"
      }
    },
    {
      "cell_type": "markdown",
      "source": [
        "###Theorem 6.4: Corollary\n",
        "Let $T:\\mathbb{R}^n\\to\\mathbb{R}^m$ be the linear transformation $T(\\textbf{x})=A\\textbf{x}$.\n",
        "Then the column space of $A$ is equal to the range of $T$.\n"
      ],
      "metadata": {
        "id": "sYR3g6AZkYNI"
      }
    },
    {
      "cell_type": "markdown",
      "source": [
        "####$\\star$Example \n",
        "For the linear transformation $T:\\mathbb{R}^5\\to\\mathbb{R}^4$ from the previous example, find a basis for the range of $T$.\n",
        "\n",
        "**Solution:**\n",
        "\n",
        "The leading 1s appear in columns 1, 2, and 4 of the reduced matrix on the right, so the corresponding column vectors of $A$ form a basis for the column space of $A$. A basis for the range of $T$ is $$B=\\{⟨1,2,-1,0⟩,⟨2,1,0,0⟩,⟨1,1,0,2⟩\\}.$$\n",
        "\n"
      ],
      "metadata": {
        "id": "Qp0q1p3IchLW"
      }
    },
    {
      "cell_type": "markdown",
      "source": [
        "##Definition of Rank and Nullity of a Linear Transformation\n",
        "\n",
        "Let $T:V\\to W$ be a linear transformation. The dimension of the kernel of $T$ is called the **nullity** of $T$ and is denoted by **nullity**$(T)$. The dimension of the range of $T$ is called the **rank** of $T$ and is denoted by **rank**$(T)$."
      ],
      "metadata": {
        "id": "GYqdxIpakatH"
      }
    },
    {
      "cell_type": "markdown",
      "source": [
        "###Theorem 6.5: Sum of Rank and Nullity\n",
        "Let $T:V\\to W$ be a linear transformation from an $n$-dimensional vector space $V$ into a vector space $W$. Then the sum of the dimensions of the range and kernel is equal to the dimension of the domain. That is,\n",
        "$$\\text{rank}(T)+\\text{nullity}(T)=n$$\n",
        "or\n",
        "$$\\dim (\\text{range})+\\dim (\\text{kernel})=\\dim(\\text{domain}).$$"
      ],
      "metadata": {
        "id": "X5QP8NQskcl3"
      }
    },
    {
      "cell_type": "markdown",
      "source": [
        "####$\\star$Example\n",
        "Find the rank and nullity of the linear transformation $T:\\mathbb{R}^3\\to\\mathbb{R}^3$ defined by the matrix\n",
        "$$A=\\begin{bmatrix}1&0&-2\\\\0&1&1\\\\0&0&0\\end{bmatrix}$$\n",
        "\n",
        "**Solution:**\n",
        "\n",
        "$A$ is in reduced row-echelon form and has two nonzero rows, so it has a rank of 2. This means that the rank of $T$ is also 2, and the nullity is $dim(domain)-rank=3-2=1.$\n",
        "\n"
      ],
      "metadata": {
        "id": "OSiTiIilddtD"
      }
    },
    {
      "cell_type": "markdown",
      "source": [
        "####$\\star$Example\n",
        "Let $T:\\mathbb{R}^5\\to\\mathbb{R}^7$ be a linear transformation.\n",
        "\n",
        "1. Find the dimension of the kernel of $T$ when the dimension of the range is 2.\n",
        "2. Find the rank of $T$ when the nullity of $T$ is 4.\n",
        "3. Find the rank of $T$ when **ker**$(T)=\\{\\textbf{0}\\}$.\n",
        "\n",
        "**Solution:**\n",
        "\n",
        "1. By Theorem 6.5, with $n=5$, \n",
        "$$\\text{dim(kernel)}=n-\\text{dim(range)}=5-2=3$$\n",
        "\n",
        "\n",
        "2. By Theorem 6.5, with $n=5$, \n",
        "$$\\text{rank(T)}=n-\\text{nullity(T)}=5-4=1$$\n",
        "\n",
        "\n",
        "3. The nullity of $T$ is 0. So, \n",
        "$$\\text{rank(T)}=n-\\text{nullity(T)}=5-0=5$$\n",
        "\n"
      ],
      "metadata": {
        "id": "c2d_w3-2eVw4"
      }
    },
    {
      "cell_type": "markdown",
      "source": [
        "###Theorem 6.6: One-to-One Linear Transformations\n",
        "Let $T:V\\to W$ be a linear transformation. Then $T$ is one-to-one if and only if $\\text{ker}(T)=\\{\\textbf{0}\\}$.\n"
      ],
      "metadata": {
        "id": "v7VVCIAeketR"
      }
    },
    {
      "cell_type": "markdown",
      "source": [
        "###Theorem 6.7: Onto Linear Transformations\n",
        "Let $T:V\\to W$ be a linear transformation, where $W$ is finite dimensional. Then $T$ is onto if and only if the rank of $T$ is equal to the dimension of $W$."
      ],
      "metadata": {
        "id": "LLJKEHgjkgoz"
      }
    },
    {
      "cell_type": "markdown",
      "source": [
        "###Theorem 6.8: One-to-One and Onto Linear Transformations\n",
        "Let $T:V\\to W$ be a linear transformation with vector spaces $V$ and $W$, both of dimension $n$. Then $T$ is one-to-one if and only if it is onto."
      ],
      "metadata": {
        "id": "Xkx59kH2kiXr"
      }
    },
    {
      "cell_type": "markdown",
      "source": [
        "##Definition: Isomorphism\n",
        "A linear transformation $T:V\\to W$  that is one-to-one and onto is called an **isomorphism**. Moreover, if $V$ and $W$ are vector spaces such that there exists an isomorphism from $V$ to $W$, then $V$ and $W$ are isomorphic to each other."
      ],
      "metadata": {
        "id": "EGaqKq8MkkBr"
      }
    },
    {
      "cell_type": "markdown",
      "source": [
        "###Theorem 6.9: Isomorphic Spaces and Dimension\n",
        "Two finite-dimensional vector spaces $V$ and $W$ are isomorphic if and only if they are of the same dimension.\n"
      ],
      "metadata": {
        "id": "aOkP2RJokl-K"
      }
    },
    {
      "cell_type": "code",
      "source": [
        ""
      ],
      "metadata": {
        "id": "H34ldQft-6GN"
      },
      "execution_count": null,
      "outputs": []
    }
  ],
  "metadata": {
    "kernelspec": {
      "display_name": "R",
      "language": "R",
      "name": "ir"
    },
    "language_info": {
      "codemirror_mode": "r",
      "file_extension": ".r",
      "mimetype": "text/x-r-source",
      "name": "R",
      "pygments_lexer": "r",
      "version": "3.6.1"
    },
    "colab": {
      "name": "6-2_Kernel_and_Range_of LT.ipynb",
      "provenance": [],
      "collapsed_sections": [],
      "include_colab_link": true
    }
  },
  "nbformat": 4,
  "nbformat_minor": 0
}