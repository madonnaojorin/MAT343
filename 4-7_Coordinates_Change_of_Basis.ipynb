{
  "cells": [
    {
      "cell_type": "markdown",
      "metadata": {
        "id": "view-in-github",
        "colab_type": "text"
      },
      "source": [
        "<a href=\"https://colab.research.google.com/github/madonnaojorin/MAT343_Linear_Algebra/blob/main/4-7_Coordinates_Change_of_Basis.ipynb\" target=\"_parent\"><img src=\"https://colab.research.google.com/assets/colab-badge.svg\" alt=\"Open In Colab\"/></a>"
      ]
    },
    {
      "cell_type": "markdown",
      "source": [
        "#4.7. Coordinates and Change of Basis"
      ],
      "metadata": {
        "id": "nrzhacvlTKj5"
      }
    },
    {
      "cell_type": "code",
      "source": [
        "install.packages(\"pracma\")\n",
        "library(pracma)"
      ],
      "metadata": {
        "id": "ZmZNE7bQbG20",
        "colab": {
          "base_uri": "https://localhost:8080/"
        },
        "outputId": "fb695229-81d0-4ef7-a516-0ec05ab01496"
      },
      "execution_count": 5,
      "outputs": [
        {
          "output_type": "stream",
          "name": "stderr",
          "text": [
            "Installing package into ‘/usr/local/lib/R/site-library’\n",
            "(as ‘lib’ is unspecified)\n",
            "\n"
          ]
        }
      ]
    },
    {
      "cell_type": "markdown",
      "source": [
        "##Definition: Coordinate Representation Relative to a Basis\n",
        "Let $B=\\{\\textbf{v}_1,\\textbf{v}_2,\\ldots,\\textbf{v}_n\\}$ be an ordered basis for a vector space $V$ and let $\\textbf{x}$ be a vector in $V$ such that\n",
        "$$\\textbf{x}=c_1\\textbf{v}_1+c_2\\textbf{v}_2+c_n\\textbf{v}_n.$$\n",
        "The scalars $c_1,c_2,\\ldots,c_n$ are the **coordinates of** $\\textbf{x}$ **relative to the basis** $B$. The **coordinate matrix** (or **coordinate vector**) **of** $\\textbf{x}$ **relative to** $B$ is the column matrix in $\\mathbb{R}^n$ whose components are the coordinates of $\\textbf{x}$.\n",
        "$$[\\textbf{x}]_B=\\begin{bmatrix}c_1\\\\c_2\\\\\\vdots\\\\c_n\n",
        "\\end{bmatrix}$$"
      ],
      "metadata": {
        "id": "MK3NN-J0TLx8"
      }
    },
    {
      "cell_type": "markdown",
      "source": [
        "####$\\star$Example\n",
        "(a) Find the coordinate matrix of $\\textbf{x}=\\langle -2,1,3\\rangle$ in $\\mathbb{R}^3$ relative to the standard basis $$S=\\{\\langle 1,0,0 \\rangle,\\langle 0,1,0\\rangle,\\langle 0,0,1\\rangle\\}$$\n",
        "\n",
        "**Solution:**\n",
        "\n",
        "$$\\textbf{x}=\\langle-2,1,3\\rangle=-2\\langle 1,0,0 \\rangle+1\\langle 0,1,0\\rangle+3\\langle 0,0,1\\rangle$$\n",
        "\n",
        "Therefore, the coordinate matrix of $\\textbf{x}$ relative to the standard basis is simply\n",
        "$$[\\textbf{x}]_S=\\begin{bmatrix}-2\\\\1\\\\3\\end{bmatrix}.$$\n"
      ],
      "metadata": {
        "id": "hLTQe7yauyxf"
      }
    },
    {
      "cell_type": "markdown",
      "source": [
        "(b) The coordinate matrix of $\\textbf{x}$ in $\\mathbb{R}^2$ relative to the ordered basis $$B=\\{\\textbf{v}_1,\\textbf{v}_2\\}=\\{\\langle 1,0 \\rangle,\\langle 1,2\\rangle\\}$$\n",
        "is $$[\\textbf{x}]_B=\\begin{bmatrix}3\\\\2\\end{bmatrix}.$$\n",
        "\n",
        "Find the coordinate matrix of $\\textbf{x}$ relative to the standard basis $$B'=\\{\\textbf{u}_1,\\textbf{u}_2\\}=\\{\\langle 1,0 \\rangle,\\langle 0,1\\rangle\\}$$\n",
        "\n",
        "**Solution:**\n",
        "\n",
        "$$\\textbf{x}=3\\textbf{v}_1+2\\textbf{v}_2=3\\langle 1,0 \\rangle+2\\langle 1,2\\rangle=\\langle 5,4 \\rangle=5\\langle 1,0 \\rangle+4\\langle 0,1 \\rangle$$\n",
        "\n",
        "Therefore, the coordinate matrix of $\\textbf{x}$ relative to the standard basis is simply\n",
        "$$[\\textbf{x}]_{B'}=\\begin{bmatrix}5\\\\4\\end{bmatrix}.$$"
      ],
      "metadata": {
        "id": "GdNJFX5kwKSp"
      }
    },
    {
      "cell_type": "markdown",
      "source": [
        "###Theorem 4.19: The Inverse of a Transition Matrix\n",
        "If $P$ is the transition matrix from a basis $B'$ to a basis $B$ in $\\mathbb{R}^n$, then $P$ is invertible and the transition matrix from $B$ to $B'$ is $P^{-1}$."
      ],
      "metadata": {
        "id": "ZZBY54ujTl2J"
      }
    },
    {
      "cell_type": "markdown",
      "source": [
        "###Lemma\n",
        "Let $B=\\{\\textbf{v}_1,\\textbf{v}_2,\\ldots,\\textbf{v}_n\\}$ and $B'=\\{\\textbf{u}_1,\\textbf{u}_2,\\ldots,\\textbf{u}_n\\}$  be two bases for a vector space $V$. If\n",
        "\\begin{align*}\n",
        "    \\textbf{v}_1&=c_{11}\\textbf{u}_1+c_{21}\\textbf{u}_2+\\cdots+c_{n1}\\textbf{u}_n\\\\\n",
        "    \\textbf{v}_2&=c_{12}\\textbf{u}_1+c_{22}\\textbf{u}_2+\\cdots+c_{n2}\\textbf{u}_n\\\\\n",
        "    &\\vdots\\\\\n",
        "    \\textbf{v}_n&=c_{1n}\\textbf{u}_1+c_{2n}\\textbf{u}_2+\\cdots+c_{nn}\\textbf{u}_n\\\\\n",
        "\\end{align*}\n",
        "\n",
        "then the transition matrix from $B$ to $B'$ is\n",
        "$$Q=\\begin{bmatrix}\n",
        "c_{11}&c_{12}&\\cdots&c_{1n}\\\\\n",
        "c_{21}&c_{22}&\\cdots&c_{2n}\\\\\n",
        "\\vdots&\\vdots&&\\vdots\\\\\n",
        "c_{n1}&c_{n2}&\\cdots&c_{nn}\\\\\n",
        "\\end{bmatrix}$$\n"
      ],
      "metadata": {
        "id": "_YBPQbecTr1L"
      }
    },
    {
      "cell_type": "markdown",
      "source": [
        "###Theorem 4.12: Transition Matrix from $B$ to $B'$\n",
        "Let $$B=\\{\\textbf{v}_1,\\textbf{v}_2, \\ldots,\\textbf{v}_n\\}$$\n",
        "and\n",
        "$$B'=\\{\\textbf{u}_1,\\textbf{u}_2, \\ldots,\\textbf{u}_n\\}$$\n",
        "\n",
        "be two bases for $\\mathbb{R}^n$. Then the transition matrix $P^{-1}$ from $B$ to $B'$ can be found by using Gauss-Jordan elimination on the $n\\times 2n$ matrix $[B\\:\\:\\:B']$, as shown below.\n",
        "$$[B'\\:\\:\\:B]⇒[I_n\\:\\:\\:P^{-1}]$$\n",
        "\n"
      ],
      "metadata": {
        "id": "a2AydLOxpTbB"
      }
    },
    {
      "cell_type": "markdown",
      "source": [
        "####$\\star$Example\n",
        "Find the transition matrix from $B$ to $B'$ for the bases for $\\mathbb{R}^n$ below.\n",
        "\n",
        "$$B=\\{\\langle 1,0,0\\rangle,\\langle 0,1,0\\rangle,\\langle 0,0,1\\rangle\\}$$\n",
        "and\n",
        "$$B=\\{\\langle 1,0,1\\rangle,\\langle 0,-1,2\\rangle,\\langle 2,3,-5\\rangle\\}$$\n",
        "\n",
        "**Solutions:**\n",
        "\n",
        "$$B=\\begin{bmatrix}1&0&0\\\\0&1&0\\\\0&0&1\\end{bmatrix},\\:\\:\\:\\:B'=\\begin{bmatrix}1&0&1\\\\0&-1&2\\\\2&3&-5\\end{bmatrix}$$\n",
        "\n",
        "$$[B'\\:\\:\\: B]=\\begin{bmatrix}1&0&1&1&0&0\\\\0&-1&2&0&1&0\\\\2&3&-5&0&0&1\\end{bmatrix}⇒\\begin{bmatrix}1&0&0&-1&3&1\\\\0&1&0&4&-7&-2\\\\0&0&1&2&-3&-1\\end{bmatrix}$$\n",
        "The transition matrix from $B$ to $B'$ is\n",
        "$$P^{-1}=\\begin{bmatrix}-1&3&1\\\\4&-7&-2\\\\2&-3&-1\\end{bmatrix}.$$"
      ],
      "metadata": {
        "id": "LYP0Fg33qMDj"
      }
    },
    {
      "cell_type": "code",
      "source": [
        "(B_ <- matrix(c(1,0,1,0,-1,2,2,3,-5), 3, 3, byrow = TRUE))\n",
        "(B <- matrix(c(1,0,0,0,1,0,0,0,1),3 ,3, byrow = TRUE))\n",
        "(B_B <- cbind(B_,B))\n",
        "rref(B_B)\n",
        "# Check \n",
        "inv(B_)"
      ],
      "metadata": {
        "id": "ESnpT-g_C03f",
        "colab": {
          "base_uri": "https://localhost:8080/",
          "height": 567
        },
        "outputId": "30a71f63-d121-4ee6-b0e4-17aa050b050a"
      },
      "execution_count": 6,
      "outputs": [
        {
          "output_type": "display_data",
          "data": {
            "text/html": [
              "<table class=\"dataframe\">\n",
              "<caption>A matrix: 3 × 3 of type dbl</caption>\n",
              "<tbody>\n",
              "\t<tr><td>1</td><td> 0</td><td> 1</td></tr>\n",
              "\t<tr><td>0</td><td>-1</td><td> 2</td></tr>\n",
              "\t<tr><td>2</td><td> 3</td><td>-5</td></tr>\n",
              "</tbody>\n",
              "</table>\n"
            ],
            "text/markdown": "\nA matrix: 3 × 3 of type dbl\n\n| 1 |  0 |  1 |\n| 0 | -1 |  2 |\n| 2 |  3 | -5 |\n\n",
            "text/latex": "A matrix: 3 × 3 of type dbl\n\\begin{tabular}{lll}\n\t 1 &  0 &  1\\\\\n\t 0 & -1 &  2\\\\\n\t 2 &  3 & -5\\\\\n\\end{tabular}\n",
            "text/plain": [
              "     [,1] [,2] [,3]\n",
              "[1,] 1     0    1  \n",
              "[2,] 0    -1    2  \n",
              "[3,] 2     3   -5  "
            ]
          },
          "metadata": {}
        },
        {
          "output_type": "display_data",
          "data": {
            "text/html": [
              "<table class=\"dataframe\">\n",
              "<caption>A matrix: 3 × 3 of type dbl</caption>\n",
              "<tbody>\n",
              "\t<tr><td>1</td><td>0</td><td>0</td></tr>\n",
              "\t<tr><td>0</td><td>1</td><td>0</td></tr>\n",
              "\t<tr><td>0</td><td>0</td><td>1</td></tr>\n",
              "</tbody>\n",
              "</table>\n"
            ],
            "text/markdown": "\nA matrix: 3 × 3 of type dbl\n\n| 1 | 0 | 0 |\n| 0 | 1 | 0 |\n| 0 | 0 | 1 |\n\n",
            "text/latex": "A matrix: 3 × 3 of type dbl\n\\begin{tabular}{lll}\n\t 1 & 0 & 0\\\\\n\t 0 & 1 & 0\\\\\n\t 0 & 0 & 1\\\\\n\\end{tabular}\n",
            "text/plain": [
              "     [,1] [,2] [,3]\n",
              "[1,] 1    0    0   \n",
              "[2,] 0    1    0   \n",
              "[3,] 0    0    1   "
            ]
          },
          "metadata": {}
        },
        {
          "output_type": "display_data",
          "data": {
            "text/html": [
              "<table class=\"dataframe\">\n",
              "<caption>A matrix: 3 × 6 of type dbl</caption>\n",
              "<tbody>\n",
              "\t<tr><td>1</td><td> 0</td><td> 1</td><td>1</td><td>0</td><td>0</td></tr>\n",
              "\t<tr><td>0</td><td>-1</td><td> 2</td><td>0</td><td>1</td><td>0</td></tr>\n",
              "\t<tr><td>2</td><td> 3</td><td>-5</td><td>0</td><td>0</td><td>1</td></tr>\n",
              "</tbody>\n",
              "</table>\n"
            ],
            "text/markdown": "\nA matrix: 3 × 6 of type dbl\n\n| 1 |  0 |  1 | 1 | 0 | 0 |\n| 0 | -1 |  2 | 0 | 1 | 0 |\n| 2 |  3 | -5 | 0 | 0 | 1 |\n\n",
            "text/latex": "A matrix: 3 × 6 of type dbl\n\\begin{tabular}{llllll}\n\t 1 &  0 &  1 & 1 & 0 & 0\\\\\n\t 0 & -1 &  2 & 0 & 1 & 0\\\\\n\t 2 &  3 & -5 & 0 & 0 & 1\\\\\n\\end{tabular}\n",
            "text/plain": [
              "     [,1] [,2] [,3] [,4] [,5] [,6]\n",
              "[1,] 1     0    1   1    0    0   \n",
              "[2,] 0    -1    2   0    1    0   \n",
              "[3,] 2     3   -5   0    0    1   "
            ]
          },
          "metadata": {}
        },
        {
          "output_type": "display_data",
          "data": {
            "text/html": [
              "<table class=\"dataframe\">\n",
              "<caption>A matrix: 3 × 6 of type dbl</caption>\n",
              "<tbody>\n",
              "\t<tr><td>1</td><td>0</td><td>0</td><td>-1</td><td> 3</td><td> 1</td></tr>\n",
              "\t<tr><td>0</td><td>1</td><td>0</td><td> 4</td><td>-7</td><td>-2</td></tr>\n",
              "\t<tr><td>0</td><td>0</td><td>1</td><td> 2</td><td>-3</td><td>-1</td></tr>\n",
              "</tbody>\n",
              "</table>\n"
            ],
            "text/markdown": "\nA matrix: 3 × 6 of type dbl\n\n| 1 | 0 | 0 | -1 |  3 |  1 |\n| 0 | 1 | 0 |  4 | -7 | -2 |\n| 0 | 0 | 1 |  2 | -3 | -1 |\n\n",
            "text/latex": "A matrix: 3 × 6 of type dbl\n\\begin{tabular}{llllll}\n\t 1 & 0 & 0 & -1 &  3 &  1\\\\\n\t 0 & 1 & 0 &  4 & -7 & -2\\\\\n\t 0 & 0 & 1 &  2 & -3 & -1\\\\\n\\end{tabular}\n",
            "text/plain": [
              "     [,1] [,2] [,3] [,4] [,5] [,6]\n",
              "[1,] 1    0    0    -1    3    1  \n",
              "[2,] 0    1    0     4   -7   -2  \n",
              "[3,] 0    0    1     2   -3   -1  "
            ]
          },
          "metadata": {}
        }
      ]
    }
  ],
  "metadata": {
    "kernelspec": {
      "display_name": "R",
      "language": "R",
      "name": "ir"
    },
    "language_info": {
      "codemirror_mode": "r",
      "file_extension": ".r",
      "mimetype": "text/x-r-source",
      "name": "R",
      "pygments_lexer": "r",
      "version": "3.6.1"
    },
    "colab": {
      "name": "4-7_Coordinates_Change_of_Basis.ipynb",
      "provenance": [],
      "collapsed_sections": [],
      "include_colab_link": true
    }
  },
  "nbformat": 4,
  "nbformat_minor": 0
}