{
  "cells": [
    {
      "cell_type": "markdown",
      "metadata": {
        "id": "view-in-github",
        "colab_type": "text"
      },
      "source": [
        "<a href=\"https://colab.research.google.com/github/madonnaojorin/MAT343_Linear_Algebra/blob/main/5-1_2_InnerProduct.ipynb\" target=\"_parent\"><img src=\"https://colab.research.google.com/assets/colab-badge.svg\" alt=\"Open In Colab\"/></a>"
      ]
    },
    {
      "cell_type": "markdown",
      "source": [
        "#5.1. Length and Dot Product in $\\mathbb{R}^n$"
      ],
      "metadata": {
        "id": "AY2suoPExsOh"
      }
    },
    {
      "cell_type": "markdown",
      "source": [
        "##Definition of the Length of a Vector in $\\mathbb{R}^n$\n",
        "The **length**, or **norm**, of a vector $\\textbf{v}=\\langle v_1, v_2,\\ldots,v_n\\rangle$ in $\\mathbb{R}^n$ is\n",
        "$$||\\textbf{v}||=\\sqrt{v_1^2+v_2^2+\\cdots+v_n^2}$$\n",
        "The length of a vector is also called its **magnitude**. If $||\\textbf{v}||=1$, then the vector $\\textbf{v}$ is a **unit vector**."
      ],
      "metadata": {
        "id": "Ff2keQv0x0Fr"
      }
    },
    {
      "cell_type": "markdown",
      "source": [
        "###Theorem 5.1: Length of a Scalar Multiple\n",
        "Let $\\textbf{v}$ be a vector in $\\mathbb{R}^n$ and let $c$ be a scalar. Then\n",
        "$$||c\\textbf{v}||=|c|||\\textbf{v}||$$\n",
        "where $|c|$ is the absolute value of c."
      ],
      "metadata": {
        "id": "hpL0-QbLyCbL"
      }
    },
    {
      "cell_type": "markdown",
      "source": [
        "###Theorem 5.2: Unit Vector in the Direction of $\\textbf{v}$\n",
        "If $\\textbf{v}$ is a nonzero vector in $\\mathbb{R}^n$, then the vector\n",
        "$$\\textbf{u}=\\frac{\\textbf{v}}{||\\textbf{v}||}$$\n",
        "has length 1 and has the same direction as $\\textbf{v}$. This vector $\\textbf{u}$ is the **unit vector in the direction of $\\textbf{v}$**."
      ],
      "metadata": {
        "id": "MZA197ynyGRM"
      }
    },
    {
      "cell_type": "markdown",
      "source": [
        "####$\\star$Example\n",
        "Find the unit vector in the direction of $\\textbf{v}=\\langle 3,-1,2\\rangle$, and verify that this vector has length 1.\n",
        "\n",
        "**Solution**\n",
        "\n",
        "The unit vector in the direction of $\\textbf{v}$ is\n",
        "$$\\frac{\\textbf{v}}{||\\textbf{v}||}=\\frac{\\langle 3,-1,2\\rangle}{\\sqrt{3^2+(-1)^2+2^2}}=\\left\\langle \\frac{3}{\\sqrt{14}},-\\frac{1}{\\sqrt{14}},\\frac{2}{\\sqrt{14}}\\right\\rangle$$\n",
        "which is a unit vector because\n",
        "$$\\sqrt{\\left(\\frac{3}{\\sqrt{14}}\\right)^2+\\left(-\\frac{1}{\\sqrt{14}}\\right)^2+\\left(\\frac{2}{\\sqrt{14}}\\right)^2}=\\sqrt{\\frac{9+1+4}{14}}=1$$\n"
      ],
      "metadata": {
        "id": "6rs4xZWoA7Lq"
      }
    },
    {
      "cell_type": "code",
      "source": [
        "#Check with R\n",
        "norm(c(3,-1,2), type=\"2\")\n",
        "sqrt(14)"
      ],
      "metadata": {
        "colab": {
          "base_uri": "https://localhost:8080/",
          "height": 51
        },
        "id": "iKD2DzfPCTmx",
        "outputId": "a9258d4d-6bc6-4fa0-a4a8-a1df04126e43"
      },
      "execution_count": null,
      "outputs": [
        {
          "output_type": "display_data",
          "data": {
            "text/html": [
              "3.74165738677394"
            ],
            "text/markdown": "3.74165738677394",
            "text/latex": "3.74165738677394",
            "text/plain": [
              "[1] 3.741657"
            ]
          },
          "metadata": {}
        },
        {
          "output_type": "display_data",
          "data": {
            "text/html": [
              "3.74165738677394"
            ],
            "text/markdown": "3.74165738677394",
            "text/latex": "3.74165738677394",
            "text/plain": [
              "[1] 3.741657"
            ]
          },
          "metadata": {}
        }
      ]
    },
    {
      "cell_type": "markdown",
      "source": [
        "##Definition of Distance Between Two Vectors\n",
        "The distance between two vectors $\\textbf{u}$ and $\\textbf{v}$ in $\\mathbb{R}^n$ is\n",
        "$$d(\\textbf{u},\\textbf{v})=||\\textbf{u}-\\textbf{v}||.$$"
      ],
      "metadata": {
        "id": "mBc9-lCgySGU"
      }
    },
    {
      "cell_type": "markdown",
      "source": [
        "####$\\star$Example\n",
        "Find the distance between\n",
        "\n",
        "(1) $\\textbf{u}=\\langle -1,-4\\rangle$ and $\\textbf{u}=\\langle 2,3\\rangle$\n",
        "\n",
        "(2)  $\\textbf{u}=\\langle 0,2,2\\rangle$ and $\\textbf{u}=\\langle 2,0,1\\rangle$\n",
        "\n",
        "(3)  $\\textbf{u}=\\langle 3,-1,0,-3\\rangle$ and $\\textbf{u}=\\langle 4,0,1,2\\rangle$\n"
      ],
      "metadata": {
        "id": "sKDymBu-ENrg"
      }
    },
    {
      "cell_type": "code",
      "source": [
        "# Function to calculate Euclidean distance\n",
        "Euclidean_distance <- function(vec1, vec2) {\n",
        "  sqrt(sum((vec1 - vec2)^2))}"
      ],
      "metadata": {
        "id": "wS0ju6_hEOOu"
      },
      "execution_count": null,
      "outputs": []
    },
    {
      "cell_type": "code",
      "source": [
        "#(1)\n",
        "u1 <- c(-1,-4)\n",
        "v1 <- c(2,3)\n",
        "  \n",
        "Euclidean_distance(u1, v1)\n",
        "sqrt(58)"
      ],
      "metadata": {
        "colab": {
          "base_uri": "https://localhost:8080/",
          "height": 69
        },
        "id": "Ziq8hr1vFEZo",
        "outputId": "96de92dc-4403-4bd0-b302-ccd042969878"
      },
      "execution_count": null,
      "outputs": [
        {
          "output_type": "display_data",
          "data": {
            "text/html": [
              "1"
            ],
            "text/markdown": "1",
            "text/latex": "1",
            "text/plain": [
              "[1] 1"
            ]
          },
          "metadata": {}
        },
        {
          "output_type": "display_data",
          "data": {
            "text/html": [
              "7.61577310586391"
            ],
            "text/markdown": "7.61577310586391",
            "text/latex": "7.61577310586391",
            "text/plain": [
              "[1] 7.615773"
            ]
          },
          "metadata": {}
        },
        {
          "output_type": "display_data",
          "data": {
            "text/html": [
              "7.61577310586391"
            ],
            "text/markdown": "7.61577310586391",
            "text/latex": "7.61577310586391",
            "text/plain": [
              "[1] 7.615773"
            ]
          },
          "metadata": {}
        }
      ]
    },
    {
      "cell_type": "code",
      "source": [
        "#(2)\n",
        "u2 <- c(0,2,2)\n",
        "v2 <- c(2,0,1)\n",
        "  \n",
        "Euclidean_distance(u2, v2)"
      ],
      "metadata": {
        "colab": {
          "base_uri": "https://localhost:8080/",
          "height": 51
        },
        "id": "eVYoX-JUFfTv",
        "outputId": "8c333ac6-658d-4ae9-c0f8-579976b0073a"
      },
      "execution_count": null,
      "outputs": [
        {
          "output_type": "display_data",
          "data": {
            "text/html": [
              "2"
            ],
            "text/markdown": "2",
            "text/latex": "2",
            "text/plain": [
              "[1] 2"
            ]
          },
          "metadata": {}
        },
        {
          "output_type": "display_data",
          "data": {
            "text/html": [
              "3"
            ],
            "text/markdown": "3",
            "text/latex": "3",
            "text/plain": [
              "[1] 3"
            ]
          },
          "metadata": {}
        }
      ]
    },
    {
      "cell_type": "code",
      "source": [
        "#(3)\n",
        "u3 <- c(3,-1,0,-3)\n",
        "v3 <- c(4,0,1,2)\n",
        "  \n",
        "Euclidean_distance(u3, v3)\n",
        "sqrt(28)"
      ],
      "metadata": {
        "colab": {
          "base_uri": "https://localhost:8080/",
          "height": 51
        },
        "id": "8jkHuFtQFelY",
        "outputId": "ea009ece-0996-4622-f593-099bfe10fc48"
      },
      "execution_count": null,
      "outputs": [
        {
          "output_type": "display_data",
          "data": {
            "text/html": [
              "5.29150262212918"
            ],
            "text/markdown": "5.29150262212918",
            "text/latex": "5.29150262212918",
            "text/plain": [
              "[1] 5.291503"
            ]
          },
          "metadata": {}
        },
        {
          "output_type": "display_data",
          "data": {
            "text/html": [
              "5.29150262212918"
            ],
            "text/markdown": "5.29150262212918",
            "text/latex": "5.29150262212918",
            "text/plain": [
              "[1] 5.291503"
            ]
          },
          "metadata": {}
        }
      ]
    },
    {
      "cell_type": "markdown",
      "source": [
        "##Definition of Dot Product in $\\mathbb{R}^n$\n",
        "The dot product of $\\textbf{u}=\\langle u_1,u_2,\\ldots,u_n\\rangle$ and $\\textbf{v}=\\langle v_1,v_2,\\ldots,v_n\\rangle$ is the scalar quantity\n",
        "$$\\textbf{u}\\cdot\\textbf{v}=u_1v_1+u_2v_2+\\cdots +u_nv_n.$$\n"
      ],
      "metadata": {
        "id": "HcePcnAnyV6B"
      }
    },
    {
      "cell_type": "markdown",
      "source": [
        "####$\\star$Example \n",
        "Find the dot product of $\\textbf{u}=\\langle 1,2,0,-3\\rangle$ and $\\textbf{u}=\\langle 3,-2,4,2\\rangle$.\n",
        "\n"
      ],
      "metadata": {
        "id": "-HRM-R-OGFgx"
      }
    },
    {
      "cell_type": "code",
      "source": [
        "#define vectors\n",
        "u <- c(1,2,0,-3)\n",
        "v <- c(3,-2,4,2)\n",
        "\n",
        "#calculate dot product between vectors\n",
        "u %*% v"
      ],
      "metadata": {
        "colab": {
          "base_uri": "https://localhost:8080/",
          "height": 152
        },
        "id": "t1PnZhB5GT8W",
        "outputId": "4d227c00-3042-41a1-e494-9ab5d967647c"
      },
      "execution_count": null,
      "outputs": [
        {
          "output_type": "display_data",
          "data": {
            "text/html": [
              "<table class=\"dataframe\">\n",
              "<caption>A matrix: 1 × 1 of type dbl</caption>\n",
              "<tbody>\n",
              "\t<tr><td>-7</td></tr>\n",
              "</tbody>\n",
              "</table>\n"
            ],
            "text/markdown": "\nA matrix: 1 × 1 of type dbl\n\n| -7 |\n\n",
            "text/latex": "A matrix: 1 × 1 of type dbl\n\\begin{tabular}{l}\n\t -7\\\\\n\\end{tabular}\n",
            "text/plain": [
              "     [,1]\n",
              "[1,] -7  "
            ]
          },
          "metadata": {}
        }
      ]
    },
    {
      "cell_type": "markdown",
      "source": [
        "###Theorem 5.3: Properties of the Dot Product\n",
        "If $\\textbf{u}$, $\\textbf{v}$, and $\\textbf{w}$ are vectors in $\\mathbb{R}^n$ and $c$ is a scalar, then the properties listed below are true.\n",
        "1. $\\textbf{u}\\cdot\\textbf{v}=\\textbf{v}\\cdot\\textbf{u}$\n",
        "2. $\\textbf{u}\\cdot(\\textbf{v}+\\textbf{w})=\\textbf{u}\\cdot\\textbf{v}+\\textbf{u}\\cdot\\textbf{w}$\n",
        "3. $c(\\textbf{u}\\cdot\\textbf{v})=(c\\textbf{u}\\cdot\\textbf{v}=\\textbf{u}\\cdot(c\\textbf{v)}$\n",
        "4. $\\textbf{v}\\cdot\\textbf{v}=||\\textbf{v}||^2$\n",
        "5. $\\textbf{v}\\cdot\\textbf{v}\\geq 0$, and $\\textbf{v}\\cdot\\textbf{v}= 0$ if and only if $\\textbf{v}=\\textbf{0}$."
      ],
      "metadata": {
        "id": "oN9lSxJbyaUX"
      }
    },
    {
      "cell_type": "markdown",
      "source": [
        "####$\\star$Example\n",
        "Let $\\textbf{u}=\\langle 2,-2\\rangle$, $\\textbf{v}=\\langle5,8\\rangle$, and $\\textbf{w}=\\langle -4,3\\rangle$. Find each quantity.\n",
        "\n",
        "(1) $\\textbf{u}\\cdot\\textbf{v}$\n",
        "\n",
        "(2) $(\\textbf{u}\\cdot\\textbf{v})\\textbf{w}$\n",
        "\n",
        "(3) $\\textbf{u}\\cdot(2\\textbf{v})$\n",
        "\n",
        "(4) $||\\textbf{w}||^2$\n",
        "\n",
        "(5) $\\textbf{u}\\cdot(\\textbf{v}-2\\textbf{w})$\n",
        "\n",
        "\n",
        "\n",
        "\n",
        "\n",
        "\n"
      ],
      "metadata": {
        "id": "w1QQ3xTFGpVO"
      }
    },
    {
      "cell_type": "code",
      "source": [
        "u = c(2,-2)\n",
        "v = c(5,8) \n",
        "w = c(-4,3)"
      ],
      "metadata": {
        "colab": {
          "base_uri": "https://localhost:8080/",
          "height": 152
        },
        "id": "PXmtsvyqHjcI",
        "outputId": "aed29e87-e07c-4a04-919e-981db2710270"
      },
      "execution_count": null,
      "outputs": [
        {
          "output_type": "display_data",
          "data": {
            "text/html": [
              "<table class=\"dataframe\">\n",
              "<caption>A matrix: 1 × 1 of type dbl</caption>\n",
              "<tbody>\n",
              "\t<tr><td>-6</td></tr>\n",
              "</tbody>\n",
              "</table>\n"
            ],
            "text/markdown": "\nA matrix: 1 × 1 of type dbl\n\n| -6 |\n\n",
            "text/latex": "A matrix: 1 × 1 of type dbl\n\\begin{tabular}{l}\n\t -6\\\\\n\\end{tabular}\n",
            "text/plain": [
              "     [,1]\n",
              "[1,] -6  "
            ]
          },
          "metadata": {}
        }
      ]
    },
    {
      "cell_type": "code",
      "source": [
        "#(1)\n",
        "u%*%v"
      ],
      "metadata": {
        "colab": {
          "base_uri": "https://localhost:8080/",
          "height": 152
        },
        "id": "agWdoMz1HxsP",
        "outputId": "6ecdc417-74ac-4b16-f6a5-7b5bdf47dccc"
      },
      "execution_count": null,
      "outputs": [
        {
          "output_type": "display_data",
          "data": {
            "text/html": [
              "<table class=\"dataframe\">\n",
              "<caption>A matrix: 1 × 1 of type dbl</caption>\n",
              "<tbody>\n",
              "\t<tr><td>-6</td></tr>\n",
              "</tbody>\n",
              "</table>\n"
            ],
            "text/markdown": "\nA matrix: 1 × 1 of type dbl\n\n| -6 |\n\n",
            "text/latex": "A matrix: 1 × 1 of type dbl\n\\begin{tabular}{l}\n\t -6\\\\\n\\end{tabular}\n",
            "text/plain": [
              "     [,1]\n",
              "[1,] -6  "
            ]
          },
          "metadata": {}
        }
      ]
    },
    {
      "cell_type": "code",
      "source": [
        "#(2)\n",
        "(u%*%v)*w"
      ],
      "metadata": {
        "colab": {
          "base_uri": "https://localhost:8080/",
          "height": 104
        },
        "id": "KfDIDwtlHzDO",
        "outputId": "2e7f024c-75ec-40b7-fd6f-38335de9bc08"
      },
      "execution_count": null,
      "outputs": [
        {
          "output_type": "stream",
          "name": "stderr",
          "text": [
            "Warning message in (u %*% v) * w:\n",
            "“Recycling array of length 1 in array-vector arithmetic is deprecated.\n",
            "  Use c() or as.vector() instead.\n",
            "”\n"
          ]
        },
        {
          "output_type": "display_data",
          "data": {
            "text/html": [
              "<style>\n",
              ".list-inline {list-style: none; margin:0; padding: 0}\n",
              ".list-inline>li {display: inline-block}\n",
              ".list-inline>li:not(:last-child)::after {content: \"\\00b7\"; padding: 0 .5ex}\n",
              "</style>\n",
              "<ol class=list-inline><li>24</li><li>-18</li></ol>\n"
            ],
            "text/markdown": "1. 24\n2. -18\n\n\n",
            "text/latex": "\\begin{enumerate*}\n\\item 24\n\\item -18\n\\end{enumerate*}\n",
            "text/plain": [
              "[1]  24 -18"
            ]
          },
          "metadata": {}
        }
      ]
    },
    {
      "cell_type": "code",
      "source": [
        "#(3)\n",
        "u%*%(2*v)"
      ],
      "metadata": {
        "colab": {
          "base_uri": "https://localhost:8080/",
          "height": 152
        },
        "id": "7N0_OH58H43r",
        "outputId": "d0bd24d3-d2e1-4180-e564-bd3dce79b770"
      },
      "execution_count": null,
      "outputs": [
        {
          "output_type": "display_data",
          "data": {
            "text/html": [
              "<table class=\"dataframe\">\n",
              "<caption>A matrix: 1 × 1 of type dbl</caption>\n",
              "<tbody>\n",
              "\t<tr><td>-12</td></tr>\n",
              "</tbody>\n",
              "</table>\n"
            ],
            "text/markdown": "\nA matrix: 1 × 1 of type dbl\n\n| -12 |\n\n",
            "text/latex": "A matrix: 1 × 1 of type dbl\n\\begin{tabular}{l}\n\t -12\\\\\n\\end{tabular}\n",
            "text/plain": [
              "     [,1]\n",
              "[1,] -12 "
            ]
          },
          "metadata": {}
        }
      ]
    },
    {
      "cell_type": "code",
      "source": [
        "#(5)\n",
        "(norm(w,type = \"2\"))^2"
      ],
      "metadata": {
        "colab": {
          "base_uri": "https://localhost:8080/",
          "height": 34
        },
        "id": "8_AFST19ICHs",
        "outputId": "cecebed2-33f1-4362-fef8-b48cd6875d99"
      },
      "execution_count": null,
      "outputs": [
        {
          "output_type": "display_data",
          "data": {
            "text/html": [
              "25"
            ],
            "text/markdown": "25",
            "text/latex": "25",
            "text/plain": [
              "[1] 25"
            ]
          },
          "metadata": {}
        }
      ]
    },
    {
      "cell_type": "code",
      "source": [
        "#(6)\n",
        "u%*%(v-2*w)"
      ],
      "metadata": {
        "colab": {
          "base_uri": "https://localhost:8080/",
          "height": 152
        },
        "id": "zxzQ0dcXIS7x",
        "outputId": "fafb3586-7486-4036-df93-2ce118454a89"
      },
      "execution_count": null,
      "outputs": [
        {
          "output_type": "display_data",
          "data": {
            "text/html": [
              "<table class=\"dataframe\">\n",
              "<caption>A matrix: 1 × 1 of type dbl</caption>\n",
              "<tbody>\n",
              "\t<tr><td>22</td></tr>\n",
              "</tbody>\n",
              "</table>\n"
            ],
            "text/markdown": "\nA matrix: 1 × 1 of type dbl\n\n| 22 |\n\n",
            "text/latex": "A matrix: 1 × 1 of type dbl\n\\begin{tabular}{l}\n\t 22\\\\\n\\end{tabular}\n",
            "text/plain": [
              "     [,1]\n",
              "[1,] 22  "
            ]
          },
          "metadata": {}
        }
      ]
    },
    {
      "cell_type": "markdown",
      "source": [
        "###Theorem 5.4: The Cauchy-Schwarz Inequality\n",
        "If $\\textbf{u}$ and $\\textbf{v}$ are vectors in $\\mathbb{R}^n$, then\n",
        "$$|\\textbf{u}\\cdot\\textbf{v}\\leq||\\textbf{u}||||\\textbf{v}||$$\n",
        "where $|\\textbf{u}\\cdot\\textbf{v}|$ denotes the absolute value of $\\textbf{u}\\cdot\\textbf{v}$."
      ],
      "metadata": {
        "id": "gwbbT-InykG3"
      }
    },
    {
      "cell_type": "markdown",
      "source": [
        "##Definition of the Angle Between Two Vectors in $\\mathbb{R}^n$\n",
        "The angle $\\theta$ between two nonzero vectors in $\\mathbb{R}^n$ can be found using\n",
        "$$\\cos\\theta=\\frac{\\textbf{u}\\cdot\\textbf{v}}{||\\textbf{u}||||\\textbf{v}||}, 0\\leq\\theta\\leq\\pi$$"
      ],
      "metadata": {
        "id": "Qgyc0jpnynwB"
      }
    },
    {
      "cell_type": "markdown",
      "source": [
        "##Definition of Orthogonal Vectors\n",
        "Two vectors $\\textbf{u}$ and $\\textbf{v}$ in $\\mathbb{R}^n$ are **orthogonal** when $$\\textbf{u}\\cdot\\textbf{v}=0$$"
      ],
      "metadata": {
        "id": "4XXOBXiWysK3"
      }
    },
    {
      "cell_type": "markdown",
      "source": [
        "###Theorem 5.5: The Triangle Inequality\n",
        "If $\\textbf{u}$ and $\\textbf{v}$ are vectors in $\\mathbb{R}^n$, then\n",
        "$$||\\textbf{u}+\\textbf{v}||\\leq ||\\textbf{u}||+||\\textbf{v}||.$$\n"
      ],
      "metadata": {
        "id": "a5VVJmHoyzk1"
      }
    },
    {
      "cell_type": "markdown",
      "source": [
        "###Theorem 5.6: The Pythagorean Theorem\n",
        "If $\\textbf{u}$ and $\\textbf{v}$ are vectors in $\\mathbb{R}^n$, then $\\textbf{u}$ and $\\textbf{v}$ are orthogonal if and only if\n",
        "$$||\\textbf{u}+\\textbf{v}||^2=||\\textbf{u}||^2+||\\textbf{v}||^2.$$"
      ],
      "metadata": {
        "id": "dvvRc9rT0Mha"
      }
    },
    {
      "cell_type": "markdown",
      "source": [
        "#5.2. Inner Product Spaces"
      ],
      "metadata": {
        "id": "Y0revE4D0Sxz"
      }
    },
    {
      "cell_type": "markdown",
      "source": [
        "##Definition of Inner Product\n",
        "Let $\\textbf{u}$, $\\textbf{v}$, and $\\textbf{w}$ be vectors in a vector space $V$, and let $c$ be any scalar. An \\textbf{inner product} on $V$ is a function that associates a real number $\\langle\\textbf{u},\\textbf{v}\\rangle$ with each pair of vectors $\\textbf{u}$ and $\\textbf{v}$ and satisfies the axioms listed below.\n",
        "1. $\\langle\\textbf{u},\\textbf{v}\\rangle=\\langle\\textbf{v},\\textbf{u}\\rangle$\n",
        "2. $\\langle\\textbf{u},\\textbf{v}+\\textbf{w}\\rangle=\\langle\\textbf{u},\\textbf{v}\\rangle+\\langle\\textbf{u},\\textbf{w}\\rangle$\n",
        "3. $c\\langle\\textbf{u},\\textbf{v}\\rangle=\\langle c\\textbf{u},\\textbf{v}\\rangle$\n",
        "4. $\\langle\\textbf{v},\\textbf{v}\\rangle\\geq 0$, and $\\langle\\textbf{v},\\textbf{v}\\rangle=0$ if and only if $\\textbf{v}=\\textbf{0}$."
      ],
      "metadata": {
        "id": "kZ3He-qF0Q21"
      }
    },
    {
      "cell_type": "markdown",
      "source": [
        "###Theorem 5.7: Properties of Inner Products\n",
        "Let $\\textbf{u}$, $\\textbf{v}$, and $\\textbf{w}$ be vectors in an inner product space $V$, and let $c$ be any real number.\n",
        "1. $\\langle\\textbf{0},\\textbf{v}\\rangle=\\langle\\textbf{v},\\textbf{0}\\rangle=0$\n",
        "2. $\\langle\\textbf{u}+\\textbf{v},\\textbf{w}\\rangle=\\langle\\textbf{u},\\textbf{w}\\rangle+\\langle\\textbf{v},\\textbf{w}\\rangle$\n",
        "3. $\\langle\\textbf{u},c\\textbf{v}\\rangle=c\\langle \\textbf{u},\\textbf{v}\\rangle$"
      ],
      "metadata": {
        "id": "PIOfhDEd0c_C"
      }
    },
    {
      "cell_type": "markdown",
      "source": [
        "##Definitions of Length, Distance, and Angle\n",
        "Let $\\textbf{u}$ and $\\textbf{v}$ be vectors in an inner product space $V$.\n",
        "1. The **length** (or **norm**) of $\\textbf{u}$ is $||\\textbf{u}||=\\sqrt{\\langle\\textbf{u},\\textbf{u}\\rangle}$.\n",
        "2. The **distance** between $\\textbf{u}$ and $\\textbf{v}$ is $d(\\textbf{u},\\textbf{v})=||\\textbf{u}-\\textbf{v}||$.\n",
        "3. The angle between two nonzero vectors $\\textbf{u}$ and $\\textbf{v}$ can be found using $$\\cos\\theta=\\frac{\\langle\\textbf{u},\\textbf{u}\\rangle}{||\\textbf{u}||||\\textbf{v}||},0\\leq \\theta\\pi.$$\n",
        "4. $\\textbf{u}$ and $\\textbf{v}$ are orthogonal when $\\langle\\textbf{u},\\textbf{v}\\rangle=0.$"
      ],
      "metadata": {
        "id": "F56wIuwh0kB5"
      }
    },
    {
      "cell_type": "markdown",
      "source": [
        "###Theorem 5.8\n",
        "Let $\\textbf{u}$ and $\\textbf{v}$ be vectors in an inner product space $V$.\n",
        "1. Cauchy-Schwarz Inequality: $|\\langle\\textbf{u},\\textbf{v}\\rangle|\\leq||\\textbf{u}||||\\textbf{v}||$\n",
        "2. Triangle inequality: $||\\textbf{u}+\\textbf{v}|||\\leq||\\textbf{u}||+||\\textbf{v}||$\n",
        "3. Pythagorean Theorem: $\\textbf{u}$ and $\\textbf{v}$ are orthogonal if and only if     $$||\\textbf{u}+\\textbf{v}||^2=||\\textbf{u}||^2+||\\textbf{v}||^2$$\n"
      ],
      "metadata": {
        "id": "GBQX9Ha804Jg"
      }
    },
    {
      "cell_type": "markdown",
      "source": [
        "##Definition of Orthogonal Projection\n",
        "Let $\\textbf{u}$ and $\\textbf{v}$ be vectors in an inner product space $V$, such that $\\textbf{v}\\neq \\textbf{0}$. Then the **orthogonal projection** of $\\textbf{u}$ onto $\\textbf{v}$ is\n",
        "$$\\text{proj}_\\textbf{v}\\textbf{u}=\\frac{\\langle\\textbf{u},\\textbf{v}\\rangle}{\\langle\\textbf{v},\\textbf{v}\\rangle}\\textbf{v}.$$\n"
      ],
      "metadata": {
        "id": "w88Xva120_sk"
      }
    },
    {
      "cell_type": "markdown",
      "source": [
        "###Theorem 5.9: Orthogonal Projection and Distance\n",
        "Let $\\textbf{u}$ and $\\textbf{v}$ be two vectors in an inner product space $V$, such that $\\textbf{v}\\neq0$. Then\n",
        "$$d(\\textbf{u},\\text{proj}_\\textbf{v}\\textbf{u})<d(\\textbf{u},c\\textbf{v}), c\\neq \\frac{\\langle\\textbf{u},\\textbf{v}\\rangle}{\\langle\\textbf{v},\\textbf{v}\\rangle}$$"
      ],
      "metadata": {
        "id": "Umq1CZYV1GEP"
      }
    }
  ],
  "metadata": {
    "kernelspec": {
      "display_name": "R",
      "language": "R",
      "name": "ir"
    },
    "language_info": {
      "codemirror_mode": "r",
      "file_extension": ".r",
      "mimetype": "text/x-r-source",
      "name": "R",
      "pygments_lexer": "r",
      "version": "3.6.1"
    },
    "colab": {
      "name": "5-1:2_InnerProduct.ipynb",
      "provenance": [],
      "collapsed_sections": [],
      "include_colab_link": true
    }
  },
  "nbformat": 4,
  "nbformat_minor": 0
}