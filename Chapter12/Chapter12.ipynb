{
  "nbformat": 4,
  "nbformat_minor": 0,
  "metadata": {
    "colab": {
      "provenance": [],
      "collapsed_sections": [],
      "include_colab_link": true
    },
    "kernelspec": {
      "name": "ir",
      "display_name": "R"
    },
    "language_info": {
      "name": "R"
    }
  },
  "cells": [
    {
      "cell_type": "markdown",
      "metadata": {
        "id": "view-in-github",
        "colab_type": "text"
      },
      "source": [
        "<a href=\"https://colab.research.google.com/github/madonnaojorin/MAT343_Linear_Algebra/blob/main/Chapter12/Chapter12.ipynb\" target=\"_parent\"><img src=\"https://colab.research.google.com/assets/colab-badge.svg\" alt=\"Open In Colab\"/></a>"
      ]
    },
    {
      "cell_type": "markdown",
      "source": [
        "#12.1 Three-Dimensional Coordinate Systems"
      ],
      "metadata": {
        "id": "AW-3ZRgGqh3b"
      }
    },
    {
      "cell_type": "markdown",
      "source": [
        "##Distance Formula in Three Dimensions\n",
        "\n",
        "The distance $|P_1P_2|$ between the points $P_1(x_1,y_1,z_1)$ and $P_2(x_2,y_2,z_2)$ is\n",
        "$$|P_1P_2|=\\sqrt{(x_2-x_1)^2+(y_2-y_1)^2+(z_2-z_1)^2}$$"
      ],
      "metadata": {
        "id": "xTbthD16qlHY"
      }
    },
    {
      "cell_type": "markdown",
      "source": [
        "####$\\star$ Example \n",
        "The distance from the point $P(2,-1,7)$ to the point $Q(1,-3,5)$ is\n",
        "$$|PQ|=\\sqrt{(1-2)^2+(-3+1)^2+(5-7)^2}=\\sqrt{1+4+4}=3$$\n",
        "\n"
      ],
      "metadata": {
        "id": "_HfFhimeql8L"
      }
    },
    {
      "cell_type": "code",
      "execution_count": null,
      "metadata": {
        "colab": {
          "base_uri": "https://localhost:8080/",
          "height": 149
        },
        "id": "iUy5_ga1qASq",
        "outputId": "affc19e0-0c31-4d2c-eb9b-cd20a8ece944"
      },
      "outputs": [
        {
          "output_type": "display_data",
          "data": {
            "text/html": [
              "<table class=\"dataframe\">\n",
              "<caption>A matrix: 2 × 3 of type dbl</caption>\n",
              "<tbody>\n",
              "\t<tr><th scope=row>P</th><td>2</td><td>-1</td><td>7</td></tr>\n",
              "\t<tr><th scope=row>Q</th><td>1</td><td>-3</td><td>5</td></tr>\n",
              "</tbody>\n",
              "</table>\n"
            ],
            "text/markdown": "\nA matrix: 2 × 3 of type dbl\n\n| P | 2 | -1 | 7 |\n| Q | 1 | -3 | 5 |\n\n",
            "text/latex": "A matrix: 2 × 3 of type dbl\n\\begin{tabular}{r|lll}\n\tP & 2 & -1 & 7\\\\\n\tQ & 1 & -3 & 5\\\\\n\\end{tabular}\n",
            "text/plain": [
              "  [,1] [,2] [,3]\n",
              "P 2    -1   7   \n",
              "Q 1    -3   5   "
            ]
          },
          "metadata": {}
        },
        {
          "output_type": "display_data",
          "data": {
            "text/plain": [
              "  P\n",
              "Q 3"
            ]
          },
          "metadata": {}
        }
      ],
      "source": [
        "# The syntax for the distance: dist()\n",
        "P=c(2,-1,7)\n",
        "Q=c(1,-3,5)\n",
        "(PQ=rbind(P,Q))\n",
        "dist(PQ)"
      ]
    },
    {
      "cell_type": "markdown",
      "source": [
        "##Equation of a Sphere\n",
        "An equation of a sphere with center $C(h,k,l)$ and radius $r$ is\n",
        "$$(x-h)^2+(y-k)^2+(z-l)^2=r^2$$\n",
        "In particular, if the center is the origin $O$, then an equation of the sphere is \n",
        "$$x^2+y^2+z^2=r^2$$"
      ],
      "metadata": {
        "id": "1ZC9_I_-qvym"
      }
    },
    {
      "cell_type": "markdown",
      "source": [
        "#12.2 Vectors"
      ],
      "metadata": {
        "id": "QjX24LOlqwoF"
      }
    },
    {
      "cell_type": "markdown",
      "source": [
        "##Definition of Vector Addition\n",
        "If $\\textbf{u}$ and $\\textbf{v}$ are vectors positioned so the initial point of $\\textbf{v}$ is at the terminal point of $\\textbf{u}$, then the sum $\\textbf{u}+\\textbf{v}$ is the vector from the initial point of $\\textbf{u}$ to the terminal point of $\\textbf{v}$."
      ],
      "metadata": {
        "id": "yYWZ3HRdqztE"
      }
    },
    {
      "cell_type": "markdown",
      "source": [
        "##Definition of Scalar Multiplication\n",
        "If $c$ is a scalar and $\\textbf{v}$ is a vector, then the scalar multiple $c\\textbf{v}$ is the vector whose length is $|c|$ times the length of $\\textbf{v}$ and whose direction is the same as $\\textbf{v}$ if $c > 0$ and is opposite to  $\\textbf{v}$ if $c < 0$. If $c = 0$ or $\\textbf{v}= 0$, then $c\\textbf{v}= 0$."
      ],
      "metadata": {
        "id": "TlWrOec6q2G8"
      }
    },
    {
      "cell_type": "markdown",
      "source": [
        "Given the points $A(x_1, y_1, z_1)$ and $B(x_2, y_2, z_2)$, the vector $\\textbf{a}$ with representation $\\vec{AB}$ is \n",
        "$$\\textbf{a}=\\langle x_2-x_1,y_2-y_1,z_2-z_1\\rangle$$\n",
        "\n",
        "\n",
        "The length of the two-dimensional vector $\\textbf{a}=\\langle a_1,a_2\\rangle$ is \n",
        "$$|\\textbf{a}|=\\sqrt{a_1^2+a_2^2}$$\n",
        "\n",
        "The length of the three-dimensional vector $\\textbf{a}=\\langle a_1,a_2,a_3\\rangle$ is \n",
        "$$|\\textbf{a}|=\\sqrt{a_1^2+a_2^2+a_3^2}$$\n"
      ],
      "metadata": {
        "id": "UvcmfEYIq36U"
      }
    },
    {
      "cell_type": "markdown",
      "source": [
        "####$\\star$ Example \n",
        "If $\\textbf{a}=\\langle4,0,3\\rangle$ and $\\textbf{b}=\\langle-2,1,5\\rangle$, find $|\\textbf{a}|$ and the vectors $\\textbf{a}+\\textbf{b}$, $\\textbf{a}-\\textbf{b}$, $3\\textbf{b}$, and $2\\textbf{a}+5\\textbf{b}$."
      ],
      "metadata": {
        "id": "lizLgi8Ns3tc"
      }
    },
    {
      "cell_type": "code",
      "source": [
        "# To find a magnitude/length of a vector: norm(a,type=\"2\")\n",
        "\n",
        "a=c(4,0,3)\n",
        "b=c(-2,1,5)\n",
        "norm(a,type=\"2\")\n",
        "a+b\n",
        "a-b\n",
        "3*b\n",
        "2*a+5*b"
      ],
      "metadata": {
        "colab": {
          "base_uri": "https://localhost:8080/",
          "height": 104
        },
        "id": "GdqbM5TxtbcJ",
        "outputId": "b348a0ec-b0a9-4edc-cf7c-7d2c17df7603"
      },
      "execution_count": null,
      "outputs": [
        {
          "output_type": "display_data",
          "data": {
            "text/html": [
              "5"
            ],
            "text/markdown": "5",
            "text/latex": "5",
            "text/plain": [
              "[1] 5"
            ]
          },
          "metadata": {}
        },
        {
          "output_type": "display_data",
          "data": {
            "text/html": [
              "<style>\n",
              ".list-inline {list-style: none; margin:0; padding: 0}\n",
              ".list-inline>li {display: inline-block}\n",
              ".list-inline>li:not(:last-child)::after {content: \"\\00b7\"; padding: 0 .5ex}\n",
              "</style>\n",
              "<ol class=list-inline><li>2</li><li>1</li><li>8</li></ol>\n"
            ],
            "text/markdown": "1. 2\n2. 1\n3. 8\n\n\n",
            "text/latex": "\\begin{enumerate*}\n\\item 2\n\\item 1\n\\item 8\n\\end{enumerate*}\n",
            "text/plain": [
              "[1] 2 1 8"
            ]
          },
          "metadata": {}
        },
        {
          "output_type": "display_data",
          "data": {
            "text/html": [
              "<style>\n",
              ".list-inline {list-style: none; margin:0; padding: 0}\n",
              ".list-inline>li {display: inline-block}\n",
              ".list-inline>li:not(:last-child)::after {content: \"\\00b7\"; padding: 0 .5ex}\n",
              "</style>\n",
              "<ol class=list-inline><li>6</li><li>-1</li><li>-2</li></ol>\n"
            ],
            "text/markdown": "1. 6\n2. -1\n3. -2\n\n\n",
            "text/latex": "\\begin{enumerate*}\n\\item 6\n\\item -1\n\\item -2\n\\end{enumerate*}\n",
            "text/plain": [
              "[1]  6 -1 -2"
            ]
          },
          "metadata": {}
        },
        {
          "output_type": "display_data",
          "data": {
            "text/html": [
              "<style>\n",
              ".list-inline {list-style: none; margin:0; padding: 0}\n",
              ".list-inline>li {display: inline-block}\n",
              ".list-inline>li:not(:last-child)::after {content: \"\\00b7\"; padding: 0 .5ex}\n",
              "</style>\n",
              "<ol class=list-inline><li>-6</li><li>3</li><li>15</li></ol>\n"
            ],
            "text/markdown": "1. -6\n2. 3\n3. 15\n\n\n",
            "text/latex": "\\begin{enumerate*}\n\\item -6\n\\item 3\n\\item 15\n\\end{enumerate*}\n",
            "text/plain": [
              "[1] -6  3 15"
            ]
          },
          "metadata": {}
        },
        {
          "output_type": "display_data",
          "data": {
            "text/html": [
              "<style>\n",
              ".list-inline {list-style: none; margin:0; padding: 0}\n",
              ".list-inline>li {display: inline-block}\n",
              ".list-inline>li:not(:last-child)::after {content: \"\\00b7\"; padding: 0 .5ex}\n",
              "</style>\n",
              "<ol class=list-inline><li>-2</li><li>5</li><li>31</li></ol>\n"
            ],
            "text/markdown": "1. -2\n2. 5\n3. 31\n\n\n",
            "text/latex": "\\begin{enumerate*}\n\\item -2\n\\item 5\n\\item 31\n\\end{enumerate*}\n",
            "text/plain": [
              "[1] -2  5 31"
            ]
          },
          "metadata": {}
        }
      ]
    },
    {
      "cell_type": "code",
      "source": [
        "norm(c(4,7,-4)-c(3,-1,1),type=\"2\")\n",
        "norm(c(6,3,-2),type=\"2\")\n",
        "sqrt(1+64+25)\n",
        "1+64+25\n",
        "245-16"
      ],
      "metadata": {
        "colab": {
          "base_uri": "https://localhost:8080/",
          "height": 104
        },
        "id": "F6B7ye8tT8OM",
        "outputId": "53295ad9-4c45-4d6d-b19b-7d383f8eb738"
      },
      "execution_count": null,
      "outputs": [
        {
          "output_type": "display_data",
          "data": {
            "text/html": [
              "9.48683298050514"
            ],
            "text/markdown": "9.48683298050514",
            "text/latex": "9.48683298050514",
            "text/plain": [
              "[1] 9.486833"
            ]
          },
          "metadata": {}
        },
        {
          "output_type": "display_data",
          "data": {
            "text/html": [
              "7"
            ],
            "text/markdown": "7",
            "text/latex": "7",
            "text/plain": [
              "[1] 7"
            ]
          },
          "metadata": {}
        },
        {
          "output_type": "display_data",
          "data": {
            "text/html": [
              "9.48683298050514"
            ],
            "text/markdown": "9.48683298050514",
            "text/latex": "9.48683298050514",
            "text/plain": [
              "[1] 9.486833"
            ]
          },
          "metadata": {}
        },
        {
          "output_type": "display_data",
          "data": {
            "text/html": [
              "90"
            ],
            "text/markdown": "90",
            "text/latex": "90",
            "text/plain": [
              "[1] 90"
            ]
          },
          "metadata": {}
        },
        {
          "output_type": "display_data",
          "data": {
            "text/html": [
              "229"
            ],
            "text/markdown": "229",
            "text/latex": "229",
            "text/plain": [
              "[1] 229"
            ]
          },
          "metadata": {}
        }
      ]
    },
    {
      "cell_type": "markdown",
      "source": [
        "##Standard Basis Vectors\n",
        "$$\\textbf{i}=\\langle 1,0,0\\rangle, \\textbf{ j}=\\langle 0,1,0\\rangle, \\textbf{ k}=\\langle 0,0,1\\rangle$$"
      ],
      "metadata": {
        "id": "NHHqbUNWq5p3"
      }
    },
    {
      "cell_type": "markdown",
      "source": [
        "####$\\star$Example \n",
        "If $\\textbf{a}=\\textbf{i}+2\\textbf{j}-3\\textbf{k}$ and $\\textbf{b}=4\\textbf{i}+7\\textbf{k}$, express the vecror $2\\textbf{a}+3\\textbf{b}$ in terms of $\\textbf{i},\\textbf{j}$, and $\\textbf{k}$.\n",
        "\n",
        "\\begin{align}2\\textbf{a}+3\\textbf{b}&=2(\\textbf{i}+2\\textbf{j}-3\\textbf{k})+3(4\\textbf{i}+7\\textbf{k})\\\\&=2\\textbf{i}+4\\textbf{j}-6\\textbf{k}+12\\textbf{i}+21\\textbf{k}\\\\&=14\\textbf{i}+4\\textbf{j}+15\\textbf{k}\\end{align}"
      ],
      "metadata": {
        "id": "d74McU56v7im"
      }
    },
    {
      "cell_type": "markdown",
      "source": [
        "##Unit Vector\n",
        "$$\\textbf{u}=\\frac{1}{|\\textbf{a}|}\\textbf{a}=\\frac{\\textbf{a}}{|\\textbf{a}|}$$\n"
      ],
      "metadata": {
        "id": "UVeMpASdq7gM"
      }
    },
    {
      "cell_type": "markdown",
      "source": [
        "####$\\star$Example \n",
        "Find the unit vector in the direction of the vector $2\\textbf{i}-\\textbf{j}-2\\textbf{k}$.\n",
        "\n",
        "The given vector has length\n",
        "$$|2\\textbf{i}-\\textbf{j}-2\\textbf{k}|=\\sqrt{2^2+(-1)^2+(-2)^2}=3$$\n",
        "So, the unit vector with the same direction is\n",
        "$$\\frac{1}{3}(2\\textbf{i}-\\textbf{j}-2\\textbf{k})=\\frac{2}{3}\\textbf{i}-\\frac{1}{3}\\textbf{j}-\\frac{2}{3}\\textbf{k}$$\n"
      ],
      "metadata": {
        "id": "MAaLmgTFxLfZ"
      }
    },
    {
      "cell_type": "code",
      "source": [
        "# Vector u\n",
        "u_1 = 2\n",
        "u_2 = 1\n",
        "# Vector v\n",
        "v_1 = -1\n",
        "v_2 = 1\n",
        "# Coefficients\n",
        "c_1 = 2\n",
        "c_2 = -1\n",
        "\n",
        "axis <- c(-5,5)\n",
        "plot(axis,axis)\n",
        "grid()\n",
        "arrows(0,0,u_1,u_2,lwd=4,col=\"red\")\n",
        "arrows(0,0,v_1,v_2,lwd=4,col=\"blue\")\n",
        "\n",
        "arrows(0,0,c_1*u_1,c_1*u_2,lwd=2,col=\"red\",lty = \"dashed\")\n",
        "arrows(0,0,c_2*v_1,c_2*v_2,lwd=2,col=\"blue\",lty = \"dashed\")\n",
        "arrows(c_1*u_1,c_1*u_2,c_1*u_1+c_2*v_1,c_1*u_2+c_2*v_2,lwd=2,col=\"blue\",lty = \"dashed\")\n",
        "arrows(0,0,c_1*u_1+c_2*v_1,c_1*u_2+c_2*v_2,lwd=4)\n",
        "text(1.8,1.5,\"u\", cex=2)\n",
        "text(3.8,2.5,\"2u\", cex=2)\n",
        "text(-0.8,1.5,\"v\", cex=2)\n",
        "text(0.8,-1.5,\"-v\", cex=2)"
      ],
      "metadata": {
        "colab": {
          "base_uri": "https://localhost:8080/",
          "height": 437
        },
        "id": "UrYbBrtRqtbO",
        "outputId": "3f3f93ad-f934-46c8-c194-4330cc6682a7"
      },
      "execution_count": null,
      "outputs": [
        {
          "output_type": "display_data",
          "data": {
            "text/plain": [
              "plot without title"
            ],
            "image/png": "[encoded data removed]"
          },
          "metadata": {
            "image/png": {
              "width": 420,
              "height": 420
            }
          }
        }
      ]
    },
    {
      "cell_type": "markdown",
      "source": [
        "#12.3 The Dot Product\n"
      ],
      "metadata": {
        "id": "TRHCi5F7q9ZN"
      }
    },
    {
      "cell_type": "markdown",
      "source": [
        "##Definition of the Dot Product\n",
        "If $\\textbf{a}=\\langle a_1,a_2,a_3\\rangle$ and $\\textbf{b}=\\langle b_1,b_2,b_3\\rangle$, then the dot product of $\\textbf{a}$ and $\\textbf{b}$ is the number $\\textbf{a}\\cdot\\textbf{b}$ given by\n",
        "$$\\textbf{a}\\cdot\\textbf{b}=a_1b_1+a_2b_2+a_3b_3$$"
      ],
      "metadata": {
        "id": "1eHfASv1q_xw"
      }
    },
    {
      "cell_type": "code",
      "source": [
        "# A syntax for The dot product: %*%\n",
        "\n",
        "# Example a \n",
        "a=c(2,4)\n",
        "b=c(3,-1)\n",
        "a%*%b\n",
        "\n",
        "# Example b\n",
        "c=c(-1,7,4)\n",
        "d=c(6,2,-1/2)\n",
        "c%*%d"
      ],
      "metadata": {
        "colab": {
          "base_uri": "https://localhost:8080/",
          "height": 288
        },
        "id": "hkfr_xKmNxXa",
        "outputId": "5f4e0cd1-4823-42c5-d2ea-0f68a139e4ae"
      },
      "execution_count": null,
      "outputs": [
        {
          "output_type": "display_data",
          "data": {
            "text/html": [
              "<table class=\"dataframe\">\n",
              "<caption>A matrix: 1 × 1 of type dbl</caption>\n",
              "<tbody>\n",
              "\t<tr><td>2</td></tr>\n",
              "</tbody>\n",
              "</table>\n"
            ],
            "text/markdown": "\nA matrix: 1 × 1 of type dbl\n\n| 2 |\n\n",
            "text/latex": "A matrix: 1 × 1 of type dbl\n\\begin{tabular}{l}\n\t 2\\\\\n\\end{tabular}\n",
            "text/plain": [
              "     [,1]\n",
              "[1,] 2   "
            ]
          },
          "metadata": {}
        },
        {
          "output_type": "display_data",
          "data": {
            "text/html": [
              "<table class=\"dataframe\">\n",
              "<caption>A matrix: 1 × 1 of type dbl</caption>\n",
              "<tbody>\n",
              "\t<tr><td>6</td></tr>\n",
              "</tbody>\n",
              "</table>\n"
            ],
            "text/markdown": "\nA matrix: 1 × 1 of type dbl\n\n| 6 |\n\n",
            "text/latex": "A matrix: 1 × 1 of type dbl\n\\begin{tabular}{l}\n\t 6\\\\\n\\end{tabular}\n",
            "text/plain": [
              "     [,1]\n",
              "[1,] 6   "
            ]
          },
          "metadata": {}
        }
      ]
    },
    {
      "cell_type": "markdown",
      "source": [
        "##Properties of the Dot Product\n",
        "If $\\textbf{a}, \\textbf{b}$ and $\\textbf{c}$ are vectors in $V_3$, and $c$ is a scalar, then\n",
        "* $\\textbf{a}\\cdot\\textbf{a}=|\\textbf{a}|^2$\n",
        "* $\\textbf{a}\\cdot\\textbf{b}=\\textbf{b}\\cdot\\textbf{a}$   \n",
        "* $\\textbf{a}\\cdot(\\textbf{b}+\\textbf{c})=\\textbf{a}\\cdot\\textbf{b}+\\textbf{a}\\cdot\\textbf{c}$   \n",
        "* $(c\\textbf{a})\\cdot\\textbf{b}=c(\\textbf{a}\\cdot\\textbf{b})=\\textbf{a}\\cdot(c\\textbf{b})$ \n",
        "* $\\textbf{0}\\cdot\\textbf{a}=0$\n"
      ],
      "metadata": {
        "id": "R3TVR_QVrBpW"
      }
    },
    {
      "cell_type": "markdown",
      "source": [
        "###Theorem\n",
        "If $\\theta$ is the angle between the vectors $\\textbf{a}$ and $\\textbf{b}$, then\n",
        "$$\\textbf{a}\\cdot\\textbf{b}=|\\textbf{a}||\\textbf{b}|\\cos\\theta$$"
      ],
      "metadata": {
        "id": "hn2RFBkZrEQ6"
      }
    },
    {
      "cell_type": "markdown",
      "source": [
        "####$\\star$ Example \n",
        "If the vectors $\\textbf{a}$ and $\\textbf{b}$ have lengths 4 and 6, and the angle between them is $\\pi/3$, find $a \\cdot b$."
      ],
      "metadata": {
        "id": "SOX7xSwXPBnx"
      }
    },
    {
      "cell_type": "code",
      "source": [
        "a=4\n",
        "b=6\n",
        "a*b*cos(pi/3)"
      ],
      "metadata": {
        "colab": {
          "base_uri": "https://localhost:8080/",
          "height": 34
        },
        "id": "WH49oA00OxRK",
        "outputId": "da438e3b-a949-430e-abed-182292094633"
      },
      "execution_count": null,
      "outputs": [
        {
          "output_type": "display_data",
          "data": {
            "text/html": [
              "12"
            ],
            "text/markdown": "12",
            "text/latex": "12",
            "text/plain": [
              "[1] 12"
            ]
          },
          "metadata": {}
        }
      ]
    },
    {
      "cell_type": "markdown",
      "source": [
        "###Corollary\n",
        "If $\\theta$  is the angle between the nonzero vectors $\\textbf{a}$ and $\\textbf{b}$, then\n",
        "$$\\cos\\theta=\\frac{\\textbf{a}\\cdot\\textbf{b}}{|\\textbf{a}||\\textbf{b}|}$$\n"
      ],
      "metadata": {
        "id": "ajRiQs7JrGZP"
      }
    },
    {
      "cell_type": "markdown",
      "source": [
        "####$\\star$ Example\n",
        "Find the angle between the vectors $\\textbf{a}=\\langle2, 2, -1\\rangle$   and $\\textbf{b}=\\langle5, -3, 2\\rangle$."
      ],
      "metadata": {
        "id": "Pnisx490PpY5"
      }
    },
    {
      "cell_type": "code",
      "source": [
        "a=c(2,2,-1)\n",
        "b=c(5,-3,2)\n",
        "a_len = norm(a,type=\"2\")\n",
        "b_len = norm(b,type=\"2\")\n",
        "cos = a%*%b/(a_len*b_len)\n",
        "acos(cos)"
      ],
      "metadata": {
        "colab": {
          "base_uri": "https://localhost:8080/",
          "height": 100
        },
        "id": "Cb7pVAYnRI_m",
        "outputId": "250ee4bb-b836-4ac5-f638-e96d20190608"
      },
      "execution_count": null,
      "outputs": [
        {
          "output_type": "display_data",
          "data": {
            "text/html": [
              "<table class=\"dataframe\">\n",
              "<caption>A matrix: 1 × 1 of type dbl</caption>\n",
              "<tbody>\n",
              "\t<tr><td>1.462437</td></tr>\n",
              "</tbody>\n",
              "</table>\n"
            ],
            "text/markdown": "\nA matrix: 1 × 1 of type dbl\n\n| 1.462437 |\n\n",
            "text/latex": "A matrix: 1 × 1 of type dbl\n\\begin{tabular}{l}\n\t 1.462437\\\\\n\\end{tabular}\n",
            "text/plain": [
              "     [,1]    \n",
              "[1,] 1.462437"
            ]
          },
          "metadata": {}
        }
      ]
    },
    {
      "cell_type": "markdown",
      "source": [
        "Two vectors $\\textbf{a}$ and $\\textbf{b}$ are orthogonal if and only if $\\textbf{a}\\cdot\\textbf{b}=0$.\n"
      ],
      "metadata": {
        "id": "TtZrtTW_rIpY"
      }
    },
    {
      "cell_type": "code",
      "source": [
        "# Example \n",
        "# Show <2,2,-1> is perpendicular to <5,-4,2>\n",
        "c(2,2,-1)%*%c(5,-4,2)"
      ],
      "metadata": {
        "colab": {
          "base_uri": "https://localhost:8080/",
          "height": 153
        },
        "id": "xTvTMgs-Rw4M",
        "outputId": "26c99117-c5c3-489d-c111-d97dce374fd1"
      },
      "execution_count": null,
      "outputs": [
        {
          "output_type": "display_data",
          "data": {
            "text/html": [
              "<table class=\"dataframe\">\n",
              "<caption>A matrix: 1 × 1 of type dbl</caption>\n",
              "<tbody>\n",
              "\t<tr><td>0</td></tr>\n",
              "</tbody>\n",
              "</table>\n"
            ],
            "text/markdown": "\nA matrix: 1 × 1 of type dbl\n\n| 0 |\n\n",
            "text/latex": "A matrix: 1 × 1 of type dbl\n\\begin{tabular}{l}\n\t 0\\\\\n\\end{tabular}\n",
            "text/plain": [
              "     [,1]\n",
              "[1,] 0   "
            ]
          },
          "metadata": {}
        }
      ]
    },
    {
      "cell_type": "markdown",
      "source": [
        "##Direction Cosines\n",
        "$$\\cos\\alpha=\\frac{a_1}{|\\textbf{a}|},\\cos\\beta=\\frac{a_2}{|\\textbf{a}|},\\cos\\gamma=\\frac{a_3}{|\\textbf{a}|}$$"
      ],
      "metadata": {
        "id": "I8yHnrRXrKRo"
      }
    },
    {
      "cell_type": "code",
      "source": [
        "# Example\n",
        "# Find the direction angles of the vector <1, 2, 3>\n",
        "\n",
        "a = c(1,2,3)\n",
        "a_len = norm(a,type = \"2\")\n",
        "cosa = 1/a_len\n",
        "cosb = 2/a_len\n",
        "cosg = 3/a_len\n",
        "\n",
        "(alpha = 180*acos(cosa)/pi)\n",
        "(beta = 180*acos(cosb)/pi)\n",
        "(gamma = 180*acos(cosg)/pi)"
      ],
      "metadata": {
        "colab": {
          "base_uri": "https://localhost:8080/",
          "height": 86
        },
        "id": "VoYgp48aSICw",
        "outputId": "fdbfa0e4-df38-4ce5-8037-1a4c353d04f3"
      },
      "execution_count": null,
      "outputs": [
        {
          "output_type": "display_data",
          "data": {
            "text/html": [
              "3.74165738677394"
            ],
            "text/markdown": "3.74165738677394",
            "text/latex": "3.74165738677394",
            "text/plain": [
              "[1] 3.741657"
            ]
          },
          "metadata": {}
        },
        {
          "output_type": "display_data",
          "data": {
            "text/html": [
              "74.498640433063"
            ],
            "text/markdown": "74.498640433063",
            "text/latex": "74.498640433063",
            "text/plain": [
              "[1] 74.49864"
            ]
          },
          "metadata": {}
        },
        {
          "output_type": "display_data",
          "data": {
            "text/html": [
              "57.6884667625761"
            ],
            "text/markdown": "57.6884667625761",
            "text/latex": "57.6884667625761",
            "text/plain": [
              "[1] 57.68847"
            ]
          },
          "metadata": {}
        },
        {
          "output_type": "display_data",
          "data": {
            "text/html": [
              "36.6992252004899"
            ],
            "text/markdown": "36.6992252004899",
            "text/latex": "36.6992252004899",
            "text/plain": [
              "[1] 36.69923"
            ]
          },
          "metadata": {}
        }
      ]
    },
    {
      "cell_type": "markdown",
      "source": [
        "Scalar projection of $\\textbf{b}$ onto $\\textbf{a}$:\n",
        "$$\\text{comp}_\\textbf{a}\\textbf{b}=\\frac{\\textbf{a}\\cdot\\textbf{b}}{|\\textbf{a}|}$$\n",
        "Vector projection of $\\textbf{b}$ onto $\\textbf{a}$:\n",
        "$$\\text{proj}_\\textbf{a}\\textbf{b}=\\left(\\frac{\\textbf{a}\\cdot\\textbf{b}}{|\\textbf{a}|}\\right)\\frac{\\textbf{a}}{|\\textbf{a}|}$$"
      ],
      "metadata": {
        "id": "PE5nGap9rMiU"
      }
    },
    {
      "cell_type": "markdown",
      "source": [
        "####$\\star$ Example\n",
        "Find the scalar projection and vector projection of $\\textbf{b}=\\langle1,2,2\\rangle$ onto $\\textbf{a}=\\langle-2, 3, 1\\rangle$."
      ],
      "metadata": {
        "id": "l6yF1JBptXP6"
      }
    },
    {
      "cell_type": "code",
      "source": [
        "a=c(-2,3,1)\n",
        "b=c(1,1,2)\n",
        "a_len = norm(a,type=\"2\")\n",
        "(comp = a%*%b/a_len)\n",
        "(proj = comp*a/a_len)"
      ],
      "metadata": {
        "colab": {
          "base_uri": "https://localhost:8080/",
          "height": 222
        },
        "id": "O2IHAVPYtr1Z",
        "outputId": "bda2973b-519f-4aed-95ef-e76d45c80c94"
      },
      "execution_count": null,
      "outputs": [
        {
          "output_type": "display_data",
          "data": {
            "text/html": [
              "<table class=\"dataframe\">\n",
              "<caption>A matrix: 1 × 1 of type dbl</caption>\n",
              "<tbody>\n",
              "\t<tr><td>0.8017837</td></tr>\n",
              "</tbody>\n",
              "</table>\n"
            ],
            "text/markdown": "\nA matrix: 1 × 1 of type dbl\n\n| 0.8017837 |\n\n",
            "text/latex": "A matrix: 1 × 1 of type dbl\n\\begin{tabular}{l}\n\t 0.8017837\\\\\n\\end{tabular}\n",
            "text/plain": [
              "     [,1]     \n",
              "[1,] 0.8017837"
            ]
          },
          "metadata": {}
        },
        {
          "output_type": "stream",
          "name": "stderr",
          "text": [
            "Warning message in comp * a:\n",
            "“Recycling array of length 1 in array-vector arithmetic is deprecated.\n",
            "  Use c() or as.vector() instead.\n",
            "”\n"
          ]
        },
        {
          "output_type": "display_data",
          "data": {
            "text/html": [
              "<style>\n",
              ".list-inline {list-style: none; margin:0; padding: 0}\n",
              ".list-inline>li {display: inline-block}\n",
              ".list-inline>li:not(:last-child)::after {content: \"\\00b7\"; padding: 0 .5ex}\n",
              "</style>\n",
              "<ol class=list-inline><li>-0.428571428571429</li><li>0.642857142857143</li><li>0.214285714285714</li></ol>\n"
            ],
            "text/markdown": "1. -0.428571428571429\n2. 0.642857142857143\n3. 0.214285714285714\n\n\n",
            "text/latex": "\\begin{enumerate*}\n\\item -0.428571428571429\n\\item 0.642857142857143\n\\item 0.214285714285714\n\\end{enumerate*}\n",
            "text/plain": [
              "[1] -0.4285714  0.6428571  0.2142857"
            ]
          },
          "metadata": {}
        },
        {
          "output_type": "display_data",
          "data": {
            "text/html": [
              "0.428571428571429"
            ],
            "text/markdown": "0.428571428571429",
            "text/latex": "0.428571428571429",
            "text/plain": [
              "[1] 0.4285714"
            ]
          },
          "metadata": {}
        },
        {
          "output_type": "display_data",
          "data": {
            "text/html": [
              "0.642857142857143"
            ],
            "text/markdown": "0.642857142857143",
            "text/latex": "0.642857142857143",
            "text/plain": [
              "[1] 0.6428571"
            ]
          },
          "metadata": {}
        },
        {
          "output_type": "display_data",
          "data": {
            "text/html": [
              "0.214285714285714"
            ],
            "text/markdown": "0.214285714285714",
            "text/latex": "0.214285714285714",
            "text/plain": [
              "[1] 0.2142857"
            ]
          },
          "metadata": {}
        }
      ]
    },
    {
      "cell_type": "markdown",
      "source": [
        "#12.4 The Cross Product"
      ],
      "metadata": {
        "id": "JW389hYerQKJ"
      }
    },
    {
      "cell_type": "markdown",
      "source": [
        "##Definition of the Cross Product\n",
        "If $\\textbf{a}=\\langle a_1,a_2,a_3\\rangle$ and $\\textbf{b}=\\langle b_1,b_2,b_3\\rangle$, then the cross product of $\\textbf{a}$ and $\\textbf{b}$ is the vector $$\\textbf{a}\\times\\textbf{b}=\\langle a_2b_3-a_3b_2,a_3b_1-a_1b_3,a_1b_2-a_2b_1\\rangle$$\n",
        " $$\\textbf{a}\\times\\textbf{b}=\\begin{vmatrix}\\textbf{i}&\\textbf{j}&\\textbf{k}\\\\\n",
        " a_1&a_2&a_3\\\\\n",
        " b_1&b_2&b_3\\end{vmatrix}$$\n",
        " "
      ],
      "metadata": {
        "id": "5uaj07IkrR3o"
      }
    },
    {
      "cell_type": "markdown",
      "source": [
        "####$\\star$ Example\n",
        "If $\\textbf{a}=\\langle1,3,4\\rangle$ onto $\\textbf{a}=\\langle2,7,-5\\rangle$, then what is $\\textbf{a}\\times\\textbf{b}$?"
      ],
      "metadata": {
        "id": "6mCz3vNeunEU"
      }
    },
    {
      "cell_type": "code",
      "source": [
        "install.packages(\"pracma\")\n",
        "library(pracma)"
      ],
      "metadata": {
        "id": "D7ZlUzUBv5tb",
        "colab": {
          "base_uri": "https://localhost:8080/"
        },
        "outputId": "49929533-a07a-48cb-f199-4dd1cea03a2f"
      },
      "execution_count": null,
      "outputs": [
        {
          "output_type": "stream",
          "name": "stderr",
          "text": [
            "Installing package into ‘/usr/local/lib/R/site-library’\n",
            "(as ‘lib’ is unspecified)\n",
            "\n"
          ]
        }
      ]
    },
    {
      "cell_type": "code",
      "source": [
        "# The syntax for the cross product: cross()\n",
        "# cross() is in library(pracma)\n",
        "\n",
        "a=c(1,3,4)\n",
        "b=c(2,7,-5)\n",
        "cross(a,b)"
      ],
      "metadata": {
        "colab": {
          "base_uri": "https://localhost:8080/",
          "height": 34
        },
        "id": "_qXT6MRhum06",
        "outputId": "2c333543-a2e6-4bbd-af54-3fc28a65f1de"
      },
      "execution_count": null,
      "outputs": [
        {
          "output_type": "display_data",
          "data": {
            "text/html": [
              "<style>\n",
              ".list-inline {list-style: none; margin:0; padding: 0}\n",
              ".list-inline>li {display: inline-block}\n",
              ".list-inline>li:not(:last-child)::after {content: \"\\00b7\"; padding: 0 .5ex}\n",
              "</style>\n",
              "<ol class=list-inline><li>-43</li><li>13</li><li>1</li></ol>\n"
            ],
            "text/markdown": "1. -43\n2. 13\n3. 1\n\n\n",
            "text/latex": "\\begin{enumerate*}\n\\item -43\n\\item 13\n\\item 1\n\\end{enumerate*}\n",
            "text/plain": [
              "[1] -43  13   1"
            ]
          },
          "metadata": {}
        }
      ]
    },
    {
      "cell_type": "markdown",
      "source": [
        "\n",
        "###Theorem\n",
        "The vector $\\textbf{a}\\times\\textbf{b}$ is  orthogonal to both  $\\textbf{a}$ and $\\textbf{b}$.\n"
      ],
      "metadata": {
        "id": "Fa3-l79orUuN"
      }
    },
    {
      "cell_type": "markdown",
      "source": [
        "###Theorem\n",
        "If $\\theta$ is the angle between $\\textbf{a}$ and $\\textbf{b}$ (so $0\\leq \\theta\\leq\\pi)$, then\n",
        "$$|\\textbf{a}\\times\\textbf{b}|=|\\textbf{a}||\\textbf{b}|\\sin\\theta$$\n"
      ],
      "metadata": {
        "id": "RO2emLmyrW8E"
      }
    },
    {
      "cell_type": "markdown",
      "source": [
        "###Corollary\n",
        "Two nonzero vectors $\\textbf{a}$ and $\\textbf{b}$ are parallel if and only if\n",
        "$$\\textbf{a}\\times\\textbf{b}=\\textbf{0}$$"
      ],
      "metadata": {
        "id": "CCgym72rrZIi"
      }
    },
    {
      "cell_type": "markdown",
      "source": [
        "The length of the cross product $\\textbf{a}\\times\\textbf{b}$ is equal to the area of the parallelogram determined by $\\textbf{a}$ and $\\textbf{b}$."
      ],
      "metadata": {
        "id": "O6HYDqRLrbQy"
      }
    },
    {
      "cell_type": "markdown",
      "source": [
        "####$\\star$Example\n",
        "\n",
        "1.   Find a vector perpendicular to the plane that passes through the points $P(1,4,6)$, $Q(-2,5,-1)$, and $R(1,-1,1)$.\n",
        "2.   Find the area of the triangle with vertices $P(1,4,6)$, $Q(-2,5,-1)$, and $R(1,-1,1)$.\n",
        "\n",
        "**Solution:**\n",
        "\n",
        "The vector $\\vec{PQ}\\times\\vec{PR}$ is perpendicular to both $\\vec{PQ}$ and $\\vec{PR}$ is therefore perpendicular to the plane through $P$, $Q$, and $R$. \n",
        "$$\\vec{PQ}=-3\\textbf{i}+\\textbf{j}-7\\textbf{k}$$\n",
        "$$\\vec{PR}=-5\\textbf{j}-5\\textbf{k}$$\n",
        "We compute the cross product of these vectors:\n",
        "$$\\vec{PQ}\\times\\vec{PR}=\\begin{vmatrix}\\textbf{i}&\\textbf{j}&\\textbf{k}\\\\-3&1&-7\\\\0&-5&-5\\end{vmatrix}\\\\\n",
        "=-40\\textbf{i}-15\\textbf{j}+15\\textbf{k}$$\n",
        "\n",
        "So the vector $\\langle-40,-15,15\\rangle$ is perpendicular to the given plane. Any nonzero scalar multiple of this vector, such as $\\langle-8,-3,3\\rangle$, is also perpendicular to the plane.\n",
        "\n",
        "The area of the parallelogram with adjacent sides $PQ$ and $PR$ is the length of this cross product:\n",
        "$$|\\vec{PQ}\\times\\vec{PR}=\\sqrt{(-40)^2+(-15)^2+15^2}=5\\sqrt{82}$$\n",
        "\n",
        "The area $A$ of the triangle $PQR$ is half the area of this parallelogram, that is, $\\frac{5}{2}\\sqrt{82}$.\n"
      ],
      "metadata": {
        "id": "tK2GNcGAIrms"
      }
    },
    {
      "cell_type": "markdown",
      "source": [
        "##Triple Products\n",
        "The volume of the parallelepiped determined by the vectors $\\textbf{a}$, $\\textbf{b}$ and $\\textbf{c}$ is the magnitude of their scalar triple product:\n",
        "$$V =|\\textbf{a}\\cdot(\\textbf{b}\\times\\textbf{c})|$$"
      ],
      "metadata": {
        "id": "mYq10Kcgrc-h"
      }
    },
    {
      "cell_type": "code",
      "source": [
        "# Example \n",
        "# Use the scalar triple product to show that the following vectors are coplanar.\n",
        "a=c(1,4,-7)\n",
        "b=c(2,-1,4)\n",
        "c=c(0,-9,18)\n",
        "\n",
        "(volume = a%*%(cross(b,c)))\n",
        "\n",
        "# The volume of the parallelepiped determined by a, b, and c is 0. \n",
        "# This means that a, b, and c are coplanar."
      ],
      "metadata": {
        "colab": {
          "base_uri": "https://localhost:8080/",
          "height": 153
        },
        "id": "8U2k07PMLeiq",
        "outputId": "7536b49c-0a00-48ca-ed41-ae9152113734"
      },
      "execution_count": null,
      "outputs": [
        {
          "output_type": "display_data",
          "data": {
            "text/html": [
              "<table class=\"dataframe\">\n",
              "<caption>A matrix: 1 × 1 of type dbl</caption>\n",
              "<tbody>\n",
              "\t<tr><td>0</td></tr>\n",
              "</tbody>\n",
              "</table>\n"
            ],
            "text/markdown": "\nA matrix: 1 × 1 of type dbl\n\n| 0 |\n\n",
            "text/latex": "A matrix: 1 × 1 of type dbl\n\\begin{tabular}{l}\n\t 0\\\\\n\\end{tabular}\n",
            "text/plain": [
              "     [,1]\n",
              "[1,] 0   "
            ]
          },
          "metadata": {}
        }
      ]
    },
    {
      "cell_type": "markdown",
      "source": [
        "#12.5 Equations of Lines and Planes"
      ],
      "metadata": {
        "id": "8Io3GPujrexp"
      }
    },
    {
      "cell_type": "markdown",
      "source": [
        "##Vector Equation of $L$\n",
        "$$\\textbf{r}=\\textbf{r}_0+t\\textbf{v}$$"
      ],
      "metadata": {
        "id": "pZGvafWgrhUU"
      }
    },
    {
      "cell_type": "markdown",
      "source": [
        "##Parametric Equations of $L$\n",
        "Parametric equations for a line through the point $(x_0, y_0, z_0)$ and parallel to the direction vector $\\langle a,b,c\\rangle$ are\n",
        "$$x=x_0+at, y=y_0+bt, z=z_0+ct$$\n"
      ],
      "metadata": {
        "id": "yP-wM4nNrfcH"
      }
    },
    {
      "cell_type": "markdown",
      "source": [
        "##Symmetric Equations of $L$\n",
        "$$\\frac{x-x_0}{a}=\\frac{y-y_0}{b}=\\frac{z-z_0}{c}$$"
      ],
      "metadata": {
        "id": "1j0eU0e3rkJ-"
      }
    },
    {
      "cell_type": "markdown",
      "source": [
        "The line segment from $\\textbf{r}_0$ to $\\textbf{r}_1$ is given by the vector equation\n",
        "$$\\textbf{r}(t)=(1-t)\\textbf{r}_0+t\\textbf{r}_1 \\hspace{5mm} 0\\leq t\\leq 1$$\n"
      ],
      "metadata": {
        "id": "gK_hNDfLrnGo"
      }
    },
    {
      "cell_type": "markdown",
      "source": [
        "##Vector Equation of the Plane\n",
        "$$\\textbf{n}\\cdot(\\textbf{r}-\\textbf{r}_0)=0$$\n",
        "$$\\textbf{n}\\cdot\\textbf{r}=\\textbf{n}\\cdot\\textbf{r}_0$$\n"
      ],
      "metadata": {
        "id": "bvtsi2q1rpez"
      }
    },
    {
      "cell_type": "markdown",
      "source": [
        "##Scalar Equation of the Plane\n",
        "A scalar equation of the plane through point $P_0(x_0, y_0, z_0)$ with normal vector $\\textbf{n}=\\langle a,b,c\\rangle$ is $$a(x-x_0)+b(y-y_0)+c(z-z_0)=0$$\n"
      ],
      "metadata": {
        "id": "GYlA6ufdrscg"
      }
    },
    {
      "cell_type": "markdown",
      "source": [
        "##Linear Equation\n",
        "Linear equation in x, y, and z is\n",
        "$$ax+by+cz+d=0$$"
      ],
      "metadata": {
        "id": "yUZS9Vhsrw9G"
      }
    },
    {
      "cell_type": "markdown",
      "source": [
        "##The Distance Formula\n",
        "$$D=\\frac{|ax_1+by_1+cz_1+d|}{\\sqrt{a^2+b^2+c^2}}$$"
      ],
      "metadata": {
        "id": "MyKiBV3CrvqP"
      }
    },
    {
      "cell_type": "markdown",
      "source": [
        "#12.6 Cylinders and Quadric Surfaces"
      ],
      "metadata": {
        "id": "7NGIjAQ_r2Gp"
      }
    },
    {
      "cell_type": "code",
      "source": [],
      "metadata": {
        "id": "xnLI15psrSzt"
      },
      "execution_count": null,
      "outputs": []
    }
  ]
}